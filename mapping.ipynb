{
 "cells": [
  {
   "cell_type": "markdown",
   "metadata": {},
   "source": [
    "## **Visualisation des parcelles dédiées à l'agriculture biologique en France** "
   ]
  },
  {
   "cell_type": "code",
   "execution_count": 1,
   "metadata": {},
   "outputs": [
    {
     "name": "stdout",
     "output_type": "stream",
     "text": [
      "Requirement already satisfied: geopandas in /opt/conda/lib/python3.12/site-packages (1.0.1)\n",
      "Requirement already satisfied: fiona in /opt/conda/lib/python3.12/site-packages (1.10.1)\n",
      "Requirement already satisfied: pyogrio in /opt/conda/lib/python3.12/site-packages (0.10.0)\n",
      "Requirement already satisfied: shapely in /opt/conda/lib/python3.12/site-packages (2.0.6)\n",
      "Requirement already satisfied: numpy>=1.22 in /opt/conda/lib/python3.12/site-packages (from geopandas) (2.1.3)\n",
      "Requirement already satisfied: packaging in /opt/conda/lib/python3.12/site-packages (from geopandas) (24.1)\n",
      "Requirement already satisfied: pandas>=1.4.0 in /opt/conda/lib/python3.12/site-packages (from geopandas) (2.2.3)\n",
      "Requirement already satisfied: pyproj>=3.3.0 in /opt/conda/lib/python3.12/site-packages (from geopandas) (3.7.0)\n",
      "Requirement already satisfied: attrs>=19.2.0 in /opt/conda/lib/python3.12/site-packages (from fiona) (24.2.0)\n",
      "Requirement already satisfied: certifi in /opt/conda/lib/python3.12/site-packages (from fiona) (2024.8.30)\n",
      "Requirement already satisfied: click~=8.0 in /opt/conda/lib/python3.12/site-packages (from fiona) (8.1.7)\n",
      "Requirement already satisfied: click-plugins>=1.0 in /opt/conda/lib/python3.12/site-packages (from fiona) (1.1.1)\n",
      "Requirement already satisfied: cligj>=0.5 in /opt/conda/lib/python3.12/site-packages (from fiona) (0.7.2)\n",
      "Requirement already satisfied: python-dateutil>=2.8.2 in /opt/conda/lib/python3.12/site-packages (from pandas>=1.4.0->geopandas) (2.9.0.post0)\n",
      "Requirement already satisfied: pytz>=2020.1 in /opt/conda/lib/python3.12/site-packages (from pandas>=1.4.0->geopandas) (2024.1)\n",
      "Requirement already satisfied: tzdata>=2022.7 in /opt/conda/lib/python3.12/site-packages (from pandas>=1.4.0->geopandas) (2024.2)\n",
      "Requirement already satisfied: six>=1.5 in /opt/conda/lib/python3.12/site-packages (from python-dateutil>=2.8.2->pandas>=1.4.0->geopandas) (1.16.0)\n"
     ]
    }
   ],
   "source": [
    "!pip install geopandas fiona pyogrio shapely"
   ]
  },
  {
   "cell_type": "code",
   "execution_count": 2,
   "metadata": {},
   "outputs": [
    {
     "name": "stdout",
     "output_type": "stream",
     "text": [
      "Aperçu des données :\n",
      "       gid  millesime code_culture precision_culture  \\\n",
      "0  3522951       2023          CPL               001   \n",
      "1  3522960       2023          LUZ               002   \n",
      "2  3522963       2023          ORP               001   \n",
      "3  3522969       2023          TTH               001   \n",
      "4  3703073       2023          BOR              None   \n",
      "\n",
      "                                         lbl_culture      grp_culture  \\\n",
      "0  Mélange multi-espèces (céréales, oléagineux, l...         Fourrage   \n",
      "1                                      Autre luzerne         Fourrage   \n",
      "2                                  Orge de printemps             Orge   \n",
      "3                                  Triticale d’hiver  Autres céréales   \n",
      "4                                   Bordure de champ           Divers   \n",
      "\n",
      "   surface_ha code_commune_insee               lbl_commune    code_epci  \\\n",
      "0        5.36              32080  Castelnau-sur-l'Auvignon  243200417.0   \n",
      "1        4.97              32054                     Biran  200066926.0   \n",
      "2        5.11              32059                     Bonas  200066926.0   \n",
      "3        7.93              32035                 Beaucaire  243200417.0   \n",
      "4        0.01              34224               Puissalicon  200071058.0   \n",
      "\n",
      "  code_departement  code_region     zone_geo  \\\n",
      "0               32           76  France mét.   \n",
      "1               32           76  France mét.   \n",
      "2               32           76  France mét.   \n",
      "3               32           76  France mét.   \n",
      "4               34           76  France mét.   \n",
      "\n",
      "                                            geometry  \n",
      "0  MULTIPOLYGON (((0.47366 43.95297, 0.47371 43.9...  \n",
      "1  MULTIPOLYGON (((0.40328 43.70128, 0.40363 43.7...  \n",
      "2  MULTIPOLYGON (((0.40185 43.76933, 0.40265 43.7...  \n",
      "3  MULTIPOLYGON (((0.40306 43.81568, 0.40301 43.8...  \n",
      "4  MULTIPOLYGON (((3.24518 43.45235, 3.24517 43.4...  \n"
     ]
    }
   ],
   "source": [
    "import geopandas as gpd\n",
    "file_path = \"/home/onyxia/work/rpg-bio-2023-national.gpkg\"\n",
    "# Charger le fichier GPKG avec geopandas\n",
    "gdf = gpd.read_file(file_path)\n",
    "# Afficher les 5 premières lignes pour vérifier les données\n",
    "print(\"Aperçu des données :\")\n",
    "print(gdf.head())"
   ]
  },
  {
   "cell_type": "code",
   "execution_count": 3,
   "metadata": {},
   "outputs": [
    {
     "data": {
      "text/plain": [
       "Index(['gid', 'millesime', 'code_culture', 'precision_culture', 'lbl_culture',\n",
       "       'grp_culture', 'surface_ha', 'code_commune_insee', 'lbl_commune',\n",
       "       'code_epci', 'code_departement', 'code_region', 'zone_geo', 'geometry'],\n",
       "      dtype='object')"
      ]
     },
     "execution_count": 3,
     "metadata": {},
     "output_type": "execute_result"
    }
   ],
   "source": [
    "gdf.columns"
   ]
  },
  {
   "cell_type": "markdown",
   "metadata": {},
   "source": []
  },
  {
   "cell_type": "markdown",
   "metadata": {},
   "source": [
    "Travail sur la base de données pour rendre réduire la complexité du travail pour le code "
   ]
  },
  {
   "cell_type": "code",
   "execution_count": 4,
   "metadata": {},
   "outputs": [
    {
     "name": "stdout",
     "output_type": "stream",
     "text": [
      "Statistiques descriptives de la surface des parcelles (en hectares) :\n",
      "count    1.165465e+06\n",
      "mean     2.458880e+00\n",
      "std      1.186557e+01\n",
      "min      0.000000e+00\n",
      "25%      3.700000e-01\n",
      "50%      1.040000e+00\n",
      "75%      2.630000e+00\n",
      "max      6.529650e+03\n",
      "Name: surface_ha, dtype: float64\n"
     ]
    }
   ],
   "source": [
    "import pandas as pd\n",
    "\n",
    "# Obtenir des statistiques descriptives\n",
    "surface_stats = gdf[\"surface_ha\"].describe()\n",
    "\n",
    "# Afficher les statistiques\n",
    "print(\"Statistiques descriptives de la surface des parcelles (en hectares) :\")\n",
    "print(surface_stats)\n"
   ]
  },
  {
   "cell_type": "code",
   "execution_count": null,
   "metadata": {},
   "outputs": [],
   "source": [
    "import folium\n",
    "\n",
    "def create_map_for_region(region_code, gdf, output_dir=\"maps\"):\n",
    "    \"\"\"\n",
    "    Génère une carte pour une région spécifique.\n",
    "    \n",
    "    Args:\n",
    "        region_code (str): Le code de la région à filtrer.\n",
    "        gdf (GeoDataFrame): Le GeoDataFrame contenant toutes les données.\n",
    "        output_dir (str): Répertoire où enregistrer la carte.\n",
    "    \"\"\"\n",
    "    # Filtrer les données pour la région\n",
    "    gdf_region = gdf[gdf[\"code_region\"] == region_code]\n",
    "    \n",
    "    # Simplifier les géométries pour alléger la carte\n",
    "    gdf_region[\"geometry\"] = gdf_region[\"geometry\"].simplify(tolerance=0.01)\n",
    "\n",
    "    # Créer une carte centrée sur la région\n",
    "    m = folium.Map(location=[46.603354, 1.888334], zoom_start=6)\n",
    "\n",
    "    # Ajouter les données géospatiales\n",
    "    folium.GeoJson(\n",
    "        gdf_region,\n",
    "        name=f\"Région {region_code}\",\n",
    "        tooltip=folium.GeoJsonTooltip(fields=[\"lbl_culture\", \"surface_ha\", \"lbl_commune\"],\n",
    "                                      aliases=[\"Culture\", \"Surface (ha)\", \"Commune\"])\n",
    "    ).add_to(m)\n",
    "\n",
    "    # Créer un nom de fichier basé sur la région\n",
    "    map_file = f\"{output_dir}/map_region_{region_code}.html\"\n",
    "\n",
    "    # Enregistrer la carte\n",
    "    m.save(map_file)\n",
    "    print(f\"Carte enregistrée pour la région {region_code} : {map_file}\")\n"
   ]
  },
  {
   "cell_type": "code",
   "execution_count": 13,
   "metadata": {},
   "outputs": [
    {
     "data": {
      "image/png": "[encoded data removed]",
      "text/plain": [
       "<Figure size 1000x600 with 1 Axes>"
      ]
     },
     "metadata": {},
     "output_type": "display_data"
    }
   ],
   "source": [
    "import matplotlib.pyplot as plt\n",
    "\n",
    "# Créer un histogramme limité entre 0 et 100 hectares\n",
    "plt.figure(figsize=(10, 6))\n",
    "plt.hist(gdf[\"surface_ha\"], bins=60, range=(0, 15), color=\"blue\", edgecolor=\"black\")\n",
    "plt.title(\"Répartition des surfaces des parcelles biologiques (0 à 100 hectares)\")\n",
    "plt.xlabel(\"Surface des parcelles (ha)\")\n",
    "plt.ylabel(\"Nombre de parcelles\")\n",
    "plt.grid(True)\n",
    "plt.show()"
   ]
  },
  {
   "cell_type": "code",
   "execution_count": 17,
   "metadata": {},
   "outputs": [
    {
     "data": {
      "image/png": "[encoded data removed]",
      "text/plain": [
       "<Figure size 1200x600 with 1 Axes>"
      ]
     },
     "metadata": {},
     "output_type": "display_data"
    }
   ],
   "source": [
    "import numpy as np\n",
    "\n",
    "# Ajouter une colonne avec la transformation logarithmique\n",
    "gdf[\"log_surface_ha\"] = np.log1p(gdf[\"surface_ha\"])  # log(1 + surface_ha) pour éviter log(0)\n",
    "\n",
    "# Créer un boxplot de la surface transformée\n",
    "plt.figure(figsize=(12, 6))\n",
    "plt.boxplot(gdf[\"log_surface_ha\"], vert=False, patch_artist=True, boxprops=dict(facecolor=\"lightgreen\", color=\"black\"))\n",
    "plt.title(\"Distribution logarithmique des surfaces des parcelles biologiques\")\n",
    "plt.xlabel(\"log(Surface des parcelles + 1)\")\n",
    "plt.grid(True, linestyle='--', alpha=0.7)\n",
    "plt.show()\n",
    "\n",
    "\n"
   ]
  },
  {
   "cell_type": "code",
   "execution_count": 28,
   "metadata": {},
   "outputs": [],
   "source": [
    "# Dictionnaire des codes des régions et de leurs noms\n",
    "region_names = {\n",
    "    \"84\": \"Auvergne-Rhône-Alpes\",\n",
    "    \"27\": \"Bourgogne-Franche-Comté\",\n",
    "    \"53\": \"Bretagne\",\n",
    "    \"24\": \"Centre-Val de Loire\",\n",
    "    \"94\": \"Corse\",\n",
    "    \"44\": \"Grand Est\",\n",
    "    \"32\": \"Hauts-de-France\",\n",
    "    \"11\": \"Île-de-France\",\n",
    "    \"28\": \"Normandie\",\n",
    "    \"75\": \"Nouvelle-Aquitaine\",\n",
    "    \"76\": \"Occitanie\",\n",
    "    \"52\": \"Pays de la Loire\",\n",
    "    \"93\": \"Provence-Alpes-Côte d'Azur\",\n",
    "    \"01\": \"Guadeloupe\",\n",
    "    \"02\": \"Martinique\",\n",
    "    \"03\": \"Guyane\",\n",
    "    \"04\": \"La Réunion\",\n",
    "    \"06\": \"Mayotte\"\n",
    "}\n"
   ]
  },
  {
   "cell_type": "code",
   "execution_count": 30,
   "metadata": {},
   "outputs": [
    {
     "name": "stdout",
     "output_type": "stream",
     "text": [
      "Empty DataFrame\n",
      "Columns: [code_region, nom_region]\n",
      "Index: []\n"
     ]
    }
   ],
   "source": [
    "# Ajouter ou mettre à jour la colonne \"nom_region\" avec les noms mappés\n",
    "gdf[\"nom_region\"] = gdf[\"code_region\"].map(region_names)\n",
    "\n",
    "# Vérifier que les noms sont bien associés\n",
    "print(gdf[gdf[\"code_region\"] == \"76\"][[\"code_region\", \"nom_region\"]].head())\n",
    "\n"
   ]
  },
  {
   "cell_type": "code",
   "execution_count": 31,
   "metadata": {},
   "outputs": [
    {
     "name": "stdout",
     "output_type": "stream",
     "text": [
      "Empty DataFrame\n",
      "Columns: [code_region, nom_region]\n",
      "Index: []\n"
     ]
    }
   ],
   "source": [
    "# Remplacer les valeurs NaN par \"Région inconnue\"\n",
    "gdf[\"nom_region\"] = gdf[\"nom_region\"].fillna(\"Région inconnue\")\n",
    "\n",
    "# Vérifier le résultat pour le code 76\n",
    "print(gdf[gdf[\"code_region\"] == \"76\"][[\"code_region\", \"nom_region\"]].head())\n"
   ]
  },
  {
   "cell_type": "code",
   "execution_count": null,
   "metadata": {},
   "outputs": [
    {
     "name": "stdout",
     "output_type": "stream",
     "text": [
      "Codes région non mappés : []\n"
     ]
    }
   ],
   "source": []
  },
  {
   "cell_type": "code",
   "execution_count": 20,
   "metadata": {},
   "outputs": [
    {
     "name": "stdout",
     "output_type": "stream",
     "text": [
      "Surface minimale : 0.37 ha\n",
      "Surface maximale (sans outliers) : 6.02 ha\n",
      "Nombre de parcelles après filtrage : 595771\n"
     ]
    }
   ],
   "source": [
    "# Calcul des statistiques descriptives\n",
    "Q1 = gdf[\"surface_ha\"].quantile(0.25)  # Premier quartile\n",
    "Q3 = gdf[\"surface_ha\"].quantile(0.75)  # Troisième quartile\n",
    "IQR = Q3 - Q1  # Etendue interquartile\n",
    "\n",
    "# Définir une surface minimale basée sur le premier quartile\n",
    "surface_min = Q1\n",
    "surface_max = Q3 + 1.5 * IQR  # Facultatif, pour filtrer les outliers\n",
    "print(f\"Surface minimale : {surface_min:.2f} ha\")\n",
    "print(f\"Surface maximale (sans outliers) : {surface_max:.2f} ha\")\n",
    "\n",
    "# Filtrer les parcelles avec une surface > 1 hectare\n",
    "gdf_filtered = gdf[gdf[\"surface_ha\"] > 1]\n",
    "\n",
    "# Nombre de parcelles restantes\n",
    "print(f\"Nombre de parcelles après filtrage : {len(gdf_filtered)}\")\n"
   ]
  },
  {
   "cell_type": "code",
   "execution_count": 21,
   "metadata": {},
   "outputs": [],
   "source": [
    "import folium\n",
    "import os\n",
    "\n",
    "def create_map_for_region(region_code, gdf, surface_min=1, output_dir=\"maps\"):\n",
    "    \"\"\"\n",
    "    Génère une carte pour une région spécifique en filtrant sur une surface minimale.\n",
    "    \n",
    "    Args:\n",
    "        region_code (str): Code de la région à filtrer.\n",
    "        gdf (GeoDataFrame): GeoDataFrame contenant les données de toutes les parcelles.\n",
    "        surface_min (float): Surface minimale en hectares pour inclure une parcelle.\n",
    "        output_dir (str): Répertoire où enregistrer la carte générée.\n",
    "    \"\"\"\n",
    "    # Créer le répertoire de sortie s'il n'existe pas\n",
    "    os.makedirs(output_dir, exist_ok=True)\n",
    "    \n",
    "    # Filtrer les parcelles par région et surface minimale\n",
    "    gdf_region = gdf[(gdf[\"code_region\"] == region_code) & (gdf[\"surface_ha\"] > surface_min)]\n",
    "    \n",
    "    # Vérifier si des parcelles répondent au critère\n",
    "    if gdf_region.empty:\n",
    "        print(f\"Aucune parcelle à afficher pour la région {region_code} avec surface > {surface_min} ha.\")\n",
    "        return\n",
    "    \n",
    "    # Simplifier les géométries pour alléger la carte\n",
    "    gdf_region[\"geometry\"] = gdf_region[\"geometry\"].simplify(tolerance=0.01)\n",
    "    \n",
    "    # Créer une carte centrée sur la France métropolitaine\n",
    "    m = folium.Map(location=[46.603354, 1.888334], zoom_start=6)\n",
    "\n",
    "    # Ajouter les données géospatiales\n",
    "    folium.GeoJson(\n",
    "        gdf_region,\n",
    "        name=f\"Région {region_code}\",\n",
    "        tooltip=folium.GeoJsonTooltip(fields=[\"lbl_culture\", \"surface_ha\", \"lbl_commune\"],\n",
    "                                      aliases=[\"Culture\", \"Surface (ha)\", \"Commune\"])\n",
    "    ).add_to(m)\n",
    "\n",
    "    # Créer un nom de fichier pour la région\n",
    "    map_file = os.path.join(output_dir, f\"map_region_{region_code}.html\")\n",
    "    \n",
    "    # Enregistrer la carte\n",
    "    m.save(map_file)\n",
    "    print(f\"Carte générée pour la région {region_code} avec surface > {surface_min} ha : {map_file}\")\n"
   ]
  },
  {
   "cell_type": "code",
   "execution_count": 23,
   "metadata": {},
   "outputs": [
    {
     "name": "stderr",
     "output_type": "stream",
     "text": [
      "/opt/conda/lib/python3.12/site-packages/geopandas/geodataframe.py:1819: SettingWithCopyWarning: \n",
      "A value is trying to be set on a copy of a slice from a DataFrame.\n",
      "Try using .loc[row_indexer,col_indexer] = value instead\n",
      "\n",
      "See the caveats in the documentation: https://pandas.pydata.org/pandas-docs/stable/user_guide/indexing.html#returning-a-view-versus-a-copy\n",
      "  super().__setitem__(key, value)\n"
     ]
    },
    {
     "name": "stdout",
     "output_type": "stream",
     "text": [
      "Carte générée pour la région 76 avec surface > 1 ha : maps/map_region_76.html\n"
     ]
    },
    {
     "name": "stderr",
     "output_type": "stream",
     "text": [
      "/opt/conda/lib/python3.12/site-packages/geopandas/geodataframe.py:1819: SettingWithCopyWarning: \n",
      "A value is trying to be set on a copy of a slice from a DataFrame.\n",
      "Try using .loc[row_indexer,col_indexer] = value instead\n",
      "\n",
      "See the caveats in the documentation: https://pandas.pydata.org/pandas-docs/stable/user_guide/indexing.html#returning-a-view-versus-a-copy\n",
      "  super().__setitem__(key, value)\n"
     ]
    },
    {
     "name": "stdout",
     "output_type": "stream",
     "text": [
      "Carte générée pour la région 75 avec surface > 1 ha : maps/map_region_75.html\n"
     ]
    },
    {
     "name": "stderr",
     "output_type": "stream",
     "text": [
      "/opt/conda/lib/python3.12/site-packages/geopandas/geodataframe.py:1819: SettingWithCopyWarning: \n",
      "A value is trying to be set on a copy of a slice from a DataFrame.\n",
      "Try using .loc[row_indexer,col_indexer] = value instead\n",
      "\n",
      "See the caveats in the documentation: https://pandas.pydata.org/pandas-docs/stable/user_guide/indexing.html#returning-a-view-versus-a-copy\n",
      "  super().__setitem__(key, value)\n"
     ]
    },
    {
     "name": "stdout",
     "output_type": "stream",
     "text": [
      "Carte générée pour la région 53 avec surface > 1 ha : maps/map_region_53.html\n"
     ]
    },
    {
     "name": "stderr",
     "output_type": "stream",
     "text": [
      "/opt/conda/lib/python3.12/site-packages/geopandas/geodataframe.py:1819: SettingWithCopyWarning: \n",
      "A value is trying to be set on a copy of a slice from a DataFrame.\n",
      "Try using .loc[row_indexer,col_indexer] = value instead\n",
      "\n",
      "See the caveats in the documentation: https://pandas.pydata.org/pandas-docs/stable/user_guide/indexing.html#returning-a-view-versus-a-copy\n",
      "  super().__setitem__(key, value)\n"
     ]
    },
    {
     "name": "stdout",
     "output_type": "stream",
     "text": [
      "Carte générée pour la région 24 avec surface > 1 ha : maps/map_region_24.html\n"
     ]
    },
    {
     "name": "stderr",
     "output_type": "stream",
     "text": [
      "/opt/conda/lib/python3.12/site-packages/geopandas/geodataframe.py:1819: SettingWithCopyWarning: \n",
      "A value is trying to be set on a copy of a slice from a DataFrame.\n",
      "Try using .loc[row_indexer,col_indexer] = value instead\n",
      "\n",
      "See the caveats in the documentation: https://pandas.pydata.org/pandas-docs/stable/user_guide/indexing.html#returning-a-view-versus-a-copy\n",
      "  super().__setitem__(key, value)\n"
     ]
    },
    {
     "name": "stdout",
     "output_type": "stream",
     "text": [
      "Carte générée pour la région 84 avec surface > 1 ha : maps/map_region_84.html\n"
     ]
    },
    {
     "name": "stderr",
     "output_type": "stream",
     "text": [
      "/opt/conda/lib/python3.12/site-packages/geopandas/geodataframe.py:1819: SettingWithCopyWarning: \n",
      "A value is trying to be set on a copy of a slice from a DataFrame.\n",
      "Try using .loc[row_indexer,col_indexer] = value instead\n",
      "\n",
      "See the caveats in the documentation: https://pandas.pydata.org/pandas-docs/stable/user_guide/indexing.html#returning-a-view-versus-a-copy\n",
      "  super().__setitem__(key, value)\n"
     ]
    },
    {
     "name": "stdout",
     "output_type": "stream",
     "text": [
      "Carte générée pour la région 27 avec surface > 1 ha : maps/map_region_27.html\n"
     ]
    },
    {
     "name": "stderr",
     "output_type": "stream",
     "text": [
      "/opt/conda/lib/python3.12/site-packages/geopandas/geodataframe.py:1819: SettingWithCopyWarning: \n",
      "A value is trying to be set on a copy of a slice from a DataFrame.\n",
      "Try using .loc[row_indexer,col_indexer] = value instead\n",
      "\n",
      "See the caveats in the documentation: https://pandas.pydata.org/pandas-docs/stable/user_guide/indexing.html#returning-a-view-versus-a-copy\n",
      "  super().__setitem__(key, value)\n"
     ]
    },
    {
     "name": "stdout",
     "output_type": "stream",
     "text": [
      "Carte générée pour la région 28 avec surface > 1 ha : maps/map_region_28.html\n"
     ]
    },
    {
     "name": "stderr",
     "output_type": "stream",
     "text": [
      "/opt/conda/lib/python3.12/site-packages/geopandas/geodataframe.py:1819: SettingWithCopyWarning: \n",
      "A value is trying to be set on a copy of a slice from a DataFrame.\n",
      "Try using .loc[row_indexer,col_indexer] = value instead\n",
      "\n",
      "See the caveats in the documentation: https://pandas.pydata.org/pandas-docs/stable/user_guide/indexing.html#returning-a-view-versus-a-copy\n",
      "  super().__setitem__(key, value)\n"
     ]
    },
    {
     "name": "stdout",
     "output_type": "stream",
     "text": [
      "Carte générée pour la région 52 avec surface > 1 ha : maps/map_region_52.html\n"
     ]
    },
    {
     "name": "stderr",
     "output_type": "stream",
     "text": [
      "/opt/conda/lib/python3.12/site-packages/geopandas/geodataframe.py:1819: SettingWithCopyWarning: \n",
      "A value is trying to be set on a copy of a slice from a DataFrame.\n",
      "Try using .loc[row_indexer,col_indexer] = value instead\n",
      "\n",
      "See the caveats in the documentation: https://pandas.pydata.org/pandas-docs/stable/user_guide/indexing.html#returning-a-view-versus-a-copy\n",
      "  super().__setitem__(key, value)\n"
     ]
    },
    {
     "name": "stdout",
     "output_type": "stream",
     "text": [
      "Carte générée pour la région 93 avec surface > 1 ha : maps/map_region_93.html\n"
     ]
    },
    {
     "name": "stderr",
     "output_type": "stream",
     "text": [
      "/opt/conda/lib/python3.12/site-packages/geopandas/geodataframe.py:1819: SettingWithCopyWarning: \n",
      "A value is trying to be set on a copy of a slice from a DataFrame.\n",
      "Try using .loc[row_indexer,col_indexer] = value instead\n",
      "\n",
      "See the caveats in the documentation: https://pandas.pydata.org/pandas-docs/stable/user_guide/indexing.html#returning-a-view-versus-a-copy\n",
      "  super().__setitem__(key, value)\n"
     ]
    },
    {
     "name": "stdout",
     "output_type": "stream",
     "text": [
      "Carte générée pour la région 11 avec surface > 1 ha : maps/map_region_11.html\n"
     ]
    },
    {
     "name": "stderr",
     "output_type": "stream",
     "text": [
      "/opt/conda/lib/python3.12/site-packages/geopandas/geodataframe.py:1819: SettingWithCopyWarning: \n",
      "A value is trying to be set on a copy of a slice from a DataFrame.\n",
      "Try using .loc[row_indexer,col_indexer] = value instead\n",
      "\n",
      "See the caveats in the documentation: https://pandas.pydata.org/pandas-docs/stable/user_guide/indexing.html#returning-a-view-versus-a-copy\n",
      "  super().__setitem__(key, value)\n"
     ]
    },
    {
     "name": "stdout",
     "output_type": "stream",
     "text": [
      "Carte générée pour la région 44 avec surface > 1 ha : maps/map_region_44.html\n"
     ]
    },
    {
     "name": "stderr",
     "output_type": "stream",
     "text": [
      "/opt/conda/lib/python3.12/site-packages/geopandas/geodataframe.py:1819: SettingWithCopyWarning: \n",
      "A value is trying to be set on a copy of a slice from a DataFrame.\n",
      "Try using .loc[row_indexer,col_indexer] = value instead\n",
      "\n",
      "See the caveats in the documentation: https://pandas.pydata.org/pandas-docs/stable/user_guide/indexing.html#returning-a-view-versus-a-copy\n",
      "  super().__setitem__(key, value)\n"
     ]
    },
    {
     "name": "stdout",
     "output_type": "stream",
     "text": [
      "Carte générée pour la région 32 avec surface > 1 ha : maps/map_region_32.html\n"
     ]
    },
    {
     "name": "stderr",
     "output_type": "stream",
     "text": [
      "/opt/conda/lib/python3.12/site-packages/geopandas/geodataframe.py:1819: SettingWithCopyWarning: \n",
      "A value is trying to be set on a copy of a slice from a DataFrame.\n",
      "Try using .loc[row_indexer,col_indexer] = value instead\n",
      "\n",
      "See the caveats in the documentation: https://pandas.pydata.org/pandas-docs/stable/user_guide/indexing.html#returning-a-view-versus-a-copy\n",
      "  super().__setitem__(key, value)\n"
     ]
    },
    {
     "name": "stdout",
     "output_type": "stream",
     "text": [
      "Carte générée pour la région 94 avec surface > 1 ha : maps/map_region_94.html\n",
      "Carte générée pour la région 978 avec surface > 1 ha : maps/map_region_978.html\n"
     ]
    },
    {
     "name": "stderr",
     "output_type": "stream",
     "text": [
      "/opt/conda/lib/python3.12/site-packages/geopandas/geodataframe.py:1819: SettingWithCopyWarning: \n",
      "A value is trying to be set on a copy of a slice from a DataFrame.\n",
      "Try using .loc[row_indexer,col_indexer] = value instead\n",
      "\n",
      "See the caveats in the documentation: https://pandas.pydata.org/pandas-docs/stable/user_guide/indexing.html#returning-a-view-versus-a-copy\n",
      "  super().__setitem__(key, value)\n"
     ]
    }
   ],
   "source": [
    "# Filtrer uniquement les parcelles en France métropolitaine\n",
    "gdf = gdf[gdf[\"zone_geo\"] == \"France mét.\"]\n",
    "\n",
    "# Liste des régions uniques\n",
    "regions = gdf[\"code_region\"].unique()\n",
    "\n",
    "# Générer une carte pour chaque région\n",
    "for region_code in regions:\n",
    "    create_map_for_region(region_code, gdf, surface_min=1, output_dir=\"maps\")\n"
   ]
  },
  {
   "cell_type": "code",
   "execution_count": 25,
   "metadata": {},
   "outputs": [],
   "source": [
    "from IPython.display import IFrame, display\n",
    "def show_map(file_path, width=\"100%\", height=\"500\"):\n",
    "    \"\"\"\n",
    "    Affiche une carte HTML dans un notebook.\n",
    "\n",
    "    Args:\n",
    "        file_path (str): Chemin du fichier HTML de la carte.\n",
    "        width (str): Largeur de l'affichage (par défaut : 100%).\n",
    "        height (str): Hauteur de l'affichage (par défaut : 500px).\n",
    "    \"\"\"\n",
    "    display(IFrame(file_path, width=width, height=height))\n"
   ]
  },
  {
   "cell_type": "code",
   "execution_count": null,
   "metadata": {},
   "outputs": [],
   "source": []
  },
  {
   "cell_type": "code",
   "execution_count": 27,
   "metadata": {},
   "outputs": [
    {
     "data": {
      "text/html": [
       "\n",
       "        <iframe\n",
       "            width=\"80%\"\n",
       "            height=\"600\"\n",
       "            src=\"maps/map_region_01.html\"\n",
       "            frameborder=\"0\"\n",
       "            allowfullscreen\n",
       "            \n",
       "        ></iframe>\n",
       "        "
      ],
      "text/plain": [
       "<IPython.lib.display.IFrame at 0x7fcaf837bcb0>"
      ]
     },
     "metadata": {},
     "output_type": "display_data"
    }
   ],
   "source": [
    "# Liste des fichiers HTML (par exemple, générée précédemment)\n",
    "map_files = [\n",
    "    \"maps/map_region_84.html\",\n",
    "    \"maps/map_region_27.html\",\n",
    "    \"maps/map_region_53.html\",\n",
    "    \"maps/map_region_24.html\",\n",
    "    \"maps/map_region_94.html\",\n",
    "    \"maps/map_region_44.html\",\n",
    "    \"maps/map_region_32.html\",\n",
    "    \"maps/map_region_11.html\",\n",
    "    \"maps/map_region_28.html\",\n",
    "    \"maps/map_region_75.html\",\n",
    "    \"maps/map_region_76.html\",\n",
    "    \"maps/map_region_52.html\",\n",
    "    \"maps/map_region_93.html\",\n",
    "    \"maps/map_region_01.html\",\n",
    "]\n",
    "\n",
    "# Afficher toutes les cartes\n",
    "show_map(map_file, width=\"80%\", height=\"600\")\n",
    "\n"
   ]
  }
 ],
 "metadata": {
  "kernelspec": {
   "display_name": "base",
   "language": "python",
   "name": "python3"
  },
  "language_info": {
   "codemirror_mode": {
    "name": "ipython",
    "version": 3
   },
   "file_extension": ".py",
   "mimetype": "text/x-python",
   "name": "python",
   "nbconvert_exporter": "python",
   "pygments_lexer": "ipython3",
   "version": "3.12.7"
  }
 },
 "nbformat": 4,
 "nbformat_minor": 2
}
