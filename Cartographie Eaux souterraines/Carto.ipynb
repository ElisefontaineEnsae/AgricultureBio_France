{
 "cells": [
  {
   "cell_type": "markdown",
   "metadata": {},
   "source": [
    "## 1) La base de données\n",
    "\n",
    "Base de données récupérée [ici](https://www.data.gouv.fr/fr/datasets/pesticides-dans-les-eaux-souterraines/) : site du gouvernement, data.gouv, base intitulée \"Pesticides dans les eaux souterraines\". \n",
    "\n",
    "Extrait du descriptif de la base de données:\n",
    "Des informations sur la contamination des eaux souterraines par les pesticides sont régulièrement diffusées.\n",
    "Elles s’appuient sur l’exploitation des données provenant du réseau de surveillance des nappes souterraines\n",
    "qui comprend près de 2 200 stations de mesures réparties sur le territoire français (métropole et outremer).\n",
    "\n",
    "Les ressources suivantes sont proposées :\n",
    "\n",
    "- Caractéristiques des stations de mesures\n",
    "- Caractéristiques des différents pesticides recherchés : herbicides, insecticides, fongicides, molécules\n",
    "mère, métabolites, date éventuelle d’interdiction d’usage\n",
    "- Caractéristiques des différentes masses d’eau souterraines suivies\n",
    "- Résultats des exploitations des mesures effectuées pour chaque station pour les millésimes 2007 à\n",
    "2012 : nombre de mesures par an, pesticides recherchés, concentrations moyenne annuelle, positionnement\n",
    "par rapport aux normes en vigueur, etc.\n",
    "- Résultats des exploitations des mesures effectuées pour chaque station pour les millésimes 2007 à\n",
    "2012 : concentrations totales en pesticides et nombre de pesticides par stations\n",
    "\n",
    "PB de dates (seulement entre 2007-2012), 2 solutions:\n",
    "- on pondère par le type de pesticides et donc le temps qu'il reste dans l'eau\n",
    "- on utilise ces données pour voir si ce sont la pollution des eaux souterraines joue comme cause de la conversion de la terre au BIO."
   ]
  },
  {
   "cell_type": "markdown",
   "metadata": {},
   "source": [
    "## 2) Importation de la base de données"
   ]
  },
  {
   "cell_type": "code",
   "execution_count": null,
   "metadata": {},
   "outputs": [],
   "source": [
    "import pandas as pd\n",
    "\n",
    "url1 = \"https://static.data.gouv.fr/resources/pesticides-dans-les-eaux-souterraines/20170622-223422/stations.csv\"\n",
    "data_stations = pd.read_csv(url)\n"
   ]
  }
 ],
 "metadata": {
  "kernelspec": {
   "display_name": "base",
   "language": "python",
   "name": "python3"
  },
  "language_info": {
   "name": "python",
   "version": "3.12.7"
  }
 },
 "nbformat": 4,
 "nbformat_minor": 2
}
