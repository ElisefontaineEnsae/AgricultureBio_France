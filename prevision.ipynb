{
 "cells": [
  {
   "cell_type": "code",
   "execution_count": 1,
   "metadata": {},
   "outputs": [
    {
     "name": "stdout",
     "output_type": "stream",
     "text": [
      "Requirement already satisfied: nbformat in /opt/conda/lib/python3.12/site-packages (5.10.4)\n",
      "Requirement already satisfied: fastjsonschema>=2.15 in /opt/conda/lib/python3.12/site-packages (from nbformat) (2.21.1)\n",
      "Requirement already satisfied: jsonschema>=2.6 in /opt/conda/lib/python3.12/site-packages (from nbformat) (4.23.0)\n",
      "Requirement already satisfied: jupyter-core!=5.0.*,>=4.12 in /opt/conda/lib/python3.12/site-packages (from nbformat) (5.7.2)\n",
      "Requirement already satisfied: traitlets>=5.1 in /opt/conda/lib/python3.12/site-packages (from nbformat) (5.14.3)\n",
      "Requirement already satisfied: attrs>=22.2.0 in /opt/conda/lib/python3.12/site-packages (from jsonschema>=2.6->nbformat) (24.3.0)\n",
      "Requirement already satisfied: jsonschema-specifications>=2023.03.6 in /opt/conda/lib/python3.12/site-packages (from jsonschema>=2.6->nbformat) (2024.10.1)\n",
      "Requirement already satisfied: referencing>=0.28.4 in /opt/conda/lib/python3.12/site-packages (from jsonschema>=2.6->nbformat) (0.35.1)\n",
      "Requirement already satisfied: rpds-py>=0.7.1 in /opt/conda/lib/python3.12/site-packages (from jsonschema>=2.6->nbformat) (0.22.3)\n",
      "Requirement already satisfied: platformdirs>=2.5 in /opt/conda/lib/python3.12/site-packages (from jupyter-core!=5.0.*,>=4.12->nbformat) (4.3.6)\n",
      "Requirement already satisfied: chardet in /opt/conda/lib/python3.12/site-packages (5.2.0)\n"
     ]
    }
   ],
   "source": [
    "!pip install nbformat\n",
    "!pip install chardet"
   ]
  },
  {
   "cell_type": "code",
   "execution_count": 2,
   "metadata": {},
   "outputs": [],
   "source": [
    "import pandas as pd\n",
    "import os \n",
    "import requests \n",
    "import numpy as np \n",
    "import geopandas as gpd\n",
    "import matplotlib.pyplot as plt \n",
    "import zipfile\n",
    "import io\n",
    "import re"
   ]
  },
  {
   "cell_type": "markdown",
   "metadata": {},
   "source": [
    "### Download de la bdd parcelles bio "
   ]
  },
  {
   "cell_type": "code",
   "execution_count": 3,
   "metadata": {},
   "outputs": [
    {
     "name": "stdout",
     "output_type": "stream",
     "text": [
      "\n",
      "Traitement de l'année 2022...\n",
      "Extraction du fichier ZIP pour l'année 2022\n",
      "Fichiers extraits pour 2022 :\n",
      "- rpg-bio-2022-national.gpkg\n",
      "- ._rpg-bio-2022-national.gpkg\n",
      "\n",
      "Traitement de l'année 2021...\n",
      "Extraction du fichier ZIP pour l'année 2021\n",
      "Fichiers extraits pour 2021 :\n",
      "- rpg-bio-2021-national.gpkg\n",
      "\n",
      "Traitement de l'année 2023...\n",
      "Extraction du fichier ZIP pour l'année 2023\n",
      "Fichiers extraits pour 2023 :\n",
      "- rpg-bio-2023-national.shp\n",
      "- rpg-bio-2023-national.cpg\n",
      "- rpg-bio-2023-national.gpkg\n",
      "- rpg-bio-2023-national.shx\n",
      "- rpg-bio-2023-national.dbf\n",
      "- rpg-bio-2023-national.prj\n"
     ]
    }
   ],
   "source": [
    "\n",
    "# Dictionnaire des URLs par année\n",
    "urls = {\n",
    "    2022: 'https://www.data.gouv.fr/fr/datasets/r/36314eff-2712-4d6a-b091-7752a5b318bb',\n",
    "    2021: 'https://www.data.gouv.fr/fr/datasets/r/e6cd3b9f-38e2-47ca-aac6-5acfb9567e01',\n",
    "    2023: \"https://www.data.gouv.fr/fr/datasets/r/e8639487-199c-4e30-8998-1b517148fe29\",\n",
    "}\n",
    "\n",
    "for year, url_zip in urls.items():\n",
    "    print(f\"\\nTraitement de l'année {year}...\")\n",
    "\n",
    "    # Chemin pour stocker temporairement le fichier téléchargé\n",
    "    file_path = f\"data_{year}.zip\"\n",
    "\n",
    "    # Télécharger le fichier\n",
    "    response = requests.get(url_zip)\n",
    "    if response.status_code != 200:\n",
    "        print(f\"Erreur lors du téléchargement pour l'année {year}: {response.status_code}\")\n",
    "        continue\n",
    "\n",
    "    # Enregistrer le fichier localement\n",
    "    with open(file_path, \"wb\") as f:\n",
    "        f.write(response.content)\n",
    "\n",
    "    # Vérifier si le fichier est un ZIP\n",
    "    if zipfile.is_zipfile(file_path):\n",
    "        print(f\"Extraction du fichier ZIP pour l'année {year}\")\n",
    "        extract_path = f\"data_extracted_{year}\"\n",
    "        if not os.path.exists(extract_path):\n",
    "            os.makedirs(extract_path)\n",
    "        with zipfile.ZipFile(file_path, \"r\") as zip_ref:\n",
    "            zip_ref.extractall(extract_path)\n",
    "\n",
    "        # Afficher tous les fichiers extraits pour diagnostic\n",
    "        print(f\"Fichiers extraits pour {year} :\")\n",
    "        extracted_files = []\n",
    "        for root, _, files in os.walk(extract_path):\n",
    "            for file in files:\n",
    "                extracted_files.append(os.path.join(root, file))\n",
    "                print(f\"- {file}\")\n",
    "\n",
    "        # Lire les fichiers extraits si ce sont des CSV\n",
    "        for file in extracted_files:\n",
    "            if file.endswith(\".csv\"):\n",
    "                gdf = pd.read_csv(file)\n",
    "                globals()[f\"gdf{year}\"] = gdf.drop(columns='geometry', errors='ignore')\n",
    "                print(f\"Aperçu des données pour {year} :\")\n",
    "                print(globals()[f\"gdf{year}\"].head())\n",
    "    else:\n",
    "        print(f\"Le fichier pour {year} n'est pas un ZIP.\")\n"
   ]
  },
  {
   "cell_type": "code",
   "execution_count": 6,
   "metadata": {},
   "outputs": [
    {
     "name": "stderr",
     "output_type": "stream",
     "text": [
      "/opt/conda/lib/python3.12/site-packages/pyogrio/raw.py:198: RuntimeWarning: /home/onyxia/work/AgricultureBio_France/data_extracted_2023/rpg-bio-2023-national/rpg-bio-2023-national.shp contains polygon(s) with rings with invalid winding order. Autocorrecting them, but that shapefile should be corrected using ogr2ogr for example.\n",
      "  return ogr_read(\n"
     ]
    },
    {
     "name": "stdout",
     "output_type": "stream",
     "text": [
      "Aperçu des données pour 2022 (sans geometry) :\n",
      "       gid  millesime code_culture  \\\n",
      "0  4420687       2022          PPH   \n",
      "1      333       2022          PTR   \n",
      "2      337       2022          BTH   \n",
      "3      464       2022          BTH   \n",
      "4      480       2022          BTH   \n",
      "\n",
      "                                         lbl_culture           grp_culture  \\\n",
      "0  Prairie permanente - herbe prédominante (resso...  Prairies permanentes   \n",
      "1         Autre prairie temporaire de 5 ans ou moins  Prairies temporaires   \n",
      "2                                 Blé tendre d’hiver            Blé tendre   \n",
      "3                                 Blé tendre d’hiver            Blé tendre   \n",
      "4                                 Blé tendre d’hiver            Blé tendre   \n",
      "\n",
      "   surface_ha code_commune_insee             lbl_commune    code_epci  \\\n",
      "0        0.38              38513                Treffort  200030658.0   \n",
      "1        2.13              01188                  Illiat  200070118.0   \n",
      "2        6.10              01136  Cruzilles-lès-Mépillat  200070555.0   \n",
      "3        1.32              01285                Parcieux  200042497.0   \n",
      "4        2.99              01398               Savigneux  200042497.0   \n",
      "\n",
      "  code_departement  code_region     zone_geo  \n",
      "0               38           84  France mét.  \n",
      "1               01           84  France mét.  \n",
      "2               01           84  France mét.  \n",
      "3               01           84  France mét.  \n",
      "4               01           84  France mét.  \n",
      "\n",
      "Aperçu des données pour 2021 (sans geometry) :\n",
      "   gid  millesime code_culture  \\\n",
      "0  261       2021          BTP   \n",
      "1  263       2021          PPH   \n",
      "2  267       2021          PPH   \n",
      "3  268       2021          PPH   \n",
      "4  274       2021          SOG   \n",
      "\n",
      "                                         lbl_culture           grp_culture  \\\n",
      "0                            Blé tendre de printemps            Blé tendre   \n",
      "1  Prairie permanente - herbe prédominante (resso...  Prairies permanentes   \n",
      "2  Prairie permanente - herbe prédominante (resso...  Prairies permanentes   \n",
      "3  Prairie permanente - herbe prédominante (resso...  Prairies permanentes   \n",
      "4                                             Sorgho       Autres céréales   \n",
      "\n",
      "   surface_ha code_commune_insee           lbl_commune    code_epci  \\\n",
      "0       10.19              01276               Niévroz  240100610.0   \n",
      "1        1.53              01187         Haut Valromey  200040350.0   \n",
      "2        7.01              01187         Haut Valromey  200040350.0   \n",
      "3        1.37              01187         Haut Valromey  200040350.0   \n",
      "4        0.59              01204  Le Poizat-Lalleyriat  200042935.0   \n",
      "\n",
      "  code_departement  code_region     zone_geo  \n",
      "0               01         84.0  France mét.  \n",
      "1               01         84.0  France mét.  \n",
      "2               01         84.0  France mét.  \n",
      "3               01         84.0  France mét.  \n",
      "4               01         84.0  France mét.  \n",
      "\n",
      "Aperçu des données pour 2023 (sans geometry) :\n",
      "       gid  millesime code_cultu precision_  \\\n",
      "0  1057718       2023        SPH       None   \n",
      "1  1057720       2023        MCR        001   \n",
      "2  1057733       2023        LUZ        002   \n",
      "3  1045691       2023        SPH       None   \n",
      "4  1063649       2023        MLG        001   \n",
      "\n",
      "                                          lbl_cultur         grp_cultur  \\\n",
      "0  Prairie avec herbe prédominante et ressources ...  Estives et landes   \n",
      "1  Mélange de céréales ou pseudo-céréales d'hiver...    Autres céréales   \n",
      "2                                      Autre luzerne           Fourrage   \n",
      "3  Prairie avec herbe prédominante et ressources ...  Estives et landes   \n",
      "4  Mélange de légumineuses prépondérantes et de g...           Fourrage   \n",
      "\n",
      "   surface_ha code_commu         lbl_commun    code_epci code_depar  \\\n",
      "0        0.56      12294  Vézins-de-Lévézou  241200765.0         12   \n",
      "1        2.22      12294  Vézins-de-Lévézou  241200765.0         12   \n",
      "2        1.28      12303            Vimenet  200068484.0         12   \n",
      "3       10.78      12145             Millau  241200567.0         12   \n",
      "4        2.77      12059           Castanet  200068831.0         12   \n",
      "\n",
      "   code_regio     zone_geo  \n",
      "0          76  France mét.  \n",
      "1          76  France mét.  \n",
      "2          76  France mét.  \n",
      "3          76  France mét.  \n",
      "4          76  France mét.  \n"
     ]
    }
   ],
   "source": [
    "# Chemins vers les fichiers extraits\n",
    "file_2022 = \"data_extracted_2022/rpg-bio-2022-national.gpkg\"\n",
    "file_2021 = \"data_extracted_2021/rpg-bio-2021-national.gpkg\"\n",
    "file_2023 = \"/home/onyxia/work/AgricultureBio_France/data_extracted_2023/rpg-bio-2023-national/rpg-bio-2023-national.shp\"  # Choix du .shp en raison d'un manque de data sur le .gpkg\n",
    "\n",
    "# Charger les fichiers dans des variables distinctes\n",
    "gdf2022 = gpd.read_file(file_2022)\n",
    "gdf2021 = gpd.read_file(file_2021)\n",
    "gdf2023 = gpd.read_file(file_2023)\n",
    "\n",
    "# Supprimer la colonne 'geometry' pour chaque GeoDataFrame\n",
    "gdf2022 = gdf2022.drop(columns=['geometry'])\n",
    "gdf2021 = gdf2021.drop(columns=['geometry'])\n",
    "gdf2023 = gdf2023.drop(columns=['geometry'])\n",
    "\n",
    "# Afficher un aperçu des données après suppression de 'geometry'\n",
    "print(\"Aperçu des données pour 2022 (sans geometry) :\")\n",
    "print(gdf2022.head())\n",
    "\n",
    "print(\"\\nAperçu des données pour 2021 (sans geometry) :\")\n",
    "print(gdf2021.head())\n",
    "\n",
    "print(\"\\nAperçu des données pour 2023 (sans geometry) :\")\n",
    "print(gdf2023.head())"
   ]
  },
  {
   "cell_type": "code",
   "execution_count": 8,
   "metadata": {},
   "outputs": [
    {
     "name": "stdout",
     "output_type": "stream",
     "text": [
      "Colonnes après renommage dans gdf2023 :\n",
      "Index(['gid', 'millesime', 'code_cultu', 'precision_', 'lbl_cultur',\n",
      "       'grp_cultur', 'surface_ha', 'code_commu', 'lbl_commun', 'code_epci',\n",
      "       'code_departement', 'code_region', 'zone_geo'],\n",
      "      dtype='object')\n"
     ]
    }
   ],
   "source": [
    "# Renommer les colonnes dans gdf2023\n",
    "gdf2023.rename(columns={'code_regio': 'code_region', 'code_depar': 'code_departement'}, inplace=True)\n",
    "\n",
    "# Vérifier les nouvelles colonnes\n",
    "print(\"Colonnes après renommage dans gdf2023 :\")\n",
    "print(gdf2023.columns)\n"
   ]
  },
  {
   "cell_type": "code",
   "execution_count": 10,
   "metadata": {},
   "outputs": [
    {
     "name": "stdout",
     "output_type": "stream",
     "text": [
      "Colonnes communes aux trois GeoDataFrames :\n",
      "{'code_epci', 'surface_ha', 'gid', 'zone_geo', 'millesime', 'code_departement', 'code_region'}\n",
      "\n",
      "Colonnes uniques à 2022 :\n",
      "set()\n",
      "\n",
      "Colonnes uniques à 2021 :\n",
      "set()\n",
      "\n",
      "Colonnes uniques à 2023 :\n",
      "{'grp_cultur', 'lbl_cultur', 'precision_', 'code_cultu', 'lbl_commun', 'code_commu'}\n"
     ]
    }
   ],
   "source": [
    "# Récupérer les colonnes sous forme d'ensembles\n",
    "columns_2022 = set(gdf2022.columns)\n",
    "columns_2021 = set(gdf2021.columns)\n",
    "columns_2023 = set(gdf2023.columns)\n",
    "\n",
    "# Comparer les colonnes entre les trois jeux de données\n",
    "common_columns = columns_2022 & columns_2021 & columns_2023  # Colonnes communes\n",
    "unique_2022 = columns_2022 - (columns_2021 | columns_2023)  # Colonnes uniques à 2022\n",
    "unique_2021 = columns_2021 - (columns_2022 | columns_2023)  # Colonnes uniques à 2021\n",
    "unique_2023 = columns_2023 - (columns_2021 | columns_2022)  # Colonnes uniques à 2023\n",
    "\n",
    "# Afficher les résultats\n",
    "print(\"Colonnes communes aux trois GeoDataFrames :\")\n",
    "print(common_columns)\n",
    "\n",
    "print(\"\\nColonnes uniques à 2022 :\")\n",
    "print(unique_2022)\n",
    "\n",
    "print(\"\\nColonnes uniques à 2021 :\")\n",
    "print(unique_2021)\n",
    "\n",
    "print(\"\\nColonnes uniques à 2023 :\")\n",
    "print(unique_2023)\n"
   ]
  },
  {
   "cell_type": "code",
   "execution_count": 13,
   "metadata": {},
   "outputs": [
    {
     "name": "stdout",
     "output_type": "stream",
     "text": [
      "Aperçu des données fusionnées :\n",
      "   surface_ha  gid     zone_geo code_departement  code_region  annee\n",
      "0       10.19  261  France mét.               01         84.0   2021\n",
      "1        1.53  263  France mét.               01         84.0   2021\n",
      "2        7.01  267  France mét.               01         84.0   2021\n",
      "3        1.37  268  France mét.               01         84.0   2021\n",
      "4        0.59  274  France mét.               01         84.0   2021\n"
     ]
    }
   ],
   "source": [
    "# Ajouter une colonne pour identifier l'année\n",
    "gdf2021['annee'] = 2021\n",
    "gdf2022['annee'] = 2022\n",
    "gdf2023['annee'] = 2023\n",
    "\n",
    "# Fusionner les trois GeoDataFrames en un seul DataFrame\n",
    "df_combined = pd.concat([gdf2021, gdf2022, gdf2023], ignore_index=True)\n",
    "\n",
    "# Vérifier les données fusionnées\n",
    "print(\"Aperçu des données fusionnées :\")\n",
    "print(df_combined.head())\n"
   ]
  },
  {
   "cell_type": "markdown",
   "metadata": {},
   "source": [
    "### Traitement de la BDD pour achat de pesticide"
   ]
  },
  {
   "cell_type": "code",
   "execution_count": 15,
   "metadata": {},
   "outputs": [
    {
     "name": "stdout",
     "output_type": "stream",
     "text": [
      "Aperçu des caractéristiques (X) :\n",
      "  code_departement  code_region     zone_geo  annee\n",
      "0               01         84.0  France mét.   2021\n",
      "1               01         84.0  France mét.   2021\n",
      "2               01         84.0  France mét.   2021\n",
      "3               01         84.0  France mét.   2021\n",
      "4               01         84.0  France mét.   2021\n",
      "\n",
      "Aperçu de la cible (y) :\n",
      "0    10.19\n",
      "1     1.53\n",
      "2     7.01\n",
      "3     1.37\n",
      "4     0.59\n",
      "Name: surface_ha, dtype: float64\n"
     ]
    }
   ],
   "source": [
    "# Colonnes restantes après exclusion de 'code_epci' et 'millesime'\n",
    "features = ['code_departement', 'code_region', 'zone_geo', 'annee']\n",
    "\n",
    "# Préparer X (caractéristiques) et y (cible)\n",
    "X = df_combined[features]\n",
    "y = df_combined['surface_ha']\n",
    "\n",
    "# Vérifier les données après la sélection\n",
    "print(\"Aperçu des caractéristiques (X) :\")\n",
    "print(X.head())\n",
    "print(\"\\nAperçu de la cible (y) :\")\n",
    "print(y.head())\n",
    "\n"
   ]
  },
  {
   "cell_type": "code",
   "execution_count": 52,
   "metadata": {},
   "outputs": [
    {
     "name": "stdout",
     "output_type": "stream",
     "text": [
      "--- Année 2017 : Récupération des données depuis https://data.ofb.fr/catalogue/Donnees-geographiques-OFB/api/records/a69c8e76-13e1-4f87-9f9d-1705468b7221/attachments/BNVD_TRACABILITE_20231024_ACHAT_2017.zip ---\n",
      "Fichier CSV sélectionné pour 2017 : BNVD_TRACABILITE_20231023_ACHAT_DPT_SUBSTANCE_2017.csv\n"
     ]
    },
    {
     "name": "stderr",
     "output_type": "stream",
     "text": [
      "/tmp/ipykernel_7892/1820709967.py:39: DtypeWarning: Columns (1) have mixed types. Specify dtype option on import or set low_memory=False.\n",
      "  df = pd.read_csv(f, sep=\";\", encoding=\"utf-8\", on_bad_lines=\"skip\")\n"
     ]
    },
    {
     "name": "stdout",
     "output_type": "stream",
     "text": [
      "Fichier pour 2017 sauvegardé : dossier_Achats_pesticides_selected/achats_pesticides_2017.csv\n",
      "--- Année 2018 : Récupération des données depuis https://data.ofb.fr/catalogue/Donnees-geographiques-OFB/api/records/a69c8e76-13e1-4f87-9f9d-1705468b7221/attachments/BNVD_TRACABILITE_20231024_ACHAT_2018.zip ---\n",
      "Fichier CSV sélectionné pour 2018 : BNVD_TRACABILITE_20231023_ACHAT_DPT_SUBSTANCE_2018.csv\n"
     ]
    },
    {
     "name": "stderr",
     "output_type": "stream",
     "text": [
      "/tmp/ipykernel_7892/1820709967.py:39: DtypeWarning: Columns (1) have mixed types. Specify dtype option on import or set low_memory=False.\n",
      "  df = pd.read_csv(f, sep=\";\", encoding=\"utf-8\", on_bad_lines=\"skip\")\n"
     ]
    },
    {
     "name": "stdout",
     "output_type": "stream",
     "text": [
      "Fichier pour 2018 sauvegardé : dossier_Achats_pesticides_selected/achats_pesticides_2018.csv\n",
      "--- Année 2019 : Récupération des données depuis https://data.ofb.fr/catalogue/Donnees-geographiques-OFB/api/records/a69c8e76-13e1-4f87-9f9d-1705468b7221/attachments/BNVD_TRACABILITE_20231024_ACHAT_2019.zip ---\n",
      "Fichier CSV sélectionné pour 2019 : BNVD_TRACABILITE_20231023_ACHAT_DPT_SUBSTANCE_2019.csv\n"
     ]
    },
    {
     "name": "stderr",
     "output_type": "stream",
     "text": [
      "/tmp/ipykernel_7892/1820709967.py:39: DtypeWarning: Columns (1) have mixed types. Specify dtype option on import or set low_memory=False.\n",
      "  df = pd.read_csv(f, sep=\";\", encoding=\"utf-8\", on_bad_lines=\"skip\")\n"
     ]
    },
    {
     "name": "stdout",
     "output_type": "stream",
     "text": [
      "Fichier pour 2019 sauvegardé : dossier_Achats_pesticides_selected/achats_pesticides_2019.csv\n",
      "--- Année 2020 : Récupération des données depuis https://data.ofb.fr/catalogue/Donnees-geographiques-OFB/api/records/a69c8e76-13e1-4f87-9f9d-1705468b7221/attachments/BNVD_TRACABILITE_20231024_ACHAT_2020.zip ---\n",
      "Fichier CSV sélectionné pour 2020 : BNVD_TRACABILITE_20231023_ACHAT_DPT_SUBSTANCE_2020.csv\n"
     ]
    },
    {
     "name": "stderr",
     "output_type": "stream",
     "text": [
      "/tmp/ipykernel_7892/1820709967.py:39: DtypeWarning: Columns (1) have mixed types. Specify dtype option on import or set low_memory=False.\n",
      "  df = pd.read_csv(f, sep=\";\", encoding=\"utf-8\", on_bad_lines=\"skip\")\n"
     ]
    },
    {
     "name": "stdout",
     "output_type": "stream",
     "text": [
      "Fichier pour 2020 sauvegardé : dossier_Achats_pesticides_selected/achats_pesticides_2020.csv\n",
      "--- Année 2021 : Récupération des données depuis https://data.ofb.fr/catalogue/Donnees-geographiques-OFB/api/records/a69c8e76-13e1-4f87-9f9d-1705468b7221/attachments/BNVD_TRACABILITE_20231024_ACHAT_2021.zip ---\n",
      "Fichier CSV sélectionné pour 2021 : BNVD_TRACABILITE_20231023_ACHAT_DPT_SUBSTANCE_2021.csv\n"
     ]
    },
    {
     "name": "stderr",
     "output_type": "stream",
     "text": [
      "/tmp/ipykernel_7892/1820709967.py:39: DtypeWarning: Columns (1) have mixed types. Specify dtype option on import or set low_memory=False.\n",
      "  df = pd.read_csv(f, sep=\";\", encoding=\"utf-8\", on_bad_lines=\"skip\")\n"
     ]
    },
    {
     "name": "stdout",
     "output_type": "stream",
     "text": [
      "Fichier pour 2021 sauvegardé : dossier_Achats_pesticides_selected/achats_pesticides_2021.csv\n",
      "--- Année 2022 : Récupération des données depuis https://data.ofb.fr/catalogue/Donnees-geographiques-OFB/api/records/a69c8e76-13e1-4f87-9f9d-1705468b7221/attachments/BNVD_TRACABILITE_20231024_ACHAT_2022.zip ---\n",
      "Fichier CSV sélectionné pour 2022 : BNVD_TRACABILITE_20231023_ACHAT_DPT_SUBSTANCE_2022.csv\n"
     ]
    },
    {
     "name": "stderr",
     "output_type": "stream",
     "text": [
      "/tmp/ipykernel_7892/1820709967.py:39: DtypeWarning: Columns (1) have mixed types. Specify dtype option on import or set low_memory=False.\n",
      "  df = pd.read_csv(f, sep=\";\", encoding=\"utf-8\", on_bad_lines=\"skip\")\n"
     ]
    },
    {
     "name": "stdout",
     "output_type": "stream",
     "text": [
      "Fichier pour 2022 sauvegardé : dossier_Achats_pesticides_selected/achats_pesticides_2022.csv\n",
      "\n",
      "--- Traitement terminé. Tous les fichiers CSV sont dans le dossier : dossier_Achats_pesticides_selected ---\n"
     ]
    }
   ],
   "source": [
    "# Liste des URLs des fichiers ZIP\n",
    "urls_zip = {\n",
    "    \"2017\": \"https://data.ofb.fr/catalogue/Donnees-geographiques-OFB/api/records/a69c8e76-13e1-4f87-9f9d-1705468b7221/attachments/BNVD_TRACABILITE_20231024_ACHAT_2017.zip\",\n",
    "    \"2018\": \"https://data.ofb.fr/catalogue/Donnees-geographiques-OFB/api/records/a69c8e76-13e1-4f87-9f9d-1705468b7221/attachments/BNVD_TRACABILITE_20231024_ACHAT_2018.zip\",\n",
    "    \"2019\": \"https://data.ofb.fr/catalogue/Donnees-geographiques-OFB/api/records/a69c8e76-13e1-4f87-9f9d-1705468b7221/attachments/BNVD_TRACABILITE_20231024_ACHAT_2019.zip\",\n",
    "    \"2020\": \"https://data.ofb.fr/catalogue/Donnees-geographiques-OFB/api/records/a69c8e76-13e1-4f87-9f9d-1705468b7221/attachments/BNVD_TRACABILITE_20231024_ACHAT_2020.zip\",\n",
    "    \"2021\": \"https://data.ofb.fr/catalogue/Donnees-geographiques-OFB/api/records/a69c8e76-13e1-4f87-9f9d-1705468b7221/attachments/BNVD_TRACABILITE_20231024_ACHAT_2021.zip\",\n",
    "    \"2022\": \"https://data.ofb.fr/catalogue/Donnees-geographiques-OFB/api/records/a69c8e76-13e1-4f87-9f9d-1705468b7221/attachments/BNVD_TRACABILITE_20231024_ACHAT_2022.zip\"\n",
    "}\n",
    "\n",
    "# Dossier où seront stockés les fichiers CSV sélectionnés\n",
    "output_dir = \"dossier_Achats_pesticides_selected\"\n",
    "os.makedirs(output_dir, exist_ok=True)\n",
    "\n",
    "# Modèle de nom de fichier cible (expression régulière)\n",
    "file_pattern = r\"BNVD_TRACABILITE_\\d+_ACHAT_DPT_SUBSTANCE_(\\d{4})\\.csv\"\n",
    "\n",
    "# Boucle pour traiter chaque fichier ZIP\n",
    "for year, url in urls_zip.items():\n",
    "    print(f\"--- Année {year} : Récupération des données depuis {url} ---\")\n",
    "    try:\n",
    "        # Télécharger le fichier ZIP en mémoire\n",
    "        response = requests.get(url)\n",
    "        response.raise_for_status()\n",
    "        \n",
    "        # Ouvrir le fichier ZIP en mémoire\n",
    "        with zipfile.ZipFile(io.BytesIO(response.content)) as z:\n",
    "            # Filtrer pour sélectionner uniquement le fichier correspondant au modèle\n",
    "            csv_files = [name for name in z.namelist() if re.search(file_pattern, name)]\n",
    "            if csv_files:\n",
    "                target_file = csv_files[0]  # Sélectionner le fichier correspondant\n",
    "                print(f\"Fichier CSV sélectionné pour {year} : {target_file}\")\n",
    "                \n",
    "                # Construire le chemin pour sauvegarder le fichier dans le répertoire final\n",
    "                output_path = os.path.join(output_dir, f\"achats_pesticides_{year}.csv\")\n",
    "                \n",
    "                # Extraire et sauvegarder le fichier CSV directement\n",
    "                with z.open(target_file) as f:\n",
    "                    df = pd.read_csv(f, sep=\";\", encoding=\"utf-8\", on_bad_lines=\"skip\")\n",
    "                    df.to_csv(output_path, index=False, sep=\";\")\n",
    "                    print(f\"Fichier pour {year} sauvegardé : {output_path}\")\n",
    "            else:\n",
    "                print(f\"Aucun fichier correspondant trouvé dans l'archive ZIP pour {year}\")\n",
    "    except Exception as e:\n",
    "        print(f\"Erreur pour l'année {year} : {e}\")\n",
    "\n",
    "print(\"\\n--- Traitement terminé. Tous les fichiers CSV sont dans le dossier : dossier_Achats_pesticides_selected ---\")\n"
   ]
  },
  {
   "cell_type": "code",
   "execution_count": 56,
   "metadata": {},
   "outputs": [
    {
     "name": "stdout",
     "output_type": "stream",
     "text": [
      "Lecture du fichier : /home/onyxia/work/AgricultureBio_France/Achats pesticides/dossier_Achats_pesticides_selected/achats_pesticides_2017.csv\n",
      "Année 2017 chargée avec succès. Nombre de lignes : 127088\n",
      "Lecture du fichier : /home/onyxia/work/AgricultureBio_France/Achats pesticides/dossier_Achats_pesticides_selected/achats_pesticides_2018.csv\n"
     ]
    },
    {
     "name": "stderr",
     "output_type": "stream",
     "text": [
      "/tmp/ipykernel_7892/3120110177.py:15: DtypeWarning: Columns (1) have mixed types. Specify dtype option on import or set low_memory=False.\n",
      "  df = pd.read_csv(file_path, sep=\";\", encoding=\"utf-8\", on_bad_lines=\"skip\")\n",
      "/tmp/ipykernel_7892/3120110177.py:15: DtypeWarning: Columns (1) have mixed types. Specify dtype option on import or set low_memory=False.\n",
      "  df = pd.read_csv(file_path, sep=\";\", encoding=\"utf-8\", on_bad_lines=\"skip\")\n"
     ]
    },
    {
     "name": "stdout",
     "output_type": "stream",
     "text": [
      "Année 2018 chargée avec succès. Nombre de lignes : 127328\n",
      "Lecture du fichier : /home/onyxia/work/AgricultureBio_France/Achats pesticides/dossier_Achats_pesticides_selected/achats_pesticides_2019.csv\n",
      "Année 2019 chargée avec succès. Nombre de lignes : 112807\n",
      "Lecture du fichier : /home/onyxia/work/AgricultureBio_France/Achats pesticides/dossier_Achats_pesticides_selected/achats_pesticides_2020.csv\n",
      "Année 2020 chargée avec succès. Nombre de lignes : 111224\n",
      "Lecture du fichier : /home/onyxia/work/AgricultureBio_France/Achats pesticides/dossier_Achats_pesticides_selected/achats_pesticides_2021.csv\n"
     ]
    },
    {
     "name": "stderr",
     "output_type": "stream",
     "text": [
      "/tmp/ipykernel_7892/3120110177.py:15: DtypeWarning: Columns (1) have mixed types. Specify dtype option on import or set low_memory=False.\n",
      "  df = pd.read_csv(file_path, sep=\";\", encoding=\"utf-8\", on_bad_lines=\"skip\")\n",
      "/tmp/ipykernel_7892/3120110177.py:15: DtypeWarning: Columns (1) have mixed types. Specify dtype option on import or set low_memory=False.\n",
      "  df = pd.read_csv(file_path, sep=\";\", encoding=\"utf-8\", on_bad_lines=\"skip\")\n",
      "/tmp/ipykernel_7892/3120110177.py:15: DtypeWarning: Columns (1) have mixed types. Specify dtype option on import or set low_memory=False.\n",
      "  df = pd.read_csv(file_path, sep=\";\", encoding=\"utf-8\", on_bad_lines=\"skip\")\n"
     ]
    },
    {
     "name": "stdout",
     "output_type": "stream",
     "text": [
      "Année 2021 chargée avec succès. Nombre de lignes : 109573\n",
      "Lecture du fichier : /home/onyxia/work/AgricultureBio_France/Achats pesticides/dossier_Achats_pesticides_selected/achats_pesticides_2022.csv\n",
      "Année 2022 chargée avec succès. Nombre de lignes : 106661\n",
      "\n",
      "Aperçu des données de 2017 :\n"
     ]
    },
    {
     "name": "stderr",
     "output_type": "stream",
     "text": [
      "/tmp/ipykernel_7892/3120110177.py:15: DtypeWarning: Columns (1) have mixed types. Specify dtype option on import or set low_memory=False.\n",
      "  df = pd.read_csv(file_path, sep=\";\", encoding=\"utf-8\", on_bad_lines=\"skip\")\n"
     ]
    },
    {
     "data": {
      "text/html": [
       "<div>\n",
       "<style scoped>\n",
       "    .dataframe tbody tr th:only-of-type {\n",
       "        vertical-align: middle;\n",
       "    }\n",
       "\n",
       "    .dataframe tbody tr th {\n",
       "        vertical-align: top;\n",
       "    }\n",
       "\n",
       "    .dataframe thead th {\n",
       "        text-align: right;\n",
       "    }\n",
       "</style>\n",
       "<table border=\"1\" class=\"dataframe\">\n",
       "  <thead>\n",
       "    <tr style=\"text-align: right;\">\n",
       "      <th></th>\n",
       "      <th>annee</th>\n",
       "      <th>code_departement</th>\n",
       "      <th>departement</th>\n",
       "      <th>amm</th>\n",
       "      <th>substance</th>\n",
       "      <th>cas</th>\n",
       "      <th>quantite_substance</th>\n",
       "      <th>classification</th>\n",
       "      <th>classification_mention</th>\n",
       "      <th>achat_etranger</th>\n",
       "    </tr>\n",
       "  </thead>\n",
       "  <tbody>\n",
       "    <tr>\n",
       "      <th>0</th>\n",
       "      <td>2017</td>\n",
       "      <td>00</td>\n",
       "      <td>INDETERMINE</td>\n",
       "      <td>2179999</td>\n",
       "      <td>mesosulfuron-methyl</td>\n",
       "      <td>208465-21-8</td>\n",
       "      <td>2.77500</td>\n",
       "      <td>N Organique</td>\n",
       "      <td>NaN</td>\n",
       "      <td>Non</td>\n",
       "    </tr>\n",
       "    <tr>\n",
       "      <th>1</th>\n",
       "      <td>2017</td>\n",
       "      <td>00</td>\n",
       "      <td>INDETERMINE</td>\n",
       "      <td>2010618</td>\n",
       "      <td>cuivre du sulfate de cuivre</td>\n",
       "      <td>8011-63-0</td>\n",
       "      <td>247.02400</td>\n",
       "      <td>N minéral</td>\n",
       "      <td>NaN</td>\n",
       "      <td>Non</td>\n",
       "    </tr>\n",
       "    <tr>\n",
       "      <th>2</th>\n",
       "      <td>2017</td>\n",
       "      <td>00</td>\n",
       "      <td>INDETERMINE</td>\n",
       "      <td>2010628</td>\n",
       "      <td>trifloxystrobine</td>\n",
       "      <td>141517-21-7</td>\n",
       "      <td>1.00000</td>\n",
       "      <td>N Organique</td>\n",
       "      <td>NaN</td>\n",
       "      <td>Non</td>\n",
       "    </tr>\n",
       "    <tr>\n",
       "      <th>3</th>\n",
       "      <td>2017</td>\n",
       "      <td>00</td>\n",
       "      <td>INDETERMINE</td>\n",
       "      <td>2010637</td>\n",
       "      <td>2,4-d</td>\n",
       "      <td>94-75-7</td>\n",
       "      <td>0.26040</td>\n",
       "      <td>N Organique</td>\n",
       "      <td>NaN</td>\n",
       "      <td>Non</td>\n",
       "    </tr>\n",
       "    <tr>\n",
       "      <th>4</th>\n",
       "      <td>2017</td>\n",
       "      <td>00</td>\n",
       "      <td>INDETERMINE</td>\n",
       "      <td>2010637</td>\n",
       "      <td>triclopyr</td>\n",
       "      <td>55335-06-3</td>\n",
       "      <td>0.29008</td>\n",
       "      <td>N Organique</td>\n",
       "      <td>NaN</td>\n",
       "      <td>Non</td>\n",
       "    </tr>\n",
       "  </tbody>\n",
       "</table>\n",
       "</div>"
      ],
      "text/plain": [
       "   annee code_departement  departement      amm                    substance  \\\n",
       "0   2017               00  INDETERMINE  2179999          mesosulfuron-methyl   \n",
       "1   2017               00  INDETERMINE  2010618  cuivre du sulfate de cuivre   \n",
       "2   2017               00  INDETERMINE  2010628             trifloxystrobine   \n",
       "3   2017               00  INDETERMINE  2010637                        2,4-d   \n",
       "4   2017               00  INDETERMINE  2010637                    triclopyr   \n",
       "\n",
       "           cas  quantite_substance classification  classification_mention  \\\n",
       "0  208465-21-8             2.77500    N Organique                     NaN   \n",
       "1    8011-63-0           247.02400      N minéral                     NaN   \n",
       "2  141517-21-7             1.00000    N Organique                     NaN   \n",
       "3      94-75-7             0.26040    N Organique                     NaN   \n",
       "4   55335-06-3             0.29008    N Organique                     NaN   \n",
       "\n",
       "  achat_etranger  \n",
       "0            Non  \n",
       "1            Non  \n",
       "2            Non  \n",
       "3            Non  \n",
       "4            Non  "
      ]
     },
     "execution_count": 56,
     "metadata": {},
     "output_type": "execute_result"
    }
   ],
   "source": [
    "# Répertoire contenant les fichiers CSV\n",
    "input_dir = \"/home/onyxia/work/AgricultureBio_France/Achats pesticides/dossier_Achats_pesticides_selected\"\n",
    "\n",
    "# Liste des années à traiter\n",
    "annees = range(2017, 2023)\n",
    "\n",
    "# Dictionnaire pour stocker les DataFrames par année\n",
    "dataframes = {}\n",
    "\n",
    "# Boucle pour lire les fichiers de chaque année\n",
    "for annee in annees:\n",
    "    file_path = os.path.join(input_dir, f\"achats_pesticides_{annee}.csv\")\n",
    "    try:\n",
    "        print(f\"Lecture du fichier : {file_path}\")\n",
    "        df = pd.read_csv(file_path, sep=\";\", encoding=\"utf-8\", on_bad_lines=\"skip\")\n",
    "        dataframes[annee] = df  # Stocker le DataFrame dans le dictionnaire\n",
    "        print(f\"Année {annee} chargée avec succès. Nombre de lignes : {len(df)}\")\n",
    "    except Exception as e:\n",
    "        print(f\"Erreur pour l'année {annee} : {e}\")\n",
    "\n",
    "# Exemple : Accéder aux données pour une année spécifique\n",
    "print(\"\\nAperçu des données de 2017 :\")\n",
    "dataframes[2017].head()\n"
   ]
  },
  {
   "cell_type": "code",
   "execution_count": 57,
   "metadata": {},
   "outputs": [
    {
     "name": "stdout",
     "output_type": "stream",
     "text": [
      "Traitement des données pour l'année 2017\n",
      "Traitement des données pour l'année 2018\n",
      "Traitement des données pour l'année 2019\n",
      "Traitement des données pour l'année 2020\n",
      "Traitement des données pour l'année 2021\n",
      "Traitement des données pour l'année 2022\n",
      "\n",
      "Toutes les valeurs uniques de 'code_departement' :\n",
      "['0', '00', '01', '02', '03', '04', '05', '06', '07', '08', '09', '1', '10', '11', '12', '13', '14', '15', '16', '17', '18', '19', '2', '21', '22', '23', '24', '25', '26', '27', '28', '29', '2A', '2B', '30', '31', '32', '33', '34', '35', '36', '37', '38', '39', '40', '41', '42', '43', '44', '45', '46', '47', '48', '49', '50', '51', '52', '53', '54', '55', '56', '57', '58', '59', '60', '61', '62', '63', '64', '65', '66', '67', '68', '69', '70', '71', '72', '73', '74', '75', '76', '77', '78', '79', '80', '81', '82', '83', '84', '85', '86', '87', '88', '89', '90', '91', '92', '93', '94', '95', '971', '972', '973', '974', '976']\n",
      "\n",
      "Toutes les valeurs uniques de 'departement' :\n",
      "['AIN', 'AISNE', 'ALLIER', 'ALPES DE HAUTE PROVENCE', 'ALPES MARITIMES', 'ARDECHE', 'ARDENNES', 'ARIEGE', 'AUBE', 'AUDE', 'AVEYRON', 'BAS RHIN', 'BOUCHES DU RHONE', 'CALVADOS', 'CANTAL', 'CHARENTE', 'CHARENTE MARITIME', 'CHER', 'CORREZE', 'CORSE DU SUD', 'COTE D OR', 'COTES D ARMOR', 'CREUSE', 'DEUX SEVRES', 'DORDOGNE', 'DOUBS', 'DROME', 'ESSONNE', 'EURE', 'EURE ET LOIR', 'FINISTERE', 'GARD', 'GERS', 'GIRONDE', 'GUADELOUPE', 'GUYANE', 'HAUT RHIN', 'HAUTE CORSE', 'HAUTE GARONNE', 'HAUTE LOIRE', 'HAUTE MARNE', 'HAUTE SAONE', 'HAUTE SAVOIE', 'HAUTE VIENNE', 'HAUTES ALPES', 'HAUTES PYRENEES', 'HAUTS DE SEINE', 'HERAULT', 'ILLE ET VILAINE', 'INDETERMINE', 'INDRE', 'INDRE ET LOIRE', 'ISERE', 'JURA', 'LA REUNION', 'LANDES', 'LOIR ET CHER', 'LOIRE', 'LOIRE ATLANTIQUE', 'LOIRET', 'LOT', 'LOT ET GARONNE', 'LOZERE', 'MAINE ET LOIRE', 'MANCHE', 'MARNE', 'MARTINIQUE', 'MAYENNE', 'MAYOTTE', 'MEURTHE ET MOSELLE', 'MEUSE', 'MORBIHAN', 'MOSELLE', 'NIEVRE', 'NORD', 'OISE', 'ORNE', 'PARIS', 'PAS DE CALAIS', 'PUY DE DOME', 'PYRENEES ATLANTIQUES', 'PYRENEES ORIENTALES', 'RHONE', 'SAONE ET LOIRE', 'SARTHE', 'SAVOIE', 'SEINE ET MARNE', 'SEINE MARITIME', 'SEINE SAINT DENIS', 'SOMME', 'TARN', 'TARN ET GARONNE', 'TERRITOIRE DE BELFORT', 'VAL D OISE', 'VAL DE MARNE', 'VAR', 'VAUCLUSE', 'VENDEE', 'VIENNE', 'VOSGES', 'YONNE', 'YVELINES']\n"
     ]
    }
   ],
   "source": [
    "# Variables à extraire\n",
    "variables = [\"code_departement\", \"departement\"]\n",
    "\n",
    "# Créer des ensembles pour stocker les valeurs uniques\n",
    "codes_departements = set()\n",
    "noms_departements = set()\n",
    "\n",
    "# Parcourir les DataFrames par année\n",
    "for annee, df in dataframes.items():\n",
    "    print(f\"Traitement des données pour l'année {annee}\")\n",
    "    # Ajouter les valeurs uniques pour chaque variable, si les colonnes existent\n",
    "    if \"code_departement\" in df.columns:\n",
    "        codes_departements.update(df[\"code_departement\"].dropna().astype(str).unique())\n",
    "    if \"departement\" in df.columns:\n",
    "        noms_departements.update(df[\"departement\"].dropna().astype(str).unique())\n",
    "\n",
    "# Convertir en liste pour affichage ordonné\n",
    "codes_departements = sorted(list(codes_departements))\n",
    "noms_departements = sorted(list(noms_departements))\n",
    "\n",
    "# Afficher les résultats\n",
    "print(\"\\nToutes les valeurs uniques de 'code_departement' :\")\n",
    "print(codes_departements)\n",
    "\n",
    "print(\"\\nToutes les valeurs uniques de 'departement' :\")\n",
    "print(noms_departements)\n"
   ]
  },
  {
   "cell_type": "code",
   "execution_count": 58,
   "metadata": {},
   "outputs": [
    {
     "name": "stdout",
     "output_type": "stream",
     "text": [
      "Année 2017 : 722 lignes supprimées. Nouveau total : 126366 lignes.\n",
      "Année 2018 : 888 lignes supprimées. Nouveau total : 126440 lignes.\n",
      "Année 2019 : 526 lignes supprimées. Nouveau total : 112281 lignes.\n",
      "Année 2020 : 592 lignes supprimées. Nouveau total : 110632 lignes.\n",
      "Année 2021 : 664 lignes supprimées. Nouveau total : 108909 lignes.\n",
      "Année 2022 : 542 lignes supprimées. Nouveau total : 106119 lignes.\n",
      "\n",
      "Suppression terminée. Les lignes avec 'code_departement' == '00' ont été supprimées.\n"
     ]
    }
   ],
   "source": [
    "# Parcourir les DataFrames et supprimer les lignes avec code_departement == \"00\"\n",
    "for annee, df in dataframes.items():\n",
    "    if \"code_departement\" in df.columns:\n",
    "        # Filtrer les lignes où code_departement est différent de \"00\"\n",
    "        initial_rows = len(df)\n",
    "        dataframes[annee] = df[df[\"code_departement\"].astype(str) != \"00\"].reset_index(drop=True)\n",
    "        final_rows = len(dataframes[annee])\n",
    "        \n",
    "        print(f\"Année {annee} : {initial_rows - final_rows} lignes supprimées. Nouveau total : {final_rows} lignes.\")\n",
    "    else:\n",
    "        print(f\"Année {annee} : Colonne 'code_departement' non trouvée, aucune modification effectuée.\")\n",
    "\n",
    "print(\"\\nSuppression terminée. Les lignes avec 'code_departement' == '00' ont été supprimées.\")\n"
   ]
  },
  {
   "cell_type": "code",
   "execution_count": 60,
   "metadata": {},
   "outputs": [
    {
     "name": "stdout",
     "output_type": "stream",
     "text": [
      "Variations des quantités de pesticides par département :\n",
      "annee                      2018          2019           2020           2021  \\\n",
      "code_departement                                                              \n",
      "0                 285080.318476 -3.916480e+05 -720722.297263  167859.131997   \n",
      "1                 187946.790448 -7.966968e+04   40081.433510    9155.048167   \n",
      "2                      0.000000  0.000000e+00  608205.719704  -48738.487450   \n",
      "50               -296558.647488 -3.400483e+05       0.000000       0.000000   \n",
      "51                180122.382853 -2.807595e+06       0.000000       0.000000   \n",
      "\n",
      "annee                      2022  \n",
      "code_departement                 \n",
      "0                -275900.715528  \n",
      "1                 136470.050557  \n",
      "2                -316019.858914  \n",
      "50                     0.000000  \n",
      "51                     0.000000  \n"
     ]
    }
   ],
   "source": [
    "# Créer un DataFrame global pour stocker les agrégations par année et département\n",
    "evolution_df = pd.DataFrame()\n",
    "\n",
    "# Agréger les données par département et année\n",
    "for annee, df in dataframes.items():\n",
    "    if \"code_departement\" in df.columns and \"quantite_substance\" in df.columns:\n",
    "        aggregated = df.groupby(\"code_departement\")[\"quantite_substance\"].sum().reset_index()\n",
    "        aggregated[\"annee\"] = annee\n",
    "        evolution_df = pd.concat([evolution_df, aggregated], ignore_index=True)\n",
    "\n",
    "# Pivot pour obtenir une colonne par année\n",
    "pivot_df = evolution_df.pivot(index=\"code_departement\", columns=\"annee\", values=\"quantite_substance\").fillna(0)\n",
    "\n",
    "# Calculer les variations entre les années successives\n",
    "variations_df = pivot_df.diff(axis=1).dropna(axis=1)  # Calcul des différences entre colonnes successives\n",
    "\n",
    "# Affichage des variations\n",
    "print(\"Variations des quantités de pesticides par département :\")\n",
    "print(variations_df.head())"
   ]
  },
  {
   "cell_type": "markdown",
   "metadata": {},
   "source": [
    "### Travail sur les deux DF obtenus et merge des deux bases de données "
   ]
  },
  {
   "cell_type": "code",
   "execution_count": 62,
   "metadata": {},
   "outputs": [
    {
     "name": "stdout",
     "output_type": "stream",
     "text": [
      "Colonnes dans variations_df :\n",
      "Index([2018, 2019, 2020, 2021, 2022], dtype='int64', name='annee')\n",
      "\n",
      "Colonnes dans df_combined :\n",
      "Index(['surface_ha', 'gid', 'zone_geo', 'code_departement', 'code_region',\n",
      "       'annee', 'ratio_dept_france'],\n",
      "      dtype='object')\n"
     ]
    }
   ],
   "source": [
    "print(\"Colonnes dans variations_df :\")\n",
    "print(variations_df.columns)\n",
    "\n",
    "print(\"\\nColonnes dans df_combined :\")\n",
    "print(df_combined.columns)\n"
   ]
  },
  {
   "cell_type": "code",
   "execution_count": 63,
   "metadata": {},
   "outputs": [
    {
     "name": "stdout",
     "output_type": "stream",
     "text": [
      "Colonnes après réinitialisation de l'index :\n",
      "Index(['code_departement', 2018, 2019, 2020, 2021, 2022], dtype='object', name='annee')\n"
     ]
    }
   ],
   "source": [
    "# Réinitialiser l'index pour récupérer 'code_departement' comme colonne\n",
    "variations_df = variations_df.reset_index()\n",
    "\n",
    "print(\"Colonnes après réinitialisation de l'index :\")\n",
    "print(variations_df.columns)\n"
   ]
  },
  {
   "cell_type": "markdown",
   "metadata": {},
   "source": [
    "#### Harmanisation des types des deux bases de données + fusion \n"
   ]
  },
  {
   "cell_type": "code",
   "execution_count": 65,
   "metadata": {},
   "outputs": [
    {
     "name": "stdout",
     "output_type": "stream",
     "text": [
      "   surface_ha  gid  zone_geo code_departement  code_region  annee  \\\n",
      "0       10.19  261         1                0         84.0   2021   \n",
      "1        1.53  263         1                0         84.0   2021   \n",
      "2        7.01  267         1                0         84.0   2021   \n",
      "3        1.37  268         1                0         84.0   2021   \n",
      "4        0.59  274         1                0         84.0   2021   \n",
      "\n",
      "   ratio_dept_france           2018           2019           2020  \\\n",
      "0           0.007768  285080.318476 -391648.028123 -720722.297263   \n",
      "1           0.007768  285080.318476 -391648.028123 -720722.297263   \n",
      "2           0.007768  285080.318476 -391648.028123 -720722.297263   \n",
      "3           0.007768  285080.318476 -391648.028123 -720722.297263   \n",
      "4           0.007768  285080.318476 -391648.028123 -720722.297263   \n",
      "\n",
      "            2021           2022  \n",
      "0  167859.131997 -275900.715528  \n",
      "1  167859.131997 -275900.715528  \n",
      "2  167859.131997 -275900.715528  \n",
      "3  167859.131997 -275900.715528  \n",
      "4  167859.131997 -275900.715528  \n"
     ]
    }
   ],
   "source": [
    "variations_df['code_departement'] = variations_df['code_departement'].astype(str)\n",
    "df_combined['code_departement'] = df_combined['code_departement'].astype(str)\n",
    "df_combined = df_combined.merge(\n",
    "    variations_df,\n",
    "    on='code_departement',\n",
    "    how='left'  # Garder toutes les lignes de df_combined\n",
    ")\n",
    "\n",
    "print(df_combined.head())\n"
   ]
  },
  {
   "cell_type": "code",
   "execution_count": 67,
   "metadata": {},
   "outputs": [
    {
     "name": "stdout",
     "output_type": "stream",
     "text": [
      "   surface_ha  gid  zone_geo code_departement  code_region  annee  \\\n",
      "0       10.19  261         1                0         84.0   2021   \n",
      "1        1.53  263         1                0         84.0   2021   \n",
      "2        7.01  267         1                0         84.0   2021   \n",
      "3        1.37  268         1                0         84.0   2021   \n",
      "4        0.59  274         1                0         84.0   2021   \n",
      "\n",
      "   ratio_dept_france           2018           2019           2020  \\\n",
      "0           0.007768  285080.318476 -391648.028123 -720722.297263   \n",
      "1           0.007768  285080.318476 -391648.028123 -720722.297263   \n",
      "2           0.007768  285080.318476 -391648.028123 -720722.297263   \n",
      "3           0.007768  285080.318476 -391648.028123 -720722.297263   \n",
      "4           0.007768  285080.318476 -391648.028123 -720722.297263   \n",
      "\n",
      "            2021           2022  \n",
      "0  167859.131997 -275900.715528  \n",
      "1  167859.131997 -275900.715528  \n",
      "2  167859.131997 -275900.715528  \n",
      "3  167859.131997 -275900.715528  \n",
      "4  167859.131997 -275900.715528  \n"
     ]
    }
   ],
   "source": [
    "# Réorganisation des colonnes pour afficher les années à la fin\n",
    "cols = [col for col in df_combined.columns if col not in [2018, 2019, 2020, 2021, 2022]]\n",
    "df_combined = df_combined[cols + [2018, 2019, 2020, 2021, 2022]]\n",
    "\n",
    "print(df_combined.head())\n"
   ]
  },
  {
   "cell_type": "markdown",
   "metadata": {},
   "source": [
    "### Début du ML "
   ]
  },
  {
   "cell_type": "code",
   "execution_count": 16,
   "metadata": {},
   "outputs": [
    {
     "name": "stderr",
     "output_type": "stream",
     "text": [
      "/tmp/ipykernel_7892/783615431.py:8: SettingWithCopyWarning: \n",
      "A value is trying to be set on a copy of a slice from a DataFrame.\n",
      "Try using .loc[row_indexer,col_indexer] = value instead\n",
      "\n",
      "See the caveats in the documentation: https://pandas.pydata.org/pandas-docs/stable/user_guide/indexing.html#returning-a-view-versus-a-copy\n",
      "  X[col] = encoder.fit_transform(X[col])\n",
      "/tmp/ipykernel_7892/783615431.py:8: SettingWithCopyWarning: \n",
      "A value is trying to be set on a copy of a slice from a DataFrame.\n",
      "Try using .loc[row_indexer,col_indexer] = value instead\n",
      "\n",
      "See the caveats in the documentation: https://pandas.pydata.org/pandas-docs/stable/user_guide/indexing.html#returning-a-view-versus-a-copy\n",
      "  X[col] = encoder.fit_transform(X[col])\n",
      "/tmp/ipykernel_7892/783615431.py:8: SettingWithCopyWarning: \n",
      "A value is trying to be set on a copy of a slice from a DataFrame.\n",
      "Try using .loc[row_indexer,col_indexer] = value instead\n",
      "\n",
      "See the caveats in the documentation: https://pandas.pydata.org/pandas-docs/stable/user_guide/indexing.html#returning-a-view-versus-a-copy\n",
      "  X[col] = encoder.fit_transform(X[col])\n"
     ]
    }
   ],
   "source": [
    "from sklearn.preprocessing import LabelEncoder\n",
    "\n",
    "# Colonnes catégoriques à encoder\n",
    "categorical_columns = ['code_departement', 'code_region', 'zone_geo']\n",
    "encoder = LabelEncoder()\n",
    "\n",
    "for col in categorical_columns:\n",
    "    X[col] = encoder.fit_transform(X[col])\n"
   ]
  },
  {
   "cell_type": "code",
   "execution_count": 17,
   "metadata": {},
   "outputs": [
    {
     "name": "stdout",
     "output_type": "stream",
     "text": [
      "Dimensions de l'ensemble d'entraînement : (2624497, 4)\n",
      "Dimensions de l'ensemble de test : (656125, 4)\n"
     ]
    }
   ],
   "source": [
    "from sklearn.model_selection import train_test_split\n",
    "\n",
    "# Diviser les données en ensemble d'entraînement et de test\n",
    "X_train, X_test, y_train, y_test = train_test_split(X, y, test_size=0.2, random_state=42)\n",
    "\n",
    "print(\"Dimensions de l'ensemble d'entraînement :\", X_train.shape)\n",
    "print(\"Dimensions de l'ensemble de test :\", X_test.shape)\n"
   ]
  },
  {
   "cell_type": "code",
   "execution_count": 18,
   "metadata": {},
   "outputs": [],
   "source": [
    "from sklearn.ensemble import RandomForestRegressor\n",
    "\n",
    "# Initialiser le modèle\n",
    "model = RandomForestRegressor(random_state=42)\n",
    "\n",
    "# Entraîner le modèle\n",
    "model.fit(X_train, y_train)\n",
    "\n",
    "# Faire des prédictions sur l'ensemble de test\n",
    "y_pred = model.predict(X_test)\n"
   ]
  },
  {
   "cell_type": "code",
   "execution_count": 19,
   "metadata": {},
   "outputs": [
    {
     "name": "stdout",
     "output_type": "stream",
     "text": [
      "Erreur quadratique moyenne (MSE) : 111.16651842802362\n",
      "Coefficient de détermination (R²) : 0.010760756958608009\n"
     ]
    }
   ],
   "source": [
    "from sklearn.metrics import mean_squared_error, r2_score\n",
    "\n",
    "mse = mean_squared_error(y_test, y_pred)\n",
    "r2 = r2_score(y_test, y_pred)\n",
    "\n",
    "print(\"Erreur quadratique moyenne (MSE) :\", mse)\n",
    "print(\"Coefficient de détermination (R²) :\", r2)\n"
   ]
  },
  {
   "cell_type": "code",
   "execution_count": 21,
   "metadata": {},
   "outputs": [
    {
     "name": "stdout",
     "output_type": "stream",
     "text": [
      "Valeurs uniques pour 'code_departement' : [  0  54   3  57  38  59 100  73  67  10  22   1  51   2  21  82   6   7\n",
      "   4  83  76  24  43  12  63  71  30  37  47  46  40   8  31  14  32  19\n",
      "  66  65  84  80   9  16   5  55  20  11  52  48  88  34  13  61  25  15\n",
      "  17  77  41  58  86  70  50  18  64  26  27  85  78  56  69  29  62  33\n",
      "  23  39  75  72  28  81  42  44  45  35  36  49  53  87  68  60  79  74\n",
      "  89  90  91  92  93  94  95  98  96  97  99]\n",
      "Valeurs uniques pour 'code_region' : [15 10 16  9 19 14 13  5  7  6 11 12  8 17  0  1  4  2  3 18]\n",
      "Valeurs uniques pour 'zone_geo' : [1 0]\n",
      "Prédictions pour 2024 : [2.60993243 2.60993243]\n"
     ]
    }
   ],
   "source": [
    "# Vérifier les valeurs uniques pour chaque colonne encodée\n",
    "print(\"Valeurs uniques pour 'code_departement' :\", X['code_departement'].unique())\n",
    "print(\"Valeurs uniques pour 'code_region' :\", X['code_region'].unique())\n",
    "print(\"Valeurs uniques pour 'zone_geo' :\", X['zone_geo'].unique())\n",
    "\n",
    "# Créer des données pour 2024 avec des valeurs apprises par le LabelEncoder\n",
    "future_data = pd.DataFrame({\n",
    "    'code_departement': [X['code_departement'].iloc[0], X['code_departement'].iloc[1]],  # Exemple de valeurs existantes\n",
    "    'code_region': [X['code_region'].iloc[0], X['code_region'].iloc[1]],\n",
    "    'zone_geo': [X['zone_geo'].iloc[0], X['zone_geo'].iloc[1]],\n",
    "    'annee': [2024, 2024]\n",
    "})\n",
    "\n",
    "# Prédictions pour 2024\n",
    "future_predictions = model.predict(future_data)\n",
    "print(\"Prédictions pour 2024 :\", future_predictions)\n"
   ]
  },
  {
   "cell_type": "markdown",
   "metadata": {},
   "source": [
    "## Autre approche le *CLUSTERING*"
   ]
  },
  {
   "cell_type": "code",
   "execution_count": 70,
   "metadata": {},
   "outputs": [
    {
     "name": "stdout",
     "output_type": "stream",
     "text": [
      "Données prêtes pour le clustering :\n",
      "[[-0.85623595  0.61167836 -0.26221538 -4.30271646  1.50294493 -2.3599891 ]\n",
      " [-0.85623595  0.61167836 -0.26221538 -4.30271646  1.50294493 -2.3599891 ]\n",
      " [-0.85623595  0.61167836 -0.26221538 -4.30271646  1.50294493 -2.3599891 ]\n",
      " [-0.85623595  0.61167836 -0.26221538 -4.30271646  1.50294493 -2.3599891 ]\n",
      " [-0.85623595  0.61167836 -0.26221538 -4.30271646  1.50294493 -2.3599891 ]]\n"
     ]
    }
   ],
   "source": [
    "from sklearn.preprocessing import StandardScaler\n",
    "\n",
    "# Sélection des colonnes pour le clustering\n",
    "columns_for_clustering = ['ratio_dept_france', 2018, 2019, 2020, 2021, 2022]\n",
    "\n",
    "# Préparer les données pour le clustering\n",
    "clustering_data = df_combined[columns_for_clustering]\n",
    "\n",
    "# Remplacer les NaN par des zéros (si nécessaire)\n",
    "clustering_data = clustering_data.fillna(0)\n",
    "\n",
    "# Convertir tous les noms de colonnes en chaînes\n",
    "clustering_data.columns = clustering_data.columns.astype(str)\n",
    "\n",
    "# Standardisation des données\n",
    "scaler = StandardScaler()\n",
    "clustering_data_scaled = scaler.fit_transform(clustering_data)\n",
    "\n",
    "print(\"Données prêtes pour le clustering :\")\n",
    "print(clustering_data_scaled[:5])\n",
    "\n"
   ]
  },
  {
   "cell_type": "code",
   "execution_count": 73,
   "metadata": {},
   "outputs": [
    {
     "name": "stdout",
     "output_type": "stream",
     "text": [
      "Moyenne des colonnes après standardisation :\n",
      "[-5.20019380e-16  1.66856612e-16  1.36402721e-16 -1.00830529e-16\n",
      " -2.86624855e-17  2.20086942e-17]\n",
      "\n",
      "Écart-type des colonnes après standardisation :\n",
      "[1. 1. 1. 1. 1. 1.]\n"
     ]
    }
   ],
   "source": [
    "print(\"Moyenne des colonnes après standardisation :\")\n",
    "print(clustering_data_scaled.mean(axis=0))\n",
    "\n",
    "print(\"\\nÉcart-type des colonnes après standardisation :\")\n",
    "print(clustering_data_scaled.std(axis=0))\n"
   ]
  },
  {
   "cell_type": "code",
   "execution_count": null,
   "metadata": {},
   "outputs": [],
   "source": [
    "from sklearn.metrics import silhouette_score\n",
    "\n",
    "# Calcul du score de silhouette pour différents nombres de clusters\n",
    "for k in range(2, 6):  # Essayez avec 2 à 5 clusters\n",
    "    kmeans = KMeans(n_clusters=k, random_state=42)\n",
    "    clusters = kmeans.fit_predict(clustering_data_scaled)\n",
    "    score = silhouette_score(clustering_data_scaled, clusters)\n",
    "    print(f\"Score de silhouette pour {k} clusters : {score}\")\n"
   ]
  },
  {
   "cell_type": "code",
   "execution_count": 71,
   "metadata": {},
   "outputs": [
    {
     "data": {
      "image/png": "[encoded data removed]",
      "text/plain": [
       "<Figure size 800x500 with 1 Axes>"
      ]
     },
     "metadata": {},
     "output_type": "display_data"
    },
    {
     "name": "stdout",
     "output_type": "stream",
     "text": [
      "Aperçu des clusters :\n",
      "  code_departement  cluster\n",
      "0                0        0\n",
      "1                0        0\n",
      "2                0        0\n",
      "3                0        0\n",
      "4                0        0\n"
     ]
    }
   ],
   "source": [
    "from sklearn.cluster import KMeans\n",
    "import matplotlib.pyplot as plt\n",
    "\n",
    "# Déterminer le nombre optimal de clusters (méthode Elbow)\n",
    "inertia = []\n",
    "K = range(1, 10)\n",
    "\n",
    "for k in K:\n",
    "    kmeans = KMeans(n_clusters=k, random_state=42)\n",
    "    kmeans.fit(clustering_data_scaled)\n",
    "    inertia.append(kmeans.inertia_)\n",
    "\n",
    "# Visualiser la méthode Elbow\n",
    "plt.figure(figsize=(8, 5))\n",
    "plt.plot(K, inertia, 'bo-', markersize=8)\n",
    "plt.xlabel('Nombre de clusters (k)')\n",
    "plt.ylabel('Inertie')\n",
    "plt.title('Méthode Elbow pour déterminer k')\n",
    "plt.show()\n",
    "\n",
    "# Appliquer K-Means avec un nombre optimal de clusters (par ex. k=3)\n",
    "kmeans = KMeans(n_clusters=3, random_state=42)\n",
    "clusters = kmeans.fit_predict(clustering_data_scaled)\n",
    "\n",
    "# Ajouter les clusters au DataFrame original\n",
    "df_combined['cluster'] = clusters\n",
    "\n",
    "print(\"Aperçu des clusters :\")\n",
    "print(df_combined[['code_departement', 'cluster']].head())\n"
   ]
  },
  {
   "cell_type": "code",
   "execution_count": 72,
   "metadata": {},
   "outputs": [
    {
     "name": "stdout",
     "output_type": "stream",
     "text": [
      "       ratio_dept_france          2018          2019          2020  \\\n",
      "count       3.553893e+06  3.553893e+06  3.553893e+06  3.553893e+06   \n",
      "mean        1.453851e-02  1.348909e+05 -2.861209e+05  1.039464e+05   \n",
      "std         7.907319e-03  2.455366e+05  4.024445e+05  1.916624e+05   \n",
      "min         8.233990e-06 -2.965586e+05 -2.807595e+06 -7.207223e+05   \n",
      "25%         9.546033e-03  0.000000e+00 -4.498357e+05  4.153126e+03   \n",
      "50%         1.285818e-02  4.528802e+04 -2.063270e+05  4.715549e+04   \n",
      "75%         1.773707e-02  1.575274e+05 -3.186760e+04  1.888784e+05   \n",
      "max         4.217398e-02  1.125085e+06  2.534900e+06  6.955911e+05   \n",
      "\n",
      "               2021          2022  \n",
      "count  3.553893e+06  3.553893e+06  \n",
      "mean   2.525260e+04 -4.190163e+03  \n",
      "std    9.488475e+04  1.151321e+05  \n",
      "min   -3.091131e+05 -6.532871e+05  \n",
      "25%   -5.318756e+03 -2.818228e+04  \n",
      "50%    1.195463e+04  0.000000e+00  \n",
      "75%    5.200004e+04  7.198594e+03  \n",
      "max    6.715598e+05  5.609761e+05  \n"
     ]
    }
   ],
   "source": [
    "print(clustering_data.describe())\n"
   ]
  },
  {
   "cell_type": "code",
   "execution_count": null,
   "metadata": {},
   "outputs": [],
   "source": [
    "£"
   ]
  }
 ],
 "metadata": {
  "kernelspec": {
   "display_name": "base",
   "language": "python",
   "name": "python3"
  },
  "language_info": {
   "codemirror_mode": {
    "name": "ipython",
    "version": 3
   },
   "file_extension": ".py",
   "mimetype": "text/x-python",
   "name": "python",
   "nbconvert_exporter": "python",
   "pygments_lexer": "ipython3",
   "version": "3.12.7"
  }
 },
 "nbformat": 4,
 "nbformat_minor": 2
}
