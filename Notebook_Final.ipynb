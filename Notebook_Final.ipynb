{
 "cells": [
  {
   "cell_type": "markdown",
   "metadata": {},
   "source": [
    "# Le Bio : nous raconte-t-on des salades ?\n",
    "*Ce projet est réalisé dans le cadre du cours de Python pour la Data Science donné par Lino Galiana à l'ENSAE Paris en 2024.*\n",
    "\n",
    "Auteurs: *Fadi Belmahi, Imane Bayoub et Elise Fontaine.*\n",
    "\n",
    "## Introduction et problématique \n",
    "\n",
    "L’agriculture biologique est souvent perçue comme une réponse incontournable aux défis environnementaux et sanitaires. Dans les supermarchés, elle occupe une place croissante dans les étalages, tandis que des films, comme *Goliath*, de Frédéric Tellier sorti en 2022, mettent en lumière les combats liés aux pesticides et à la réglementation sur le glyphosate. Pourtant, au-delà des discours et de l’émotion suscitée, la réalité de sa progression dans l’agriculture française nous interroge. En dépit de l'interdiction de certains pesticides par les réglementations européennes et françaises, la France demeure, selon un rapport d’Euractiv, le premier consommateur de pesticides en Europe avec près de 80 000 tonnes utilisées par an. Ce constat nous  invite à explorer un paradoxe : **La conversion à l’agriculture biologique en France est-elle réellement ancrée et efficace pour réduire l’usage des pesticides, ou bien reste-t-elle un phénomène principalement public et émotionnel face à une agriculture conventionnelle toujours dominante ?**\n",
    "\n",
    "Nous débuterons par une étude du phénomène du bio en tant que sujet public et sociétal. Nous définirons ce qu’est l’agriculture biologique et analyserons sa place dans l’opinion publique, marquée par des fluctuations et des perceptions parfois contradictoires.\n",
    "\n",
    "Ensuite, nous examinerons la réalité concrète sur le terrain en réalisant un mapping des surfaces agricoles dédiées au bio. Cela nous permettra de mieux comprendre son évolution dans le temps et sa répartition géographique. Nous serons ainsi en mesure de percevoir les inégalités territoriales dans sa diffusion, révélant les disparités dans l’adoption du bio à travers les différentes régions françaises.\n",
    "\n",
    "Enfin, nous modéliserons l’évolution des conversions au bio à la lumière de leur impact sur l’achat des pesticides, afin d’évaluer si le bio peut réellement transformer et s'ancrer dans le paysage agricole français.\n",
    "\n",
    "**Utilisation du notebook**: pour toutes les explications de nos codes, nous chargeons le travail fait dans d'autres notebooks grâce à la fonction `%run` et il est précisé en commentaire le temps nécessaire à l'exécution des codes, pour tous les codes avec une exécution très longue. "
   ]
  },
  {
   "cell_type": "code",
   "execution_count": null,
   "metadata": {},
   "outputs": [],
   "source": [
    "! pip install nbformat"
   ]
  },
  {
   "cell_type": "markdown",
   "metadata": {},
   "source": [
    "## 1) La perception fluctuante de l'agriculture biologique.\n",
    "\n",
    "Nous partons du constat suivant : le bio est un phénomène public qui suscite de nombreux débats et provoque des réactions émotionnelles, car il touche à deux aspects fondamentaux de la vie des individus : l’alimentation et la santé.\n",
    "\n",
    "Mais avant tout définissons ce qu'est exactement le bio. \n",
    "\n",
    "L'agence bio le définit comme un mode de production agricole et agroalimentaire \n",
    "contrôlé par la loi, une loi détaillée dans un cahier des charges \n",
    "agronomique. Parmi les grands principes de ce cahier des charges, nous retrouvons par exemple l'interdiction des pesticides et engrais de synthèse et d’OGM ou encore l'utilisation de méthodes \n",
    "agricoles écologiques comme le recyclage \n",
    "et le compostage des matières organiques ou la rotation  pluriannuelle des cultures.  \n",
    "\n",
    "Comme nous l'avons dit précédement, ce mode de production est fait partie intégrante du débat public. Pour autant sa perception par les consommateurs varie, comme le montre son déclin actuel avec une déconversion de quelques 2 174 producteurs entre janvier et août 2022 (l’Agence Bio). \n",
    "\n",
    "Pour attester de cette fluctuation des opinions, nous avons choisi d'effectuer un **webscraping**, nous permettant de savoir comment le bio était présenté dans le paysage médiatique (approche qualitative), influençant et donc reflétant l'opinion public, mais aussi à quelle fréquence il est évoqué par le grand public (approche quantitative).\n",
    "\n",
    "### 1.1) Sélection des médias à scraper\n",
    "\n",
    "Avant de commencer notre webscraping des médias pour l'approche qualitative, nous avons utilisé une clé API de \"News API\" pour **déterminer les journaux les plus pertinents à inclure dans notre analyse**, en se basant sur la couverture médiatique disponible. *L'API gratuite limite l'accès aux articles du mois précédent, rendant impossible une analyse historique sans abonnement payant.*\n",
    "\n",
    "Le code pour cette étape est disponible dans le dossier `perception_bio` dans le notebook `scraping_media.ipynb`."
   ]
  },
  {
   "cell_type": "code",
   "execution_count": null,
   "metadata": {},
   "outputs": [],
   "source": [
    "%run 'perception_bio/scrapping_media.ipynb'"
   ]
  },
  {
   "cell_type": "markdown",
   "metadata": {},
   "source": [
    "Comme seulement les résultats sont présents ici, expliquons la **démarche** qui a été entreprise (démarche a retrouver dans le notebook indiqué ci-dessus).\n",
    "\n",
    "- Tout d'abord, notre code interroge l'API NewsAPI pour rechercher des articles contenant le mot-clé \"bio\" en français, publiés juin et juillet 2024, triés par popularité, puis affiche les détails des articles (titre, auteur, source, date, lien) si la requête réussit.\n",
    "- Ensuite, nous avons fait un code pour filtrer les articles et identifier ceux qui contiennent des mots-clés liés à \"agriculture bio\" dans leurs données textuelles. Il affiche uniquement les titres des articles jugés pertinents après vérification.\n",
    "- Enfin, nous avons compté le nombre d'articles provenant de chaque source, puis nous avons demandé à afficher les sources les plus actives et le nombre d'articles correspondants."
   ]
  },
  {
   "cell_type": "markdown",
   "metadata": {},
   "source": [
    "Voici les **résultats** que nous avons obtenus:\n",
    "Les journaux les plus pertinents dans le cadre de notre analyse sont *Le Monde*, le *HuffPost* (un site d'actualités en ligne qui couvre une large gamme de sujets, souvent orientés vers les questions sociales et environnementales) et *LSA* (*La Revue des Professionnels de l'Alimentation*, un journal spécialisé dans l'alimentation, la consommation et les tendances du marché).\n",
    "A ces journaux, nous ajoutons des journaux à tendance politique différente comme *Le Figaro* ou *Le Point*, des journaux à orientation de droite, afin de diversifier la perspective puisque les journaux précédents sont principalement de centre gauche. Cependant, leur scraping a échoué à cause du rechargement dynamique des pages via JavaScript, ce qui a rendu leur extraction impossible sans outils supplémentaires.\n",
    "\n",
    "### 1.2) Scraping des journaux\n",
    "\n",
    "Pour commencer, nous avons effectuer un scraping des différents journaux, préalablement sélectionnés. La démarches étant similaires pour tous les journaux nous allons ici expliciter seulement une seule. Les autres sont à retrouver dans le dossier `perception_bio` dans les notebooks `scrapping_[NOM_journal].ipynb`."
   ]
  },
  {
   "cell_type": "code",
   "execution_count": null,
   "metadata": {},
   "outputs": [],
   "source": [
    "#Nous déconseillions d'exécuter ce code car la lecture du notebook de webscraping est très longue.\n",
    "%run 'perception_bio/scrapping_LSA.ipynb'"
   ]
  },
  {
   "cell_type": "markdown",
   "metadata": {},
   "source": [
    "Expliquons la **démarche** qui a été entreprise (démarche a retrouver dans le notebook indiqué ci-dessus).\n",
    "\n",
    "Notre objectif est de créer un dataset avec des articles de *LSA* sur l'agriculture biologique (2000-2024). Les articles sont enrichis avec les informations suivantes:Titre, Résumé, URL, Date de publication et un Average_Sentiment_Score, un score moyen de sentiment (0 à 1, du plus négatif au plus positif) sur le résumé entier.\n",
    "\n",
    "Pour cela, nous avons \n",
    "- collecté les articles présents sur la page principale de la catégorie Agriculture biologique de *LSA*. Nous avons extrait les titres, résumés, URLs et dates de publication de ces articles, en filtrant ceux contenant les mots-clés bio ou agriculture biologique dans leur titre ou résumé.\n",
    "- élargi l'analyse pour couvrir l'historique complet des articles publiés depuis 2000. Pour chaque année, nous avons scrapé les pages de l'historique des articles sur l'agriculture biologique. Nous avons suivi la même approche, en extrayant les titres, résumés, URLs et dates, et en filtrant selon les mots-clés bio ou agriculture biologique.\n",
    "- effectué une analyse de sentiment sur le résumé entier, calculant un score moyen de sentiment pour chaque article, allant de 0 (négatif) à 1 (positif).\n",
    "\n",
    "\n",
    "Enfin, nous avons enregistré nos résultat dans un dataset final (à retrouver dans le dossier `perception_bio` sous le nom de `data_LSA.csv` et de `data_LSA_archive.csv`) qui contient les informations suivantes : Title, Summary, URL, Date, Average_Sentiment_Score."
   ]
  },
  {
   "cell_type": "markdown",
   "metadata": {},
   "source": [
    "Les résultats de nos scrapings sont enregistrés dans les fichiers csv présents dans le dossier `perception_bio` sous les noms `data_[NOM_journal].csv`."
   ]
  },
  {
   "cell_type": "markdown",
   "metadata": {},
   "source": [
    "### 1.3) Scraping de l'opinion public directement\n",
    "\n",
    "Pour renforcer cette analyse qualitative faite sur les journaux, nous avons également fait un scraping sur Google Trend afin d'avoir un aperçu quantitatif de la perception du bio par les français directement, grâce à l'étude de l'intérêt de la population pour les thèmes liés au bio et aux pesticides, en utilisant les données de Google Trends.\n",
    "\n",
    "Nous avons procédé en deux temps: tout d'abord nous avons étudié l'intérêt pour les thématiques de bio et des pesticides par région, puis nous avons analysé l'évolution des recherches sur le bio dans le temps (approche quantitative).\n",
    "\n",
    "#### 1.3.1) Intérêt pour les thématiques du bio et des pesticides par régions\n",
    "\n",
    "Nous nous intéressons en premier lieu à l'intérêt pour les thématiques du bio et des pesticides selon les différentes régions de France. Cette analyse géographique permet d'identifier les disparités régionales et d'explorer les dynamiques locales concernant ces préoccupations. \n",
    "\n",
    "Google Trends, qui analyse les recherches Google, fournit des données géographiques basées sur les anciennes régions françaises (avant la réforme territoriale de 2016). Par conséquent, il a été nécessaire de transformer ces données pour les adapter à la nouvelle organisation régionale actuelle.\n",
    "\n",
    "Le code de ce premier scraping sur Google Trend est disponible dans notebook `google_trend.ipynb` présent dans le dossier `perception_bio`."
   ]
  },
  {
   "cell_type": "code",
   "execution_count": null,
   "metadata": {},
   "outputs": [],
   "source": [
    "#Nous déconseillions d'exécuter ce code car la lecture du notebook de webscraping est très longue.\n",
    "%run 'perception_bio/google_trend.ipynb'"
   ]
  },
  {
   "cell_type": "markdown",
   "metadata": {},
   "source": [
    "Expliquons la **démarche** qui a été entreprise (démarche a retrouver dans le notebook indiqué ci-dessus).\n",
    "\n",
    "Nous avons\n",
    "- sélectionné les mots-clés sur lesquels nous centrons notre scraping.\n",
    "Pour identifier les mots-clés les plus pertinents, nous avons préalablement réalisé une analyse des termes les plus fréquemment recherchés dans ces domaines. Cette démarche était nécessaire en raison de deux difficultés majeures :\n",
    "    - Les termes très spécifiques, comme \"agriculture biologique\", sont particulièrement pertinents pour notre sujet, mais leur volume de recherche est faible.\n",
    "    - À l'inverse, des mots-clés plus généraux, comme \"bio\", bénéficient d'un volume de recherche élevé, mais incluent des significations trop larges (e.g., biologie, cosmétiques bio), ce qui les rend peu spécifiques.\n",
    "Suite à cette analyse, nous avons sélectionné les mots-clés suivants, à la fois pertinents pour notre sujet et suffisamment recherchés. Pour le bio, nous avons les termes \"agriculture bio\" (intérêt pour la production), \"manger bio\" (intérêt pour la consommation), et pour les pesticides, nous avons  \"pesticides\" (intérêt pour la production) et \"qualité de l'eau\" (intérêt pour les impacts sur la consommation). \n",
    "- récupéré les données pour chacun des mots clés sélectionnés et nous les avons stockées dans des dictionnaires.\n",
    "- converti les résultats en données correspondantes aux régions mappées et ajouté les scores aux données géographiques pour chaque mot-clé\n",
    "- affiché les cartes colométriques, qui attribuent une couleur en fonction des valeurs de score pour chaque région."
   ]
  },
  {
   "cell_type": "markdown",
   "metadata": {},
   "source": [
    "#### 1.3.2) Evolution des recherches sur le bio dans le temps\n",
    "\n",
    "Nous avons ensuite étudié l'évolution des recherches sur ces mots-clés au fil du temps. Cette étape nous permet de mieux comprendre les dynamiques temporelles des recherches et leur relation entre elles.\n",
    "\n",
    "Le code se trouve sur le même notebook, mais du fait de sa lenteur d'exécution, nous déconseillons l'exécution dans cet environnement et nous expliquons à la place la **démarche** entreprise.\n",
    "\n",
    "Nous avons effectué deux analyses: une analyse individuelle et une analyse comparative.\n",
    "\n",
    "Dans un premier temps, nous avons examiné, avec l'**analyse individuelle**, l'évolution de la popularité de chaque mot-clé indépendamment (\"manger bio\", \"agriculture bio\", \"pesticides\", \"qualité de l'eau\") afin de comparer les périodes de maximum de popularité. L'objectif est de voir si ces pics correspondent ou s'ils sont décalés dans le temps.\n",
    "\n",
    "Pour ce faire, nous avons procédé comme cela: \n",
    "- nous avons tout d'abord défini la période de temps de l'analyse (du 1er janvier 2000 au 31 décembre 2024),\n",
    "- nous avons ensuite récupéré les données et nous les avons stockées dans des dictionnaires,\n",
    "- enfin nous avons généré des graphiques à partir de ces dictionnaires.\n",
    "\n",
    "Ensuite, nous avons analysé l'évolution des recherches en comparant directement les mots-clés entre eux, grâce à l'**analyse comparative**.\n",
    "\n",
    "Pour ce faire, nous avons:\n",
    "- construit la requête de scraping pour tous les mots-clés en même temps et récupéré les données d'intérêt au fil du temps,\n",
    "- vérifié que les données contiennent des résultats valides,\n",
    "- affiché les graphiques comparatifs.\n",
    "\n",
    "Enfin, nous avons enregistré nos résultats dans un dataset final (à retrouver dans le dossier `perception_bio` sous le nom de `data_quantitative.csv`) afin de pouvoir les réutiliser par la suite."
   ]
  },
  {
   "cell_type": "markdown",
   "metadata": {},
   "source": [
    "### 1.4) Analyse de nos résultats scrapés\n",
    "\n",
    "Pour analyser les résultats de nos webscrapings, nous avons tout d'abord analysé séparément chacun des scrapings, puis nous avons créé un dataset global pour agréger tous nos résultats.\n",
    "\n",
    "Tout d'abord, **pour chaque titre de presse scrapé**, grâce aux graphiques créés à partir de la variable de sentiment analysis, nous pouvons faire une première analyse, comme celle qui suit avec les données du journal *LSA*.\n",
    "\n",
    "<div style=\"display: flex; justify-content: space-around; align-items: center;\">\n",
    "  <img src=\"perception_bio/Images/graphiques_scores_LSA_archives.png\" alt=\"Graphiques de l'analyse des archives LSA\" style=\"width: 45%;\"/>\n",
    "  <img src=\"perception_bio/Images/graphiques_scores_LSA.png\" alt=\"Graphiques de l'analyse de LSA\" style=\"width: 45%;\"/>\n",
    "</div>\n",
    "\n",
    "Nous remarquons les tendances suivantes:\n",
    "- sur la période 2000-2010, peu d'articles sur le bio, avec des scores faibles (perception globalement négative ou neutre). Le sujet était marginal.\n",
    "- de 2011 à 2015, augmentation progressive de l'attention, mais la perception reste mitigée, avec des scores moyens encore faibles.\n",
    "- de 2016 à 2020, explosion médiatique du bio, avec un nombre élevé d’articles et une perception majoritairement positive (scores proches de 1), reflétant un fort intérêt et engouement.\n",
    "- enfin de 2021 à 2024, réduction notable du volume d’articles, bien que la perception reste globalement positive. Cela pourrait indiquer un essoufflement de l'intérêt médiatique, même si le bio conserve une bonne image.\n",
    "\n",
    "Ensuite, pour ce qui est du **scraping de Google Trend**, nous avons d'abord l'analyse de **l'intérêt par région** grâce aux cartes produites. Prenons par exemple les deux cartes suivantes qui représentent bien la dynamique d'intérêt global.\n",
    "\n",
    "<div style=\"display: flex; justify-content: space-around; align-items: center;\">\n",
    "  <img src=\"perception_bio/Images/carte_manger_BIO.png\" alt=\"Graphiques de l'analyse des archives LSA\" style=\"width: 45%;\"/>\n",
    "  <img src=\"perception_bio/Images/carte_pesticides.png\" alt=\"Graphiques de l'analyse de LSA\" style=\"width: 45%;\"/>\n",
    "</div>\n",
    "\n",
    "Pour la carte sur le terme \"Manger BIO\", elle montre une répartition homogène des recherches sur \"Manger Bio\", indiquant un intérêt universel pour la consommation de produits bio. Cela s'explique par le fait que tout le monde, qu'il soit citadin ou rural, se sent concerné par l'alimentation bio. Nous remarquons cette même tendance pour la carte sur le terme \"Qualité de l'eau\", second terme d'intérêt pour la consommation, avec un intérêt plutôt homogène sur tout le territoire.\n",
    "\n",
    "Pour la carte sur le terme \"Pesticides\", les recherches sur ce terme sont plus marquées dans certaines régions agricoles comme le sud-ouest ou la Bretagne. Cela reflète un intérêt spécifique aux zones où les pesticides sont davantage utilisés ou où leurs impacts environnementaux, comme la pollution des nappes phréatiques, sont plus visibles. Ce phénomène est lié à une sensibilité accrue dans ces régions aux débats sur l'utilisation des pesticides et leurs effets sur l'environnement.\n",
    "La même tendance est remarquée pour la carte liée au terme \"Agriculture BIO\", l'autre terme d'intérêt pour la production, avec un même intérêt différencié selon la présence de l'activité agricole dans les régions.\n",
    "\n",
    "Enfin, pour ce qui est du **scraping Google Trend sur l'évolution des recherches sur le bio dans le temps**, nous obtenons des graphiques comme le suivant.\n",
    "\n",
    "![Graphique évolution des recherches](perception_bio/Images/evolutions_recherches.png)\n",
    "\n",
    "\n",
    "Ce graphique nous montre une forte baisse d'intérêt pour \"agriculture bio\" depuis 2004, atteignant un pic en 2005 avant un déclin progressif et stabilisé depuis 2016. À l'inverse, \"manger bio\" gagne en popularité jusqu'à 2016, où les deux courbes convergent, indiquant un alignement des préoccupations. Depuis 2016, l'intérêt pour les deux termes diminue lentement mais reste à un niveau similaire, reflétant peut-être une saturation ou une normalisation du sujet dans les recherches. Cette tendance pourrait indiquer un passage d'un débat technique (agriculture) à des préoccupations plus personnelles (consommation).\n",
    "\n",
    "Finalement, pour agréger nos résultats des différents scrapings et obtenir une analyse général, nous avons créé un fichier global, intitulé `data_quantitative.csv`, à partir du notebook `main.ipynb` toujours dans le même dossier `perception_bio`, qui devait contenir deux datasets, un pour les valeurs quantitatives (importance des discussions) et le second pour les valeurs qualitatives (sentiment des discussions). Seul le premier a été généré et nous donne la moyenne de la valeur entre 0 et 1 obtenue avec le scraping de Google trend par année et de la valeur du nombre d'article publié par mois, aussi entre 0 et 1.\n",
    "\n",
    "Ainsi, à travers nos analyses, nous avons constaté une grande volatilité de l’opinion publique sur le bio au fil du temps. Nous observons des périodes d’engouement et de déclin, des perceptions contrastées entre les dimensions de production (\"agriculture bio\") et de consommation (\"manger bio\"), ainsi que des dynamiques régionales spécifiques. Ces inférences parfois contradictoires renforcent pour nous la nécessité de dépasser les impressions médiatiques ou les tendances de recherche et de s’appuyer sur une étude rigoureuse de l’état de l’agriculture biologique dans les faits. Cela nous permettra de redonner au bio sa juste place dans le paysage agricole français d’aujourd’hui, en éclairant ses réalités et ses limites."
   ]
  },
  {
   "cell_type": "markdown",
   "metadata": {},
   "source": [
    "## 2) La réalité de l'agriculture biologique en France métropolitaine\n",
    "\n",
    "Afin d'aller au delà de redonner sa juste place à l'agriculture biologique dans le paysage agricole français, nous avons ensuite étudier l'implantation du bio en France. Pour ce faire nous avons recréé une visualisation cartographique des parcelles d'agriculture biologique sur le territoire métropolitain. \n",
    "\n",
    "Nous avons travaillé sur la base de données des parcelles déclarées en agriculture biologique et en conversion lors des demandes d'aides de la Politique Agricole Commune (PAC) au titre des campagnes de 2019 à 2023, des données rendues disponibles par l'Agence Bio sur le site [data.gouv](https://www.data.gouv.fr/fr/datasets/parcelles-en-agriculture-biologique-ab-declarees-a-la-pac/).\n",
    "\n",
    "Tout le code est à retrouver dans le notebook `data.ipynb` du dossier `Mapping parcelles`.\n",
    "\n",
    "Avant tout chose, nous avons importé les bibliothèques nécessaires, **téléchargé les données** et stocké les données dans des variables globales afin de pouvoir préparer notre base de données en **automatisant son nettoyage**. Cette automatisation ce fait grâce à une fonction de nettoyage pour une base de données donnée, qu'on applique ensuite pour nos dataframe de chaque année de 2021 à 2023."
   ]
  },
  {
   "cell_type": "code",
   "execution_count": null,
   "metadata": {},
   "outputs": [],
   "source": [
    "!pip install chardet \n",
    "!pip install nbformat\n",
    "import requests\n",
    "import zipfile\n",
    "import os\n",
    "import pandas as pd\n",
    "import geopandas as gpd"
   ]
  },
  {
   "cell_type": "code",
   "execution_count": null,
   "metadata": {},
   "outputs": [],
   "source": [
    "# L'exécution de ce code dure un peu moins de 2 minutes et est donc tout à fait faisable.\n",
    "%run 'Mapping_parcelles/data.ipynb'"
   ]
  },
  {
   "cell_type": "markdown",
   "metadata": {},
   "source": [
    "Une fois nos données téléchargées et nettoyées, nous les utilisons pour **créer des cartes de la distribution des parcelles biologiques** à l'échelle des départements de France métropolitaine. \n",
    "\n",
    "Ce code est à retrouver dans le notebook `mapping_evolutif.ipynb` du dossier `Mapping parcelles`."
   ]
  },
  {
   "cell_type": "code",
   "execution_count": null,
   "metadata": {},
   "outputs": [],
   "source": [
    "# L'exécution de cette celulle est assez longue (plus de 10 minutes). \n",
    "# Le code et ses résultats peuvent être directement consultés dans le notebook mentionné ci dessus.\n",
    "%run 'Mapping_parcelles/mapping_evolutif.ipynb'"
   ]
  },
  {
   "cell_type": "markdown",
   "metadata": {},
   "source": [
    "Nous avons créé deux cartographies différentes pour montrer comment optimiser le temps d'exécution d'un code portant sur des geometry, dont voici la représentation précise pour l'année 2023.\n",
    "\n",
    "![Carte précise des parcelles bio en 2023](Mapping_parcelles/carte_précise_parcelles_bio_2023.png)\n",
    "\n",
    "Ces cartes, en cohérence avec notre webscraping sur l'intérêt pour le terme \"pesticides\", nous révèlent que les régions où cette préoccupation est la plus forte sont aussi celles où les conversions au bio sont les plus nombreuses. Alors que le bio représente près de 10 % de la surface agricole utilisée (SAU) en France (chiffre de l'INSEE disponible [ici](https://www.insee.fr/fr/statistiques/7728901?sommaire=7728903#onglet-2)), la répartition reste marquée par de fortes disparités régionales, montrant que le bio n’est pas encore totalement ancré sur tout le territoire. \n",
    "\n",
    "Pour aller plus loin et voir si l'agriculture bio s'installera de manière définitive dans le paysage agricole français, nous avons développé un modèle de prévision pour 2024, basé sur l’évolution des données passées et les achats de pesticides, afin d’anticiper les prochaines dynamiques du bio en France."
   ]
  },
  {
   "cell_type": "markdown",
   "metadata": {},
   "source": [
    "## 3) Prévision des dynamiques de l'agriculture biologique\n",
    "\n",
    "Dans cette troisième partie, nous cherchons à aller au-delà de l’analyse descriptive pour anticiper les dynamiques futures de l’agriculture biologique en France. \n",
    "\n",
    "À cette fin, nous avons développé un modèle de prédiction permettant d’estimer l’évolution des conversions de surfaces agricoles au bio en 2024, en nous basant sur les données historiques de conversion et leur impact sur les achats de pesticides. En complément, un clustering des départements nous permet de classifier les territoires selon leur dynamique de conversion et leurs variations d’achats de pesticides, offrant ainsi une vision plus structurée des disparités régionales et des leviers d’action possibles.\n",
    "\n",
    "### 3.1) Modèle de prédiction des conversions à l'agriculture biologique\n",
    "\n",
    "Pour établir ce modèle de prédictions, nous avons tout d'abord téléchargé la base de données des parcelles bio de 2021 à 2023 qui nous a servie précédemment. Nous l'avons traitée, ainsi que celle des achats de pesticides (issue du site [data.gouv](https://www.data.gouv.fr/fr/datasets/achats-de-pesticides-par-code-postal/) et sur laquelle un travail préliminaire a été effectué dans le dossier `Achats pesticides`) afin de pouvoir agréger ces deux bases de données dans le même dataframe. \n",
    "\n",
    "Après ce travail préparatoire, nous avons exécuté notre modèle de machine learning. Nous avons choisi d'utilisé le modèle `random forest regressor` pour prédire la surface agricole biologique en fonction des départements, des parcelles des années précédentes et des variations constatées ces mêmes années sur l'achat de pesticides en France. Notre choix s'est porté vers ce type de modèle car il gère bien les relations complexes et non linéaires entre des variables telles que les conversions agricoles et les achats de pesticides. Nous l'avons ensuite entraîné, calculé les métriques d'évaluation et regardé l'importance des caractéristiques. \n",
    "\n",
    "Le code de cette étape est disponible dans le dossier `Modelisation` dans le notebook intitulé `previsions.ipynb`."
   ]
  },
  {
   "cell_type": "code",
   "execution_count": 11,
   "metadata": {},
   "outputs": [
    {
     "name": "stdout",
     "output_type": "stream",
     "text": [
      "Requirement already satisfied: nbformat in /opt/conda/lib/python3.12/site-packages (5.10.4)\n",
      "Requirement already satisfied: fastjsonschema>=2.15 in /opt/conda/lib/python3.12/site-packages (from nbformat) (2.21.1)\n",
      "Requirement already satisfied: jsonschema>=2.6 in /opt/conda/lib/python3.12/site-packages (from nbformat) (4.23.0)\n",
      "Requirement already satisfied: jupyter-core!=5.0.*,>=4.12 in /opt/conda/lib/python3.12/site-packages (from nbformat) (5.7.2)\n",
      "Requirement already satisfied: traitlets>=5.1 in /opt/conda/lib/python3.12/site-packages (from nbformat) (5.14.3)\n",
      "Requirement already satisfied: attrs>=22.2.0 in /opt/conda/lib/python3.12/site-packages (from jsonschema>=2.6->nbformat) (24.3.0)\n",
      "Requirement already satisfied: jsonschema-specifications>=2023.03.6 in /opt/conda/lib/python3.12/site-packages (from jsonschema>=2.6->nbformat) (2024.10.1)\n",
      "Requirement already satisfied: referencing>=0.28.4 in /opt/conda/lib/python3.12/site-packages (from jsonschema>=2.6->nbformat) (0.35.1)\n",
      "Requirement already satisfied: rpds-py>=0.7.1 in /opt/conda/lib/python3.12/site-packages (from jsonschema>=2.6->nbformat) (0.22.3)\n",
      "Requirement already satisfied: platformdirs>=2.5 in /opt/conda/lib/python3.12/site-packages (from jupyter-core!=5.0.*,>=4.12->nbformat) (4.3.6)\n",
      "Requirement already satisfied: chardet in /opt/conda/lib/python3.12/site-packages (5.2.0)\n",
      "\n",
      "Traitement de l'année 2022...\n",
      "Extraction du fichier ZIP pour l'année 2022\n",
      "Fichiers extraits pour 2022 :\n",
      "- rpg-bio-2022-national.gpkg\n",
      "- ._rpg-bio-2022-national.gpkg\n",
      "\n",
      "Traitement de l'année 2021...\n",
      "Extraction du fichier ZIP pour l'année 2021\n",
      "Fichiers extraits pour 2021 :\n",
      "- rpg-bio-2021-national.gpkg\n",
      "\n",
      "Traitement de l'année 2023...\n",
      "Extraction du fichier ZIP pour l'année 2023\n",
      "Fichiers extraits pour 2023 :\n",
      "- rpg-bio-2023-national.shx\n",
      "- rpg-bio-2023-national.dbf\n",
      "- rpg-bio-2023-national.prj\n",
      "- rpg-bio-2023-national.shp\n",
      "- rpg-bio-2023-national.cpg\n",
      "- rpg-bio-2023-national.gpkg\n"
     ]
    },
    {
     "name": "stderr",
     "output_type": "stream",
     "text": [
      "/opt/conda/lib/python3.12/site-packages/pyogrio/raw.py:198: RuntimeWarning: /home/onyxia/work/AgricultureBio_France/data_extracted_2023/rpg-bio-2023-national/rpg-bio-2023-national.shp contains polygon(s) with rings with invalid winding order. Autocorrecting them, but that shapefile should be corrected using ogr2ogr for example.\n",
      "  return ogr_read(\n"
     ]
    },
    {
     "name": "stdout",
     "output_type": "stream",
     "text": [
      "Aperçu des données pour 2022 (sans geometry) :\n",
      "       gid  millesime code_culture  \\\n",
      "0  4420687       2022          PPH   \n",
      "1      333       2022          PTR   \n",
      "2      337       2022          BTH   \n",
      "3      464       2022          BTH   \n",
      "4      480       2022          BTH   \n",
      "\n",
      "                                         lbl_culture           grp_culture  \\\n",
      "0  Prairie permanente - herbe prédominante (resso...  Prairies permanentes   \n",
      "1         Autre prairie temporaire de 5 ans ou moins  Prairies temporaires   \n",
      "2                                 Blé tendre d’hiver            Blé tendre   \n",
      "3                                 Blé tendre d’hiver            Blé tendre   \n",
      "4                                 Blé tendre d’hiver            Blé tendre   \n",
      "\n",
      "   surface_ha code_commune_insee             lbl_commune    code_epci  \\\n",
      "0        0.38              38513                Treffort  200030658.0   \n",
      "1        2.13              01188                  Illiat  200070118.0   \n",
      "2        6.10              01136  Cruzilles-lès-Mépillat  200070555.0   \n",
      "3        1.32              01285                Parcieux  200042497.0   \n",
      "4        2.99              01398               Savigneux  200042497.0   \n",
      "\n",
      "  code_departement  code_region     zone_geo  \n",
      "0               38           84  France mét.  \n",
      "1               01           84  France mét.  \n",
      "2               01           84  France mét.  \n",
      "3               01           84  France mét.  \n",
      "4               01           84  France mét.  \n",
      "\n",
      "Aperçu des données pour 2021 (sans geometry) :\n",
      "   gid  millesime code_culture  \\\n",
      "0  261       2021          BTP   \n",
      "1  263       2021          PPH   \n",
      "2  267       2021          PPH   \n",
      "3  268       2021          PPH   \n",
      "4  274       2021          SOG   \n",
      "\n",
      "                                         lbl_culture           grp_culture  \\\n",
      "0                            Blé tendre de printemps            Blé tendre   \n",
      "1  Prairie permanente - herbe prédominante (resso...  Prairies permanentes   \n",
      "2  Prairie permanente - herbe prédominante (resso...  Prairies permanentes   \n",
      "3  Prairie permanente - herbe prédominante (resso...  Prairies permanentes   \n",
      "4                                             Sorgho       Autres céréales   \n",
      "\n",
      "   surface_ha code_commune_insee           lbl_commune    code_epci  \\\n",
      "0       10.19              01276               Niévroz  240100610.0   \n",
      "1        1.53              01187         Haut Valromey  200040350.0   \n",
      "2        7.01              01187         Haut Valromey  200040350.0   \n",
      "3        1.37              01187         Haut Valromey  200040350.0   \n",
      "4        0.59              01204  Le Poizat-Lalleyriat  200042935.0   \n",
      "\n",
      "  code_departement  code_region     zone_geo  \n",
      "0               01         84.0  France mét.  \n",
      "1               01         84.0  France mét.  \n",
      "2               01         84.0  France mét.  \n",
      "3               01         84.0  France mét.  \n",
      "4               01         84.0  France mét.  \n",
      "\n",
      "Aperçu des données pour 2023 (sans geometry) :\n",
      "       gid  millesime code_cultu precision_  \\\n",
      "0  1057718       2023        SPH       None   \n",
      "1  1057720       2023        MCR        001   \n",
      "2  1057733       2023        LUZ        002   \n",
      "3  1045691       2023        SPH       None   \n",
      "4  1063649       2023        MLG        001   \n",
      "\n",
      "                                          lbl_cultur         grp_cultur  \\\n",
      "0  Prairie avec herbe prédominante et ressources ...  Estives et landes   \n",
      "1  Mélange de céréales ou pseudo-céréales d'hiver...    Autres céréales   \n",
      "2                                      Autre luzerne           Fourrage   \n",
      "3  Prairie avec herbe prédominante et ressources ...  Estives et landes   \n",
      "4  Mélange de légumineuses prépondérantes et de g...           Fourrage   \n",
      "\n",
      "   surface_ha code_commu         lbl_commun    code_epci code_depar  \\\n",
      "0        0.56      12294  Vézins-de-Lévézou  241200765.0         12   \n",
      "1        2.22      12294  Vézins-de-Lévézou  241200765.0         12   \n",
      "2        1.28      12303            Vimenet  200068484.0         12   \n",
      "3       10.78      12145             Millau  241200567.0         12   \n",
      "4        2.77      12059           Castanet  200068831.0         12   \n",
      "\n",
      "   code_regio     zone_geo  \n",
      "0          76  France mét.  \n",
      "1          76  France mét.  \n",
      "2          76  France mét.  \n",
      "3          76  France mét.  \n",
      "4          76  France mét.  \n",
      "Colonnes après renommage dans gdf2023 :\n",
      "Index(['gid', 'millesime', 'code_cultu', 'precision_', 'lbl_cultur',\n",
      "       'grp_cultur', 'surface_ha', 'code_commu', 'lbl_commun', 'code_epci',\n",
      "       'code_departement', 'code_region', 'zone_geo'],\n",
      "      dtype='object')\n",
      "Colonnes communes aux trois GeoDataFrames :\n",
      "{'code_departement', 'code_epci', 'millesime', 'code_region', 'surface_ha', 'zone_geo', 'gid'}\n",
      "\n",
      "Colonnes uniques à 2022 :\n",
      "set()\n",
      "\n",
      "Colonnes uniques à 2021 :\n",
      "set()\n",
      "\n",
      "Colonnes uniques à 2023 :\n",
      "{'precision_', 'grp_cultur', 'code_commu', 'lbl_cultur', 'code_cultu', 'lbl_commun'}\n",
      "Aperçu des données fusionnées :\n",
      "--- Année 2017 : Récupération des données depuis https://data.ofb.fr/catalogue/Donnees-geographiques-OFB/api/records/a69c8e76-13e1-4f87-9f9d-1705468b7221/attachments/BNVD_TRACABILITE_20231024_ACHAT_2017.zip ---\n",
      "Fichier CSV sélectionné pour 2017 : BNVD_TRACABILITE_20231023_ACHAT_DPT_SUBSTANCE_2017.csv\n"
     ]
    },
    {
     "name": "stderr",
     "output_type": "stream",
     "text": [
      "/tmp/ipykernel_98256/1820709967.py:39: DtypeWarning: Columns (1) have mixed types. Specify dtype option on import or set low_memory=False.\n",
      "  df = pd.read_csv(f, sep=\";\", encoding=\"utf-8\", on_bad_lines=\"skip\")\n"
     ]
    },
    {
     "name": "stdout",
     "output_type": "stream",
     "text": [
      "Fichier pour 2017 sauvegardé : dossier_Achats_pesticides_selected/achats_pesticides_2017.csv\n",
      "--- Année 2018 : Récupération des données depuis https://data.ofb.fr/catalogue/Donnees-geographiques-OFB/api/records/a69c8e76-13e1-4f87-9f9d-1705468b7221/attachments/BNVD_TRACABILITE_20231024_ACHAT_2018.zip ---\n",
      "Fichier CSV sélectionné pour 2018 : BNVD_TRACABILITE_20231023_ACHAT_DPT_SUBSTANCE_2018.csv\n"
     ]
    },
    {
     "name": "stderr",
     "output_type": "stream",
     "text": [
      "/tmp/ipykernel_98256/1820709967.py:39: DtypeWarning: Columns (1) have mixed types. Specify dtype option on import or set low_memory=False.\n",
      "  df = pd.read_csv(f, sep=\";\", encoding=\"utf-8\", on_bad_lines=\"skip\")\n"
     ]
    },
    {
     "name": "stdout",
     "output_type": "stream",
     "text": [
      "Fichier pour 2018 sauvegardé : dossier_Achats_pesticides_selected/achats_pesticides_2018.csv\n",
      "--- Année 2019 : Récupération des données depuis https://data.ofb.fr/catalogue/Donnees-geographiques-OFB/api/records/a69c8e76-13e1-4f87-9f9d-1705468b7221/attachments/BNVD_TRACABILITE_20231024_ACHAT_2019.zip ---\n",
      "Fichier CSV sélectionné pour 2019 : BNVD_TRACABILITE_20231023_ACHAT_DPT_SUBSTANCE_2019.csv\n"
     ]
    },
    {
     "name": "stderr",
     "output_type": "stream",
     "text": [
      "/tmp/ipykernel_98256/1820709967.py:39: DtypeWarning: Columns (1) have mixed types. Specify dtype option on import or set low_memory=False.\n",
      "  df = pd.read_csv(f, sep=\";\", encoding=\"utf-8\", on_bad_lines=\"skip\")\n"
     ]
    },
    {
     "name": "stdout",
     "output_type": "stream",
     "text": [
      "Fichier pour 2019 sauvegardé : dossier_Achats_pesticides_selected/achats_pesticides_2019.csv\n",
      "--- Année 2020 : Récupération des données depuis https://data.ofb.fr/catalogue/Donnees-geographiques-OFB/api/records/a69c8e76-13e1-4f87-9f9d-1705468b7221/attachments/BNVD_TRACABILITE_20231024_ACHAT_2020.zip ---\n",
      "Fichier CSV sélectionné pour 2020 : BNVD_TRACABILITE_20231023_ACHAT_DPT_SUBSTANCE_2020.csv\n"
     ]
    },
    {
     "name": "stderr",
     "output_type": "stream",
     "text": [
      "/tmp/ipykernel_98256/1820709967.py:39: DtypeWarning: Columns (1) have mixed types. Specify dtype option on import or set low_memory=False.\n",
      "  df = pd.read_csv(f, sep=\";\", encoding=\"utf-8\", on_bad_lines=\"skip\")\n"
     ]
    },
    {
     "name": "stdout",
     "output_type": "stream",
     "text": [
      "Fichier pour 2020 sauvegardé : dossier_Achats_pesticides_selected/achats_pesticides_2020.csv\n",
      "--- Année 2021 : Récupération des données depuis https://data.ofb.fr/catalogue/Donnees-geographiques-OFB/api/records/a69c8e76-13e1-4f87-9f9d-1705468b7221/attachments/BNVD_TRACABILITE_20231024_ACHAT_2021.zip ---\n",
      "Fichier CSV sélectionné pour 2021 : BNVD_TRACABILITE_20231023_ACHAT_DPT_SUBSTANCE_2021.csv\n"
     ]
    },
    {
     "name": "stderr",
     "output_type": "stream",
     "text": [
      "/tmp/ipykernel_98256/1820709967.py:39: DtypeWarning: Columns (1) have mixed types. Specify dtype option on import or set low_memory=False.\n",
      "  df = pd.read_csv(f, sep=\";\", encoding=\"utf-8\", on_bad_lines=\"skip\")\n"
     ]
    },
    {
     "name": "stdout",
     "output_type": "stream",
     "text": [
      "Fichier pour 2021 sauvegardé : dossier_Achats_pesticides_selected/achats_pesticides_2021.csv\n",
      "--- Année 2022 : Récupération des données depuis https://data.ofb.fr/catalogue/Donnees-geographiques-OFB/api/records/a69c8e76-13e1-4f87-9f9d-1705468b7221/attachments/BNVD_TRACABILITE_20231024_ACHAT_2022.zip ---\n",
      "Fichier CSV sélectionné pour 2022 : BNVD_TRACABILITE_20231023_ACHAT_DPT_SUBSTANCE_2022.csv\n"
     ]
    },
    {
     "name": "stderr",
     "output_type": "stream",
     "text": [
      "/tmp/ipykernel_98256/1820709967.py:39: DtypeWarning: Columns (1) have mixed types. Specify dtype option on import or set low_memory=False.\n",
      "  df = pd.read_csv(f, sep=\";\", encoding=\"utf-8\", on_bad_lines=\"skip\")\n"
     ]
    },
    {
     "name": "stdout",
     "output_type": "stream",
     "text": [
      "Fichier pour 2022 sauvegardé : dossier_Achats_pesticides_selected/achats_pesticides_2022.csv\n",
      "\n",
      "--- Traitement terminé. Tous les fichiers CSV sont dans le dossier : dossier_Achats_pesticides_selected ---\n",
      "Lecture du fichier : /home/onyxia/work/AgricultureBio_France/Achats pesticides/dossier_Achats_pesticides_selected/achats_pesticides_2017.csv\n"
     ]
    },
    {
     "name": "stderr",
     "output_type": "stream",
     "text": [
      "/tmp/ipykernel_98256/3120110177.py:15: DtypeWarning: Columns (1) have mixed types. Specify dtype option on import or set low_memory=False.\n",
      "  df = pd.read_csv(file_path, sep=\";\", encoding=\"utf-8\", on_bad_lines=\"skip\")\n"
     ]
    },
    {
     "name": "stdout",
     "output_type": "stream",
     "text": [
      "Année 2017 chargée avec succès. Nombre de lignes : 127088\n",
      "Lecture du fichier : /home/onyxia/work/AgricultureBio_France/Achats pesticides/dossier_Achats_pesticides_selected/achats_pesticides_2018.csv\n"
     ]
    },
    {
     "name": "stderr",
     "output_type": "stream",
     "text": [
      "/tmp/ipykernel_98256/3120110177.py:15: DtypeWarning: Columns (1) have mixed types. Specify dtype option on import or set low_memory=False.\n",
      "  df = pd.read_csv(file_path, sep=\";\", encoding=\"utf-8\", on_bad_lines=\"skip\")\n"
     ]
    },
    {
     "name": "stdout",
     "output_type": "stream",
     "text": [
      "Année 2018 chargée avec succès. Nombre de lignes : 127328\n",
      "Lecture du fichier : /home/onyxia/work/AgricultureBio_France/Achats pesticides/dossier_Achats_pesticides_selected/achats_pesticides_2019.csv\n"
     ]
    },
    {
     "name": "stderr",
     "output_type": "stream",
     "text": [
      "/tmp/ipykernel_98256/3120110177.py:15: DtypeWarning: Columns (1) have mixed types. Specify dtype option on import or set low_memory=False.\n",
      "  df = pd.read_csv(file_path, sep=\";\", encoding=\"utf-8\", on_bad_lines=\"skip\")\n"
     ]
    },
    {
     "name": "stdout",
     "output_type": "stream",
     "text": [
      "Année 2019 chargée avec succès. Nombre de lignes : 112807\n",
      "Lecture du fichier : /home/onyxia/work/AgricultureBio_France/Achats pesticides/dossier_Achats_pesticides_selected/achats_pesticides_2020.csv\n"
     ]
    },
    {
     "name": "stderr",
     "output_type": "stream",
     "text": [
      "/tmp/ipykernel_98256/3120110177.py:15: DtypeWarning: Columns (1) have mixed types. Specify dtype option on import or set low_memory=False.\n",
      "  df = pd.read_csv(file_path, sep=\";\", encoding=\"utf-8\", on_bad_lines=\"skip\")\n"
     ]
    },
    {
     "name": "stdout",
     "output_type": "stream",
     "text": [
      "Année 2020 chargée avec succès. Nombre de lignes : 111224\n",
      "Lecture du fichier : /home/onyxia/work/AgricultureBio_France/Achats pesticides/dossier_Achats_pesticides_selected/achats_pesticides_2021.csv\n"
     ]
    },
    {
     "name": "stderr",
     "output_type": "stream",
     "text": [
      "/tmp/ipykernel_98256/3120110177.py:15: DtypeWarning: Columns (1) have mixed types. Specify dtype option on import or set low_memory=False.\n",
      "  df = pd.read_csv(file_path, sep=\";\", encoding=\"utf-8\", on_bad_lines=\"skip\")\n"
     ]
    },
    {
     "name": "stdout",
     "output_type": "stream",
     "text": [
      "Année 2021 chargée avec succès. Nombre de lignes : 109573\n",
      "Lecture du fichier : /home/onyxia/work/AgricultureBio_France/Achats pesticides/dossier_Achats_pesticides_selected/achats_pesticides_2022.csv\n"
     ]
    },
    {
     "name": "stderr",
     "output_type": "stream",
     "text": [
      "/tmp/ipykernel_98256/3120110177.py:15: DtypeWarning: Columns (1) have mixed types. Specify dtype option on import or set low_memory=False.\n",
      "  df = pd.read_csv(file_path, sep=\";\", encoding=\"utf-8\", on_bad_lines=\"skip\")\n"
     ]
    },
    {
     "name": "stdout",
     "output_type": "stream",
     "text": [
      "Année 2022 chargée avec succès. Nombre de lignes : 106661\n",
      "\n",
      "Aperçu des données de 2017 :\n",
      "Traitement des données pour l'année 2017\n",
      "Traitement des données pour l'année 2018\n",
      "Traitement des données pour l'année 2019\n",
      "Traitement des données pour l'année 2020\n",
      "Traitement des données pour l'année 2021\n",
      "Traitement des données pour l'année 2022\n",
      "\n",
      "Toutes les valeurs uniques de 'code_departement' :\n",
      "['0', '00', '01', '02', '03', '04', '05', '06', '07', '08', '09', '1', '10', '11', '12', '13', '14', '15', '16', '17', '18', '19', '2', '21', '22', '23', '24', '25', '26', '27', '28', '29', '2A', '2B', '30', '31', '32', '33', '34', '35', '36', '37', '38', '39', '40', '41', '42', '43', '44', '45', '46', '47', '48', '49', '50', '51', '52', '53', '54', '55', '56', '57', '58', '59', '60', '61', '62', '63', '64', '65', '66', '67', '68', '69', '70', '71', '72', '73', '74', '75', '76', '77', '78', '79', '80', '81', '82', '83', '84', '85', '86', '87', '88', '89', '90', '91', '92', '93', '94', '95', '971', '972', '973', '974', '976']\n",
      "\n",
      "Toutes les valeurs uniques de 'departement' :\n",
      "['AIN', 'AISNE', 'ALLIER', 'ALPES DE HAUTE PROVENCE', 'ALPES MARITIMES', 'ARDECHE', 'ARDENNES', 'ARIEGE', 'AUBE', 'AUDE', 'AVEYRON', 'BAS RHIN', 'BOUCHES DU RHONE', 'CALVADOS', 'CANTAL', 'CHARENTE', 'CHARENTE MARITIME', 'CHER', 'CORREZE', 'CORSE DU SUD', 'COTE D OR', 'COTES D ARMOR', 'CREUSE', 'DEUX SEVRES', 'DORDOGNE', 'DOUBS', 'DROME', 'ESSONNE', 'EURE', 'EURE ET LOIR', 'FINISTERE', 'GARD', 'GERS', 'GIRONDE', 'GUADELOUPE', 'GUYANE', 'HAUT RHIN', 'HAUTE CORSE', 'HAUTE GARONNE', 'HAUTE LOIRE', 'HAUTE MARNE', 'HAUTE SAONE', 'HAUTE SAVOIE', 'HAUTE VIENNE', 'HAUTES ALPES', 'HAUTES PYRENEES', 'HAUTS DE SEINE', 'HERAULT', 'ILLE ET VILAINE', 'INDETERMINE', 'INDRE', 'INDRE ET LOIRE', 'ISERE', 'JURA', 'LA REUNION', 'LANDES', 'LOIR ET CHER', 'LOIRE', 'LOIRE ATLANTIQUE', 'LOIRET', 'LOT', 'LOT ET GARONNE', 'LOZERE', 'MAINE ET LOIRE', 'MANCHE', 'MARNE', 'MARTINIQUE', 'MAYENNE', 'MAYOTTE', 'MEURTHE ET MOSELLE', 'MEUSE', 'MORBIHAN', 'MOSELLE', 'NIEVRE', 'NORD', 'OISE', 'ORNE', 'PARIS', 'PAS DE CALAIS', 'PUY DE DOME', 'PYRENEES ATLANTIQUES', 'PYRENEES ORIENTALES', 'RHONE', 'SAONE ET LOIRE', 'SARTHE', 'SAVOIE', 'SEINE ET MARNE', 'SEINE MARITIME', 'SEINE SAINT DENIS', 'SOMME', 'TARN', 'TARN ET GARONNE', 'TERRITOIRE DE BELFORT', 'VAL D OISE', 'VAL DE MARNE', 'VAR', 'VAUCLUSE', 'VENDEE', 'VIENNE', 'VOSGES', 'YONNE', 'YVELINES']\n",
      "Année 2017 : 722 lignes supprimées. Nouveau total : 126366 lignes.\n",
      "Année 2018 : 888 lignes supprimées. Nouveau total : 126440 lignes.\n",
      "Année 2019 : 526 lignes supprimées. Nouveau total : 112281 lignes.\n",
      "Année 2020 : 592 lignes supprimées. Nouveau total : 110632 lignes.\n",
      "Année 2021 : 664 lignes supprimées. Nouveau total : 108909 lignes.\n",
      "Année 2022 : 542 lignes supprimées. Nouveau total : 106119 lignes.\n",
      "\n",
      "Suppression terminée. Les lignes avec 'code_departement' == '00' ont été supprimées.\n",
      "Variations des quantités de pesticides par département :\n",
      "annee                      2018          2019           2020           2021  \\\n",
      "code_departement                                                              \n",
      "0                 285080.318476 -3.916480e+05 -720722.297263  167859.131997   \n",
      "1                 187946.790448 -7.966968e+04   40081.433510    9155.048167   \n",
      "2                      0.000000  0.000000e+00  608205.719704  -48738.487450   \n",
      "50               -296558.647488 -3.400483e+05       0.000000       0.000000   \n",
      "51                180122.382853 -2.807595e+06       0.000000       0.000000   \n",
      "\n",
      "annee                      2022  \n",
      "code_departement                 \n",
      "0                -275900.715528  \n",
      "1                 136470.050557  \n",
      "2                -316019.858914  \n",
      "50                     0.000000  \n",
      "51                     0.000000  \n",
      "Colonnes dans variations_df :\n",
      "Index([2018, 2019, 2020, 2021, 2022], dtype='int64', name='annee')\n",
      "\n",
      "Colonnes dans df_combined :\n",
      "Index(['gid', 'millesime', 'code_culture', 'lbl_culture', 'grp_culture',\n",
      "       'surface_ha', 'code_commune_insee', 'lbl_commune', 'code_epci',\n",
      "       'code_departement', 'code_region', 'zone_geo', 'annee', 'code_cultu',\n",
      "       'precision_', 'lbl_cultur', 'grp_cultur', 'code_commu', 'lbl_commun'],\n",
      "      dtype='object')\n",
      "Colonnes après réinitialisation de l'index :\n",
      "Index(['code_departement', 2018, 2019, 2020, 2021, 2022], dtype='object', name='annee')\n",
      "Fréquence des valeurs dans 'grp_culture' :\n",
      "grp_culture\n",
      "Prairies permanentes                     698613\n",
      "Vignes                                   245099\n",
      "Fourrage                                 242724\n",
      "Prairies temporaires                     220357\n",
      "Autres céréales                          139630\n",
      "Estives et landes                        109402\n",
      "Divers                                   101623\n",
      "Blé tendre                                89662\n",
      "Légumes ou fleurs                         82014\n",
      "Vergers                                   58365\n",
      "Maïs grain et ensilage                    47318\n",
      "Gel (surfaces gelées sans production)     44545\n",
      "Protéagineux                              35314\n",
      "Orge                                      32500\n",
      "Tournesol                                 30700\n",
      "Autres cultures industrielles             27787\n",
      "Fruits à coque                            27000\n",
      "Autres oléagineux                         24757\n",
      "Oliviers                                  14093\n",
      "Légumineuses à grains                     12420\n",
      "Colza                                      5990\n",
      "Plantes à fibres                           3035\n",
      "Riz                                         857\n",
      "Canne à sucre                               567\n",
      "Name: count, dtype: int64\n",
      "Données filtrées pour les départements métropolitains :\n",
      "['01' '54' '04' '57' '38' '59' '73' '67' '11' '24' '02' '51' '03' '23'\n",
      " '83' '07' '08' '05' '84' '77' '26' '43' '13' '63' '71' '30' '37' '47'\n",
      " '46' '40' '09' '31' '15' '32' '21' '66' '65' '85' '81' '10' '17' '06'\n",
      " '55' '22' '12' '52' '48' '89' '34' '14' '61' '27' '16' '18' '78' '41'\n",
      " '58' '87' '70' '50' '19' '64' '28' '29' '86' '79' '56' '69' '62' '33'\n",
      " '25' '39' '76' '72' '82' '42' '44' '45' '35' '36' '49' '53' '88' '68'\n",
      " '60' '80' '74' '90' '91' '93' '94' '95']\n"
     ]
    },
    {
     "ename": "KeyError",
     "evalue": "\"['2018_x', '2019_x', '2020_x', '2021_x', '2022_x'] not in index\"",
     "output_type": "error",
     "traceback": [
      "\u001b[0;31m---------------------------------------------------------------------------\u001b[0m",
      "\u001b[0;31mKeyError\u001b[0m                                  Traceback (most recent call last)",
      "File \u001b[0;32m/tmp/ipykernel_98256/1200150972.py:8\u001b[0m\n\u001b[1;32m      5\u001b[0m features \u001b[38;5;241m=\u001b[39m [\u001b[38;5;124m'\u001b[39m\u001b[38;5;124mcode_region\u001b[39m\u001b[38;5;124m'\u001b[39m, \u001b[38;5;124m'\u001b[39m\u001b[38;5;124mzone_geo\u001b[39m\u001b[38;5;124m'\u001b[39m, \u001b[38;5;124m'\u001b[39m\u001b[38;5;124m2018_x\u001b[39m\u001b[38;5;124m'\u001b[39m, \u001b[38;5;124m'\u001b[39m\u001b[38;5;124m2019_x\u001b[39m\u001b[38;5;124m'\u001b[39m, \u001b[38;5;124m'\u001b[39m\u001b[38;5;124m2020_x\u001b[39m\u001b[38;5;124m'\u001b[39m, \u001b[38;5;124m'\u001b[39m\u001b[38;5;124m2021_x\u001b[39m\u001b[38;5;124m'\u001b[39m, \u001b[38;5;124m'\u001b[39m\u001b[38;5;124m2022_x\u001b[39m\u001b[38;5;124m'\u001b[39m]\n\u001b[1;32m      7\u001b[0m \u001b[38;5;66;03m# Créer les matrices X (caractéristiques) et y (cible)\u001b[39;00m\n\u001b[0;32m----> 8\u001b[0m X \u001b[38;5;241m=\u001b[39m \u001b[43mdf_combined\u001b[49m\u001b[43m[\u001b[49m\u001b[43mfeatures\u001b[49m\u001b[43m]\u001b[49m\n\u001b[1;32m      9\u001b[0m y \u001b[38;5;241m=\u001b[39m df_combined[target]\n\u001b[1;32m     11\u001b[0m \u001b[38;5;66;03m# Remplacer les valeurs manquantes\u001b[39;00m\n",
      "File \u001b[0;32m/opt/conda/lib/python3.12/site-packages/pandas/core/frame.py:4108\u001b[0m, in \u001b[0;36mDataFrame.__getitem__\u001b[0;34m(self, key)\u001b[0m\n\u001b[1;32m   4106\u001b[0m     \u001b[38;5;28;01mif\u001b[39;00m is_iterator(key):\n\u001b[1;32m   4107\u001b[0m         key \u001b[38;5;241m=\u001b[39m \u001b[38;5;28mlist\u001b[39m(key)\n\u001b[0;32m-> 4108\u001b[0m     indexer \u001b[38;5;241m=\u001b[39m \u001b[38;5;28;43mself\u001b[39;49m\u001b[38;5;241;43m.\u001b[39;49m\u001b[43mcolumns\u001b[49m\u001b[38;5;241;43m.\u001b[39;49m\u001b[43m_get_indexer_strict\u001b[49m\u001b[43m(\u001b[49m\u001b[43mkey\u001b[49m\u001b[43m,\u001b[49m\u001b[43m \u001b[49m\u001b[38;5;124;43m\"\u001b[39;49m\u001b[38;5;124;43mcolumns\u001b[39;49m\u001b[38;5;124;43m\"\u001b[39;49m\u001b[43m)\u001b[49m[\u001b[38;5;241m1\u001b[39m]\n\u001b[1;32m   4110\u001b[0m \u001b[38;5;66;03m# take() does not accept boolean indexers\u001b[39;00m\n\u001b[1;32m   4111\u001b[0m \u001b[38;5;28;01mif\u001b[39;00m \u001b[38;5;28mgetattr\u001b[39m(indexer, \u001b[38;5;124m\"\u001b[39m\u001b[38;5;124mdtype\u001b[39m\u001b[38;5;124m\"\u001b[39m, \u001b[38;5;28;01mNone\u001b[39;00m) \u001b[38;5;241m==\u001b[39m \u001b[38;5;28mbool\u001b[39m:\n",
      "File \u001b[0;32m/opt/conda/lib/python3.12/site-packages/pandas/core/indexes/base.py:6200\u001b[0m, in \u001b[0;36mIndex._get_indexer_strict\u001b[0;34m(self, key, axis_name)\u001b[0m\n\u001b[1;32m   6197\u001b[0m \u001b[38;5;28;01melse\u001b[39;00m:\n\u001b[1;32m   6198\u001b[0m     keyarr, indexer, new_indexer \u001b[38;5;241m=\u001b[39m \u001b[38;5;28mself\u001b[39m\u001b[38;5;241m.\u001b[39m_reindex_non_unique(keyarr)\n\u001b[0;32m-> 6200\u001b[0m \u001b[38;5;28;43mself\u001b[39;49m\u001b[38;5;241;43m.\u001b[39;49m\u001b[43m_raise_if_missing\u001b[49m\u001b[43m(\u001b[49m\u001b[43mkeyarr\u001b[49m\u001b[43m,\u001b[49m\u001b[43m \u001b[49m\u001b[43mindexer\u001b[49m\u001b[43m,\u001b[49m\u001b[43m \u001b[49m\u001b[43maxis_name\u001b[49m\u001b[43m)\u001b[49m\n\u001b[1;32m   6202\u001b[0m keyarr \u001b[38;5;241m=\u001b[39m \u001b[38;5;28mself\u001b[39m\u001b[38;5;241m.\u001b[39mtake(indexer)\n\u001b[1;32m   6203\u001b[0m \u001b[38;5;28;01mif\u001b[39;00m \u001b[38;5;28misinstance\u001b[39m(key, Index):\n\u001b[1;32m   6204\u001b[0m     \u001b[38;5;66;03m# GH 42790 - Preserve name from an Index\u001b[39;00m\n",
      "File \u001b[0;32m/opt/conda/lib/python3.12/site-packages/pandas/core/indexes/base.py:6252\u001b[0m, in \u001b[0;36mIndex._raise_if_missing\u001b[0;34m(self, key, indexer, axis_name)\u001b[0m\n\u001b[1;32m   6249\u001b[0m     \u001b[38;5;28;01mraise\u001b[39;00m \u001b[38;5;167;01mKeyError\u001b[39;00m(\u001b[38;5;124mf\u001b[39m\u001b[38;5;124m\"\u001b[39m\u001b[38;5;124mNone of [\u001b[39m\u001b[38;5;132;01m{\u001b[39;00mkey\u001b[38;5;132;01m}\u001b[39;00m\u001b[38;5;124m] are in the [\u001b[39m\u001b[38;5;132;01m{\u001b[39;00maxis_name\u001b[38;5;132;01m}\u001b[39;00m\u001b[38;5;124m]\u001b[39m\u001b[38;5;124m\"\u001b[39m)\n\u001b[1;32m   6251\u001b[0m not_found \u001b[38;5;241m=\u001b[39m \u001b[38;5;28mlist\u001b[39m(ensure_index(key)[missing_mask\u001b[38;5;241m.\u001b[39mnonzero()[\u001b[38;5;241m0\u001b[39m]]\u001b[38;5;241m.\u001b[39munique())\n\u001b[0;32m-> 6252\u001b[0m \u001b[38;5;28;01mraise\u001b[39;00m \u001b[38;5;167;01mKeyError\u001b[39;00m(\u001b[38;5;124mf\u001b[39m\u001b[38;5;124m\"\u001b[39m\u001b[38;5;132;01m{\u001b[39;00mnot_found\u001b[38;5;132;01m}\u001b[39;00m\u001b[38;5;124m not in index\u001b[39m\u001b[38;5;124m\"\u001b[39m)\n",
      "\u001b[0;31mKeyError\u001b[0m: \"['2018_x', '2019_x', '2020_x', '2021_x', '2022_x'] not in index\""
     ]
    },
    {
     "ename": "KeyError",
     "evalue": "\"['2018_x', '2019_x', '2020_x', '2021_x', '2022_x'] not in index\"",
     "output_type": "error",
     "traceback": [
      "\u001b[0;31m---------------------------------------------------------------------------\u001b[0m",
      "\u001b[0;31mKeyError\u001b[0m                                  Traceback (most recent call last)",
      "Cell \u001b[0;32mIn[11], line 1\u001b[0m\n\u001b[0;32m----> 1\u001b[0m \u001b[43mget_ipython\u001b[49m\u001b[43m(\u001b[49m\u001b[43m)\u001b[49m\u001b[38;5;241;43m.\u001b[39;49m\u001b[43mrun_line_magic\u001b[49m\u001b[43m(\u001b[49m\u001b[38;5;124;43m'\u001b[39;49m\u001b[38;5;124;43mrun\u001b[39;49m\u001b[38;5;124;43m'\u001b[39;49m\u001b[43m,\u001b[49m\u001b[43m \u001b[49m\u001b[38;5;124;43m\"\u001b[39;49m\u001b[38;5;124;43m'\u001b[39;49m\u001b[38;5;124;43m/home/onyxia/work/AgricultureBio_France/Modelisation/prevision.ipynb\u001b[39;49m\u001b[38;5;124;43m'\u001b[39;49m\u001b[38;5;124;43m\"\u001b[39;49m\u001b[43m)\u001b[49m\n",
      "File \u001b[0;32m/opt/conda/lib/python3.12/site-packages/IPython/core/interactiveshell.py:2480\u001b[0m, in \u001b[0;36mInteractiveShell.run_line_magic\u001b[0;34m(self, magic_name, line, _stack_depth)\u001b[0m\n\u001b[1;32m   2478\u001b[0m     kwargs[\u001b[38;5;124m'\u001b[39m\u001b[38;5;124mlocal_ns\u001b[39m\u001b[38;5;124m'\u001b[39m] \u001b[38;5;241m=\u001b[39m \u001b[38;5;28mself\u001b[39m\u001b[38;5;241m.\u001b[39mget_local_scope(stack_depth)\n\u001b[1;32m   2479\u001b[0m \u001b[38;5;28;01mwith\u001b[39;00m \u001b[38;5;28mself\u001b[39m\u001b[38;5;241m.\u001b[39mbuiltin_trap:\n\u001b[0;32m-> 2480\u001b[0m     result \u001b[38;5;241m=\u001b[39m \u001b[43mfn\u001b[49m\u001b[43m(\u001b[49m\u001b[38;5;241;43m*\u001b[39;49m\u001b[43margs\u001b[49m\u001b[43m,\u001b[49m\u001b[43m \u001b[49m\u001b[38;5;241;43m*\u001b[39;49m\u001b[38;5;241;43m*\u001b[39;49m\u001b[43mkwargs\u001b[49m\u001b[43m)\u001b[49m\n\u001b[1;32m   2482\u001b[0m \u001b[38;5;66;03m# The code below prevents the output from being displayed\u001b[39;00m\n\u001b[1;32m   2483\u001b[0m \u001b[38;5;66;03m# when using magics with decorator @output_can_be_silenced\u001b[39;00m\n\u001b[1;32m   2484\u001b[0m \u001b[38;5;66;03m# when the last Python token in the expression is a ';'.\u001b[39;00m\n\u001b[1;32m   2485\u001b[0m \u001b[38;5;28;01mif\u001b[39;00m \u001b[38;5;28mgetattr\u001b[39m(fn, magic\u001b[38;5;241m.\u001b[39mMAGIC_OUTPUT_CAN_BE_SILENCED, \u001b[38;5;28;01mFalse\u001b[39;00m):\n",
      "File \u001b[0;32m/opt/conda/lib/python3.12/site-packages/IPython/core/magics/execution.py:741\u001b[0m, in \u001b[0;36mExecutionMagics.run\u001b[0;34m(self, parameter_s, runner, file_finder)\u001b[0m\n\u001b[1;32m    739\u001b[0m     \u001b[38;5;28;01mwith\u001b[39;00m preserve_keys(\u001b[38;5;28mself\u001b[39m\u001b[38;5;241m.\u001b[39mshell\u001b[38;5;241m.\u001b[39muser_ns, \u001b[38;5;124m'\u001b[39m\u001b[38;5;124m__file__\u001b[39m\u001b[38;5;124m'\u001b[39m):\n\u001b[1;32m    740\u001b[0m         \u001b[38;5;28mself\u001b[39m\u001b[38;5;241m.\u001b[39mshell\u001b[38;5;241m.\u001b[39muser_ns[\u001b[38;5;124m'\u001b[39m\u001b[38;5;124m__file__\u001b[39m\u001b[38;5;124m'\u001b[39m] \u001b[38;5;241m=\u001b[39m filename\n\u001b[0;32m--> 741\u001b[0m         \u001b[38;5;28;43mself\u001b[39;49m\u001b[38;5;241;43m.\u001b[39;49m\u001b[43mshell\u001b[49m\u001b[38;5;241;43m.\u001b[39;49m\u001b[43msafe_execfile_ipy\u001b[49m\u001b[43m(\u001b[49m\u001b[43mfilename\u001b[49m\u001b[43m,\u001b[49m\u001b[43m \u001b[49m\u001b[43mraise_exceptions\u001b[49m\u001b[38;5;241;43m=\u001b[39;49m\u001b[38;5;28;43;01mTrue\u001b[39;49;00m\u001b[43m)\u001b[49m\n\u001b[1;32m    742\u001b[0m     \u001b[38;5;28;01mreturn\u001b[39;00m\n\u001b[1;32m    744\u001b[0m \u001b[38;5;66;03m# Control the response to exit() calls made by the script being run\u001b[39;00m\n",
      "File \u001b[0;32m/opt/conda/lib/python3.12/site-packages/IPython/core/interactiveshell.py:3005\u001b[0m, in \u001b[0;36mInteractiveShell.safe_execfile_ipy\u001b[0;34m(self, fname, shell_futures, raise_exceptions)\u001b[0m\n\u001b[1;32m   3003\u001b[0m result \u001b[38;5;241m=\u001b[39m \u001b[38;5;28mself\u001b[39m\u001b[38;5;241m.\u001b[39mrun_cell(cell, silent\u001b[38;5;241m=\u001b[39m\u001b[38;5;28;01mTrue\u001b[39;00m, shell_futures\u001b[38;5;241m=\u001b[39mshell_futures)\n\u001b[1;32m   3004\u001b[0m \u001b[38;5;28;01mif\u001b[39;00m raise_exceptions:\n\u001b[0;32m-> 3005\u001b[0m     \u001b[43mresult\u001b[49m\u001b[38;5;241;43m.\u001b[39;49m\u001b[43mraise_error\u001b[49m\u001b[43m(\u001b[49m\u001b[43m)\u001b[49m\n\u001b[1;32m   3006\u001b[0m \u001b[38;5;28;01melif\u001b[39;00m \u001b[38;5;129;01mnot\u001b[39;00m result\u001b[38;5;241m.\u001b[39msuccess:\n\u001b[1;32m   3007\u001b[0m     \u001b[38;5;28;01mbreak\u001b[39;00m\n",
      "File \u001b[0;32m/opt/conda/lib/python3.12/site-packages/IPython/core/interactiveshell.py:308\u001b[0m, in \u001b[0;36mExecutionResult.raise_error\u001b[0;34m(self)\u001b[0m\n\u001b[1;32m    306\u001b[0m     \u001b[38;5;28;01mraise\u001b[39;00m \u001b[38;5;28mself\u001b[39m\u001b[38;5;241m.\u001b[39merror_before_exec\n\u001b[1;32m    307\u001b[0m \u001b[38;5;28;01mif\u001b[39;00m \u001b[38;5;28mself\u001b[39m\u001b[38;5;241m.\u001b[39merror_in_exec \u001b[38;5;129;01mis\u001b[39;00m \u001b[38;5;129;01mnot\u001b[39;00m \u001b[38;5;28;01mNone\u001b[39;00m:\n\u001b[0;32m--> 308\u001b[0m     \u001b[38;5;28;01mraise\u001b[39;00m \u001b[38;5;28mself\u001b[39m\u001b[38;5;241m.\u001b[39merror_in_exec\n",
      "    \u001b[0;31m[... skipping hidden 1 frame]\u001b[0m\n",
      "File \u001b[0;32m/tmp/ipykernel_98256/1200150972.py:8\u001b[0m\n\u001b[1;32m      5\u001b[0m features \u001b[38;5;241m=\u001b[39m [\u001b[38;5;124m'\u001b[39m\u001b[38;5;124mcode_region\u001b[39m\u001b[38;5;124m'\u001b[39m, \u001b[38;5;124m'\u001b[39m\u001b[38;5;124mzone_geo\u001b[39m\u001b[38;5;124m'\u001b[39m, \u001b[38;5;124m'\u001b[39m\u001b[38;5;124m2018_x\u001b[39m\u001b[38;5;124m'\u001b[39m, \u001b[38;5;124m'\u001b[39m\u001b[38;5;124m2019_x\u001b[39m\u001b[38;5;124m'\u001b[39m, \u001b[38;5;124m'\u001b[39m\u001b[38;5;124m2020_x\u001b[39m\u001b[38;5;124m'\u001b[39m, \u001b[38;5;124m'\u001b[39m\u001b[38;5;124m2021_x\u001b[39m\u001b[38;5;124m'\u001b[39m, \u001b[38;5;124m'\u001b[39m\u001b[38;5;124m2022_x\u001b[39m\u001b[38;5;124m'\u001b[39m]\n\u001b[1;32m      7\u001b[0m \u001b[38;5;66;03m# Créer les matrices X (caractéristiques) et y (cible)\u001b[39;00m\n\u001b[0;32m----> 8\u001b[0m X \u001b[38;5;241m=\u001b[39m \u001b[43mdf_combined\u001b[49m\u001b[43m[\u001b[49m\u001b[43mfeatures\u001b[49m\u001b[43m]\u001b[49m\n\u001b[1;32m      9\u001b[0m y \u001b[38;5;241m=\u001b[39m df_combined[target]\n\u001b[1;32m     11\u001b[0m \u001b[38;5;66;03m# Remplacer les valeurs manquantes\u001b[39;00m\n",
      "File \u001b[0;32m/opt/conda/lib/python3.12/site-packages/pandas/core/frame.py:4108\u001b[0m, in \u001b[0;36mDataFrame.__getitem__\u001b[0;34m(self, key)\u001b[0m\n\u001b[1;32m   4106\u001b[0m     \u001b[38;5;28;01mif\u001b[39;00m is_iterator(key):\n\u001b[1;32m   4107\u001b[0m         key \u001b[38;5;241m=\u001b[39m \u001b[38;5;28mlist\u001b[39m(key)\n\u001b[0;32m-> 4108\u001b[0m     indexer \u001b[38;5;241m=\u001b[39m \u001b[38;5;28;43mself\u001b[39;49m\u001b[38;5;241;43m.\u001b[39;49m\u001b[43mcolumns\u001b[49m\u001b[38;5;241;43m.\u001b[39;49m\u001b[43m_get_indexer_strict\u001b[49m\u001b[43m(\u001b[49m\u001b[43mkey\u001b[49m\u001b[43m,\u001b[49m\u001b[43m \u001b[49m\u001b[38;5;124;43m\"\u001b[39;49m\u001b[38;5;124;43mcolumns\u001b[39;49m\u001b[38;5;124;43m\"\u001b[39;49m\u001b[43m)\u001b[49m[\u001b[38;5;241m1\u001b[39m]\n\u001b[1;32m   4110\u001b[0m \u001b[38;5;66;03m# take() does not accept boolean indexers\u001b[39;00m\n\u001b[1;32m   4111\u001b[0m \u001b[38;5;28;01mif\u001b[39;00m \u001b[38;5;28mgetattr\u001b[39m(indexer, \u001b[38;5;124m\"\u001b[39m\u001b[38;5;124mdtype\u001b[39m\u001b[38;5;124m\"\u001b[39m, \u001b[38;5;28;01mNone\u001b[39;00m) \u001b[38;5;241m==\u001b[39m \u001b[38;5;28mbool\u001b[39m:\n",
      "File \u001b[0;32m/opt/conda/lib/python3.12/site-packages/pandas/core/indexes/base.py:6200\u001b[0m, in \u001b[0;36mIndex._get_indexer_strict\u001b[0;34m(self, key, axis_name)\u001b[0m\n\u001b[1;32m   6197\u001b[0m \u001b[38;5;28;01melse\u001b[39;00m:\n\u001b[1;32m   6198\u001b[0m     keyarr, indexer, new_indexer \u001b[38;5;241m=\u001b[39m \u001b[38;5;28mself\u001b[39m\u001b[38;5;241m.\u001b[39m_reindex_non_unique(keyarr)\n\u001b[0;32m-> 6200\u001b[0m \u001b[38;5;28;43mself\u001b[39;49m\u001b[38;5;241;43m.\u001b[39;49m\u001b[43m_raise_if_missing\u001b[49m\u001b[43m(\u001b[49m\u001b[43mkeyarr\u001b[49m\u001b[43m,\u001b[49m\u001b[43m \u001b[49m\u001b[43mindexer\u001b[49m\u001b[43m,\u001b[49m\u001b[43m \u001b[49m\u001b[43maxis_name\u001b[49m\u001b[43m)\u001b[49m\n\u001b[1;32m   6202\u001b[0m keyarr \u001b[38;5;241m=\u001b[39m \u001b[38;5;28mself\u001b[39m\u001b[38;5;241m.\u001b[39mtake(indexer)\n\u001b[1;32m   6203\u001b[0m \u001b[38;5;28;01mif\u001b[39;00m \u001b[38;5;28misinstance\u001b[39m(key, Index):\n\u001b[1;32m   6204\u001b[0m     \u001b[38;5;66;03m# GH 42790 - Preserve name from an Index\u001b[39;00m\n",
      "File \u001b[0;32m/opt/conda/lib/python3.12/site-packages/pandas/core/indexes/base.py:6252\u001b[0m, in \u001b[0;36mIndex._raise_if_missing\u001b[0;34m(self, key, indexer, axis_name)\u001b[0m\n\u001b[1;32m   6249\u001b[0m     \u001b[38;5;28;01mraise\u001b[39;00m \u001b[38;5;167;01mKeyError\u001b[39;00m(\u001b[38;5;124mf\u001b[39m\u001b[38;5;124m\"\u001b[39m\u001b[38;5;124mNone of [\u001b[39m\u001b[38;5;132;01m{\u001b[39;00mkey\u001b[38;5;132;01m}\u001b[39;00m\u001b[38;5;124m] are in the [\u001b[39m\u001b[38;5;132;01m{\u001b[39;00maxis_name\u001b[38;5;132;01m}\u001b[39;00m\u001b[38;5;124m]\u001b[39m\u001b[38;5;124m\"\u001b[39m)\n\u001b[1;32m   6251\u001b[0m not_found \u001b[38;5;241m=\u001b[39m \u001b[38;5;28mlist\u001b[39m(ensure_index(key)[missing_mask\u001b[38;5;241m.\u001b[39mnonzero()[\u001b[38;5;241m0\u001b[39m]]\u001b[38;5;241m.\u001b[39munique())\n\u001b[0;32m-> 6252\u001b[0m \u001b[38;5;28;01mraise\u001b[39;00m \u001b[38;5;167;01mKeyError\u001b[39;00m(\u001b[38;5;124mf\u001b[39m\u001b[38;5;124m\"\u001b[39m\u001b[38;5;132;01m{\u001b[39;00mnot_found\u001b[38;5;132;01m}\u001b[39;00m\u001b[38;5;124m not in index\u001b[39m\u001b[38;5;124m\"\u001b[39m)\n",
      "\u001b[0;31mKeyError\u001b[0m: \"['2018_x', '2019_x', '2020_x', '2021_x', '2022_x'] not in index\""
     ]
    }
   ],
   "source": [
    "%run '/home/onyxia/work/AgricultureBio_France/Modelisation/prevision.ipynb'"
   ]
  },
  {
   "cell_type": "markdown",
   "metadata": {},
   "source": [
    "Essayons maintenant d'analyser les résultats que nous avons obtenus. \n",
    "\n",
    "Pour les résultats obtenus, \n",
    "- le mean squared error (MSE) s'élève à 33.66 ce qui signifie que la moyenne des écarts quadratiques entre les prédictions du modèle et les valeurs réelles est de 33.66. C'est une mesure d'erreur absolue : plus elle est faible, mieux le modèle performe. Le modèle n'est donc ici pas très performant. \n",
    "- le R² est de 0.02, il est donc très proche de 0, ce qui indique que le modèle n'explique presque pas la variance des données cibles. Cela suggère que les caractéristiques utilisées ne sont pas suffisantes ou pertinentes pour prédire la variable cible.\n",
    "\n",
    "Les résultats montrent donc que le modèle Random Forest a du mal à généraliser les prédictions pour la cible actuelle. Cela peut être dû à plusieurs facteurs comme la pertinence des données  ou leur manque de complexité. Les variables explicatives utilisées pourraient ne pas être fortement corrélées avec la variable cible. Par exemple, les anciennes variations de pesticides (2019 et antérieures) ont un impact limité.\n",
    "\n",
    "Notre travail met donc en évidence les limitations du modèle actuel et ouvre des perspectives pour améliorer les prédictions à travers des données mieux ciblées et des modèles adaptés."
   ]
  },
  {
   "cell_type": "markdown",
   "metadata": {},
   "source": [
    "### 3.2) Modèle de clustering avec la méthode des k-means \n",
    "\n",
    "Suite aux limites que rencontre notre premier modèle de prédiction, nous avons essayé d'opté pour un **modèle de clustering** avec la méthode des **k-means**. Ce modèle est adapté à notre projet pour analyser les départements français en fonction de plusieurs critères : la surface des parcelles bio, l'évolution des ventes de pesticides entre 2018 et 2022, le types de cultures (grp_culture) et la proportion de parcelles bio par département.\n",
    "\n",
    "Le code de cette modélisation se trouve à la suite de la modélisation précédente, dans le même notebook, et est donc exécuté avec la commande ci dessus.\n",
    "\n",
    "Pour cela nous avons au préalable retravaillé les données des départements, des cultures par départements et établi des fréquences de culture. Nous avons ensuite agrégé nos données et effectué la méthode d’Elbow pour déterminer le nombre optimal de clusters (k) dans notre algorithme de K-Means. Malheureusement la méthode du score de silhouette combinée à celle d'Elbow prend beaucoup de temps à s'exécuter. Nous avons donc décidé de prendre arbitrairement le nombre 7 pour k et voir avec la visualisation graphique si c'est un nombre satisfaisant dans notre approche. \n",
    "\n",
    "Nous avons ensuite appliqué notre modèle et nous l'avons mis en forme grâce à une colormap dynamique. Enfin, pour plus de lisibilité nous avons dessiné la carte de la visualisation des clusters par départements."
   ]
  },
  {
   "cell_type": "markdown",
   "metadata": {},
   "source": [
    "Ainsi les résultats de ce clustering nous révèlent une forte hétérogénéité régionale, avec des spécificités locales marquées par les types de cultures et les pratiques agricoles. Par exemple, le cluster 0 regroupe des départements avec une faible proportion de surfaces bio et des variations modérées dans les ventes de pesticides, tandis que le cluster 6 correspond à des cas extrêmes, avec des surfaces bio très élevées et des fluctuations importantes dans l’usage des pesticides. Cette **carte des clusters ce superpose très bien à notre cartographie des parcelles bio**, puisque nous avons constaté que des départements de l’ouest (notamment en Bretagne) et du sud-est (Rhône-Alpes, Provence-Alpes-Côte d’Azur) affichaient des ratios de parcelles bio nettement supérieurs, correspondant à des clusters caractérisés par une forte transition bio.\n",
    "\n",
    "L’analyse des composantes principales (PCA) a confirmé que la surface bio et les variations des ventes de pesticides étaient les variables explicatives majeures, tandis que certains types de cultures (prairies permanentes, blé tendre, oléagineux) jouaient un rôle différenciant dans les dynamiques locales. En superposant ces clusters à une cartographie, nous avons constaté que des départements de l’ouest (notamment en Bretagne) et du sud-est (Rhône-Alpes, Provence-Alpes-Côte d’Azur) affichaient des ratios de parcelles bio nettement supérieurs, correspondant à des clusters caractérisés par une forte transition bio.\n",
    "\n",
    "Ces résultats soulignent des trajectoires agricoles contrastées, nous offrant des pistes d’optimisation pour des politiques ciblées, mais aussi des perspectives sur la manière dont les pratiques biologiques et conventionnelles coexistent et influencent l’avenir de l’agriculture française.\n"
   ]
  },
  {
   "cell_type": "markdown",
   "metadata": {},
   "source": [
    "## Conclusion\n",
    "\n",
    "Nos analyses ont révélé que l’agriculture biologique, bien qu’en progression, reste marquée par des disparités régionales et des trajectoires contrastées, tant dans les conversions au bio que dans l’impact sur l’usage des pesticides. Si certaines régions affichent une forte transition, le bio n’est pas encore totalement ancré dans le paysage agricole français. Loin des perceptions médiatiques et des dynamiques émotionnelles, il apparaît que le développement du bio dépendra de la capacité à soutenir des pratiques régionales adaptées et à répondre aux enjeux des cohabitations entre agriculture biologique et conventionnelle"
   ]
  }
 ],
 "metadata": {
  "kernelspec": {
   "display_name": "base",
   "language": "python",
   "name": "python3"
  },
  "language_info": {
   "codemirror_mode": {
    "name": "ipython",
    "version": 3
   },
   "file_extension": ".py",
   "mimetype": "text/x-python",
   "name": "python",
   "nbconvert_exporter": "python",
   "pygments_lexer": "ipython3",
   "version": "3.12.7"
  }
 },
 "nbformat": 4,
 "nbformat_minor": 2
}
