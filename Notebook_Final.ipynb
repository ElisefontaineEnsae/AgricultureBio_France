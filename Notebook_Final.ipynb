{
 "cells": [
  {
   "cell_type": "markdown",
   "metadata": {},
   "source": [
    "# Le Bio : nous raconte-t-on des salades ?\n",
    "*Ce projet est réalisé dans le cadre du cours de Python pour la Data Science donné par Lino Galiana à l'ENSAE Paris en 2024.*\n",
    "\n",
    "Auteurs: *Fadi Belmahi, Imane Bayoub et Elise Fontaine.*\n",
    "\n",
    "## 0) Introduction et problématique \n",
    "\n",
    "L’agriculture biologique est souvent perçue comme une réponse incontournable aux défis environnementaux et sanitaires. Dans les supermarchés, elle occupe une place croissante dans les étalages, tandis que des films, comme *Goliath*, de Frédéric Tellier sorti en 2022, mettent en lumière les combats liés aux pesticides et à la réglementation sur le glyphosate. Pourtant, au-delà des discours et de l’émotion suscitée, la réalité de sa progression dans l’agriculture française nous interroge. En dépit de l'interdiction de certains pesticides par les réglementations européennes et françaises, la France demeure, selon un rapport d’Euractiv, le premier consommateur de pesticides en Europe avec près de 80 000 tonnes utilisées par an. Ce constat nous  invite à explorer un paradoxe : **La conversion à l’agriculture biologique en France est-elle réellement ancrée et efficace pour réduire l’usage des pesticides, ou bien reste-t-elle un phénomène principalement public et émotionnel face à une agriculture conventionnelle toujours dominante ?**\n",
    "\n",
    "Nous débuterons par une étude du phénomène du bio en tant que sujet public et sociétal. Nous définirons ce qu’est l’agriculture biologique et analyserons sa place dans l’opinion publique, marquée par des fluctuations et des perceptions parfois contradictoires.\n",
    "\n",
    "Ensuite, nous examinerons la réalité concrète sur le terrain en réalisant un mapping des surfaces agricoles dédiées au bio. Cela nous permettra de mieux comprendre son évolution dans le temps et sa répartition géographique. Nous serons ainsi en mesure de percevoir les inégalités territoriales dans sa diffusion, révélant les disparités dans l’adoption du bio à travers les différentes régions françaises.\n",
    "\n",
    "---Enfin, nous évaluerons l’efficacité du bio à travers une comparaison des surfaces cultivées avec les données sur l’achat et l’utilisation des pesticides. Nous chercherons à déterminer si l’agriculture biologique contribue réellement à réduire l’usage des pesticides ou si son impact reste limité face aux pratiques agricoles conventionnelles.---\n",
    "\n",
    "**Utilisation du notebook**: pour toutes les explications de nos codes, nous chargeons le travail fait dans d'autres notebooks grâce à la fonction `%run` et il est précisé en commentaire le temps nécessaire à l'exécution des codes, pour tous les codes avec une exécution très longue. "
   ]
  },
  {
   "cell_type": "code",
   "execution_count": 1,
   "metadata": {},
   "outputs": [
    {
     "name": "stdout",
     "output_type": "stream",
     "text": [
      "Collecting nbformat\n",
      "  Downloading nbformat-5.10.4-py3-none-any.whl.metadata (3.6 kB)\n",
      "Collecting fastjsonschema>=2.15 (from nbformat)\n",
      "  Downloading fastjsonschema-2.21.1-py3-none-any.whl.metadata (2.2 kB)\n",
      "Collecting jsonschema>=2.6 (from nbformat)\n",
      "  Downloading jsonschema-4.23.0-py3-none-any.whl.metadata (7.9 kB)\n",
      "Requirement already satisfied: jupyter-core!=5.0.*,>=4.12 in /opt/conda/lib/python3.12/site-packages (from nbformat) (5.7.2)\n",
      "Requirement already satisfied: traitlets>=5.1 in /opt/conda/lib/python3.12/site-packages (from nbformat) (5.14.3)\n",
      "Requirement already satisfied: attrs>=22.2.0 in /opt/conda/lib/python3.12/site-packages (from jsonschema>=2.6->nbformat) (24.3.0)\n",
      "Collecting jsonschema-specifications>=2023.03.6 (from jsonschema>=2.6->nbformat)\n",
      "  Downloading jsonschema_specifications-2024.10.1-py3-none-any.whl.metadata (3.0 kB)\n",
      "Collecting referencing>=0.28.4 (from jsonschema>=2.6->nbformat)\n",
      "  Downloading referencing-0.35.1-py3-none-any.whl.metadata (2.8 kB)\n",
      "Collecting rpds-py>=0.7.1 (from jsonschema>=2.6->nbformat)\n",
      "  Downloading rpds_py-0.22.3-cp312-cp312-manylinux_2_17_x86_64.manylinux2014_x86_64.whl.metadata (4.2 kB)\n",
      "Requirement already satisfied: platformdirs>=2.5 in /opt/conda/lib/python3.12/site-packages (from jupyter-core!=5.0.*,>=4.12->nbformat) (4.3.6)\n",
      "Downloading nbformat-5.10.4-py3-none-any.whl (78 kB)\n",
      "Downloading fastjsonschema-2.21.1-py3-none-any.whl (23 kB)\n",
      "Downloading jsonschema-4.23.0-py3-none-any.whl (88 kB)\n",
      "Downloading jsonschema_specifications-2024.10.1-py3-none-any.whl (18 kB)\n",
      "Downloading referencing-0.35.1-py3-none-any.whl (26 kB)\n",
      "Downloading rpds_py-0.22.3-cp312-cp312-manylinux_2_17_x86_64.manylinux2014_x86_64.whl (385 kB)\n",
      "Installing collected packages: fastjsonschema, rpds-py, referencing, jsonschema-specifications, jsonschema, nbformat\n",
      "Successfully installed fastjsonschema-2.21.1 jsonschema-4.23.0 jsonschema-specifications-2024.10.1 nbformat-5.10.4 referencing-0.35.1 rpds-py-0.22.3\n"
     ]
    }
   ],
   "source": [
    "! pip install nbformat"
   ]
  },
  {
   "cell_type": "markdown",
   "metadata": {},
   "source": [
    "## 1) La perception fluctuante de l'agriculture biologique.\n",
    "\n",
    "Nous partons du constat suivant : le bio est un phénomène public qui suscite de nombreux débats et provoque des réactions émotionnelles, car il touche à deux aspects fondamentaux de la vie des individus : l’alimentation et la santé.\n",
    "\n",
    "Mais avant tout définissons ce qu'est exactement le bio. \n",
    "\n",
    "L'agence bio le définit comme un mode de production agricole et agroalimentaire \n",
    "contrôlé par la loi, une loi détaillée dans un cahier des charges \n",
    "agronomique. Parmi les grands principes de ce cahier des charges, nous retrouvons par exemple l'interdiction des pesticides et engrais de synthèse et d’OGM ou encore l'utilisation de méthodes \n",
    "agricoles écologiques comme le recyclage \n",
    "et le compostage des matières organiques ou la rotation  pluriannuelle des cultures.  \n",
    "\n",
    "Comme nous l'avons dit précédement, ce mode de production est fait partie intégrante du débat public. Pour autant sa perception par les consommateurs varie, comme le montre son déclin actuel avec une déconversion de quelques 2 174 producteurs entre janvier et août 2022 (l’Agence Bio). \n",
    "\n",
    "Pour attester de cette fluctuation des opinions, nous avons choisi d'effectuer un **webscrapping**, nous permettant de savoir comment le bio était présenté au lecteur, influençant et donc reflétant l'opinion public. \n",
    "\n",
    "### 1.1) Sélection des médias à scrapper\n",
    "\n",
    "Avant de commencer notre webscraping, nous avons utilisé une clé API de \"News API\" pour **déterminer les journaux les plus pertinents à inclure dans notre analyse**, en se basant sur la couverture médiatique disponible. *L'API gratuite limite l'accès aux articles du mois précédent, rendant impossible une analyse historique sans abonnement payant.*\n",
    "\n",
    "Le code pour cette étape est disponible dans le dossier `perception_bio` dans le notebook `scrapping_media.ipynb`."
   ]
  },
  {
   "cell_type": "code",
   "execution_count": null,
   "metadata": {},
   "outputs": [],
   "source": [
    "%run "
   ]
  },
  {
   "cell_type": "markdown",
   "metadata": {},
   "source": [
    "Le notebook prenant beaucoup de temps à charger, nous déconseillions de le faire tourner ici, mais plutôt directement se référer à ce qui a été fait. \n",
    "\n",
    "Pour autant nous expliquons la démarche qui a été entreprise.\n",
    "\n",
    "Tout d'abord, notre code interroge l'API NewsAPI pour rechercher des articles contenant le mot-clé \"bio\" en français, publiés juin et juillet 2024, triés par popularité, puis affiche les détails des articles (titre, auteur, source, date, lien) si la requête réussit."
   ]
  },
  {
   "cell_type": "markdown",
   "metadata": {},
   "source": [
    "Voici les résultats que nous avons obtenus:\n",
    "Les journaux les plus pertinents dans le cadre de notre analyse sont *Le Monde*, le *HuffPost* (un site d'actualités en ligne qui couvre une large gamme de sujets, souvent orientés vers les questions sociales et environnementales) et *LSA* (*La Revue des Professionnels de l'Alimentation*, un journal spécialisé dans l'alimentation, la consommation et les tendances du marché).\n",
    "A ces journaux, nous ajoutons des journaux à tendance politique différente comme *Le Figaro* ou *Le Point*, des journaux à orientation de droite, afin de diversifier la perspective puisque les journaux précédents sont principalement de centre gauche. Cependant, leur scraping a échoué à cause du rechargement dynamique des pages via JavaScript, ce qui a rendu leur extraction impossible sans outils supplémentaires.\n",
    "\n",
    "### 1.2) Scrapping des journaux\n",
    "\n",
    "Pour commencer, nous avons effectuer un scrapping des différents journaux. La démarches étant similaires pour tous les journaux nous allons ici expliciter seulement une seule. Les autres sont à retrouver dans le dossier `perception_bio` dans les notebooks `scrapping_[NOM_journal].ipynb`."
   ]
  },
  {
   "cell_type": "code",
   "execution_count": null,
   "metadata": {},
   "outputs": [],
   "source": []
  },
  {
   "cell_type": "markdown",
   "metadata": {},
   "source": [
    "Les résultats de nos scrappings sont enregistrés dans les fichiers csv présents dans le dossier `perception_bio` sous les noms `data_[NOM_journal].csv`."
   ]
  },
  {
   "cell_type": "code",
   "execution_count": null,
   "metadata": {},
   "outputs": [],
   "source": []
  },
  {
   "cell_type": "markdown",
   "metadata": {},
   "source": [
    "Nous avons ensuite créer un fichier global, intitulé `data_quantitative.csv`, toujours dans le même dossier `perception_bio`, qui donne la moyenne, pour chaque mois entre les années 2000 et 2024, de la valeur entre 0 et 1 qu'on a attribué à chaque article des différents journaux, qu'on interprète comme un indicateur de la perception du bio dans les journaux."
   ]
  },
  {
   "cell_type": "markdown",
   "metadata": {},
   "source": []
  },
  {
   "cell_type": "markdown",
   "metadata": {},
   "source": [
    "## 1.3) Scrapping de l'opinion public directement\n",
    "\n",
    "Pour renforcer cette analyse faite sur les journaux, nous avons également fait un scrapping sur Google Trend afin d'avoir un aperçu de la perception du bio par les français directement. "
   ]
  }
 ],
 "metadata": {
  "kernelspec": {
   "display_name": "base",
   "language": "python",
   "name": "python3"
  },
  "language_info": {
   "codemirror_mode": {
    "name": "ipython",
    "version": 3
   },
   "file_extension": ".py",
   "mimetype": "text/x-python",
   "name": "python",
   "nbconvert_exporter": "python",
   "pygments_lexer": "ipython3",
   "version": "3.12.7"
  }
 },
 "nbformat": 4,
 "nbformat_minor": 2
}
