{
 "cells": [
  {
   "cell_type": "markdown",
   "metadata": {},
   "source": [
    "Je souhaite travailler sur le fichier G_2047.csv pour avoir des statistiques sur l'agriculture française en générale, afin de pouvoir remettre en contexte celles de l'agriculture biologique et de lui donner son juste poids.\n",
    "\n",
    "J'ai téléchargé la base de données directement sur mon dépôt Git (après maint essais différents pour lire une base de données trop volumineuse) et j'essaie maintenant de la lire"
   ]
  },
  {
   "cell_type": "code",
   "execution_count": 1,
   "metadata": {},
   "outputs": [
    {
     "name": "stdout",
     "output_type": "stream",
     "text": [
      "Erreur de parsing : Error tokenizing data. C error: Expected 1 fields in line 3, saw 2\n",
      "\n"
     ]
    }
   ],
   "source": [
    "import pandas as pd\n",
    "\n",
    "# Chemin relatif vers le fichier dans le dépôt Git\n",
    "FILE_PATH = \"./G_2047.csv\"\n",
    "\n",
    "try:\n",
    "    # Charger le fichier CSV\n",
    "    data = pd.read_csv(FILE_PATH, sep=\";\", encoding=\"utf-8\")\n",
    "    print(f\"Données chargées avec succès : {data.shape[0]} lignes et {data.shape[1]} colonnes.\")\n",
    "    print(data.head(3))  # Afficher les 3 premières lignes\n",
    "except FileNotFoundError:\n",
    "    print(f\"Le fichier {FILE_PATH} est introuvable. Vérifiez que vous êtes dans le bon répertoire.\")\n",
    "except pd.errors.ParserError as e:\n",
    "    print(f\"Erreur de parsing : {e}\")\n"
   ]
  },
  {
   "cell_type": "markdown",
   "metadata": {},
   "source": [
    "Je ne peux lire la base de données directement car il semblerait qu'il y ait une erreur de séparateur ou autre. Tentons de résoudre cette erreur."
   ]
  },
  {
   "cell_type": "code",
   "execution_count": 2,
   "metadata": {},
   "outputs": [
    {
     "name": "stdout",
     "output_type": "stream",
     "text": [
      "Contenu brut du fichier (10 premières lignes) :\n",
      "\"Exploitations par tranche de superficie agricole utilisée (SAU)\"\n",
      "\"\"\n",
      "\"Année de référence\";\"2010\"\n",
      "\"France entière\";\"FR - France entière\"\n",
      "\"Champ des exploitations\";\"Ensemble des exploitations (hors pacages collectifs)\"\n",
      "\"\"\n",
      "\"Source\";\"Agreste - Recensements\"\n",
      "\"notes\";\"- Les données sont localisées au siège de l'exploitation agricole. Les années 1970 et 1979 ne portent que sur la France métropolitaine.\"\n",
      "\"\"\n",
      "\"Superficie agricole utilisée\";\"Nombre d'exploitations concernées\";\"Superficie agricole utilisée (ha)\";\"Volume de travail des exploitations concernées (UTA)\";\"Production brute standard (millier d'euros)\"\n",
      "\n"
     ]
    }
   ],
   "source": [
    "# Lire le fichier brut pour inspecter son contenu\n",
    "with open(\"./G_2047.csv\", \"r\", encoding=\"utf-8\") as f:\n",
    "    content = f.readlines()\n",
    "    print(\"Contenu brut du fichier (10 premières lignes) :\")\n",
    "    print(\"\".join(content[:10]))\n"
   ]
  },
  {
   "cell_type": "markdown",
   "metadata": {},
   "source": [
    "Le fichier que j'essaie de lire contient des lignes descriptives en haut (informations générales) qui ne font pas partie des données tabulaires. Ces lignes doivent être ignorées pour charger correctement les données dans Pandas.\n",
    "\n",
    "En regardant le contenu brut, les données tabulaires semblent commencer à la ligne contenant les colonnes (ici : \"Superficie agricole utilisée\";\"Nombre d'exploitations concernées\";...).\n",
    "\n",
    "Pour résoudre le problème, nous allons ignorer les lignes précédentes (mais nous copions le contenu de ces lignes ci dessous afin de conserver leur contenu)."
   ]
  },
  {
   "cell_type": "code",
   "execution_count": 2,
   "metadata": {},
   "outputs": [
    {
     "name": "stdout",
     "output_type": "stream",
     "text": [
      "Données chargées avec succès : 18 lignes et 5 colonnes.\n",
      "                Superficie agricole utilisée  \\\n",
      "0                                   Ensemble   \n",
      "1  SAU inférieure à 5 ha, y compris sans SAU   \n",
      "2                  SAU de 5 à moins de 20 ha   \n",
      "\n",
      "   Nombre d'exploitations concernées  Superficie agricole utilisée (ha)  \\\n",
      "0                             514694                           27087794   \n",
      "1                             138723                             267216   \n",
      "2                              96707                            1049496   \n",
      "\n",
      "   Volume de travail des exploitations concernées (UTA)  \\\n",
      "0                                             785564      \n",
      "1                                             117403      \n",
      "2                                             123422      \n",
      "\n",
      "   Production brute standard (millier d'euros)  \n",
      "0                                     52069201  \n",
      "1                                      5688434  \n",
      "2                                      5931004  \n"
     ]
    }
   ],
   "source": [
    "import pandas as pd\n",
    "\n",
    "FILE_PATH = \"./G_2047.csv\"\n",
    "\n",
    "try:\n",
    "    # Charger les données en ignorant les 9 premières lignes\n",
    "    data = pd.read_csv(FILE_PATH, sep=\";\", encoding=\"utf-8\", skiprows=9)\n",
    "    print(f\"Données chargées avec succès : {data.shape[0]} lignes et {data.shape[1]} colonnes.\")\n",
    "    print(data.head(3))  # Afficher les 3 premières lignes\n",
    "except pd.errors.ParserError as e:\n",
    "    print(f\"Erreur de parsing : {e}\")\n",
    "except FileNotFoundError:\n",
    "    print(f\"Le fichier {FILE_PATH} est introuvable.\")\n"
   ]
  },
  {
   "cell_type": "code",
   "execution_count": 3,
   "metadata": {},
   "outputs": [
    {
     "name": "stdout",
     "output_type": "stream",
     "text": [
      "Index(['Superficie agricole utilisée', 'Nombre d'exploitations concernées',\n",
      "       'Superficie agricole utilisée (ha)',\n",
      "       'Volume de travail des exploitations concernées (UTA)',\n",
      "       'Production brute standard (millier d'euros)'],\n",
      "      dtype='object')\n"
     ]
    }
   ],
   "source": [
    "print(data.columns)"
   ]
  },
  {
   "cell_type": "markdown",
   "metadata": {},
   "source": [
    "Le document est un tableau à double entrée, j'analyse donc la visualisation disponible sur le site [Agreste](https://agreste.agriculture.gouv.fr/agreste-saiku/?plugin=true&query=query/open/G_2047#query/open/G_2047) pour mieux savoir comment travailler avec. Je remarque que seulement la première ligne m'intéresse puisqu'elle correspond au total des suivantes, qui subdivise les exploitations agricoles par catégorie de surface agricole utilisée."
   ]
  },
  {
   "cell_type": "code",
   "execution_count": 5,
   "metadata": {},
   "outputs": [
    {
     "name": "stdout",
     "output_type": "stream",
     "text": [
      "Ligne 'Ensemble' extraite avec succès :\n",
      "  Superficie agricole utilisée  Nombre d'exploitations concernées  \\\n",
      "0                     Ensemble                             514694   \n",
      "\n",
      "   Superficie agricole utilisée (ha)  \\\n",
      "0                           27087794   \n",
      "\n",
      "   Volume de travail des exploitations concernées (UTA)  \\\n",
      "0                                             785564      \n",
      "\n",
      "   Production brute standard (millier d'euros)  \n",
      "0                                     52069201  \n"
     ]
    }
   ],
   "source": [
    "import pandas as pd\n",
    "\n",
    "# Charger le fichier CSV\n",
    "FILE_PATH = \"./G_2047.csv\"\n",
    "\n",
    "try:\n",
    "    # Lire le fichier en ignorant les métadonnées\n",
    "    data = pd.read_csv(FILE_PATH, sep=\";\", encoding=\"utf-8\", skiprows=9)\n",
    "\n",
    "    # Filtrer uniquement la ligne \"Ensemble\" dans la colonne \"Superficie agricole utilisée\"\n",
    "    total_row = data[data.iloc[:, 0] == \"Ensemble\"]  # Filtre sur la première colonne\n",
    "    print(\"Ligne 'Ensemble' extraite avec succès :\")\n",
    "    print(total_row)\n",
    "    \n",
    "except FileNotFoundError:\n",
    "    print(f\"Le fichier {FILE_PATH} est introuvable.\")\n",
    "except Exception as e:\n",
    "    print(f\"Erreur : {e}\")\n"
   ]
  },
  {
   "cell_type": "markdown",
   "metadata": {},
   "source": [
    "Je sépare maintenant mon tableau en plusieurs tableaux correspondants à chacune des grandes colonnes de mon tableau mère (car chacune de ces colonnes comprend ensuite des sous colonnes en fonction de tous les départements)."
   ]
  },
  {
   "cell_type": "code",
   "execution_count": 7,
   "metadata": {},
   "outputs": [
    {
     "name": "stdout",
     "output_type": "stream",
     "text": [
      "Ligne 'Ensemble' extraite avec succès :\n",
      "  Superficie agricole utilisée  Nombre d'exploitations concernées  \\\n",
      "0                     Ensemble                             514694   \n",
      "\n",
      "   Superficie agricole utilisée (ha)  \\\n",
      "0                           27087794   \n",
      "\n",
      "   Volume de travail des exploitations concernées (UTA)  \\\n",
      "0                                             785564      \n",
      "\n",
      "   Production brute standard (millier d'euros)  \n",
      "0                                     52069201  \n"
     ]
    }
   ],
   "source": [
    "# Filtrer uniquement la ligne \"Ensemble\" dans la colonne \"Superficie agricole utilisée\"\n",
    "total_row = data[data.iloc[:, 0] == \"Ensemble\"]  # Filtre sur la première colonne\n",
    "print(\"Ligne 'Ensemble' extraite avec succès :\")\n",
    "print(total_row)\n",
    "\n",
    "# Sauvegarder la ligne filtrée pour une utilisation ultérieure\n",
    "total_row.to_csv(\"filtered_total_row.csv\", index=False, sep=\";\", encoding=\"utf-8\")"
   ]
  },
  {
   "cell_type": "code",
   "execution_count": 11,
   "metadata": {},
   "outputs": [
    {
     "name": "stdout",
     "output_type": "stream",
     "text": [
      "\n",
      "Tableau pour 'Superficie agricole utilisée' :\n",
      "  Superficie agricole utilisée\n",
      "0                     Ensemble\n",
      "\n",
      "Tableau pour 'Nombre d'exploitations concernées' :\n",
      "   Nombre d'exploitations concernées\n",
      "0                             514694\n"
     ]
    }
   ],
   "source": [
    "# Charger la ligne filtrée à partir du fichier précédent\n",
    "total_row = pd.read_csv(\"filtered_total_row.csv\", sep=\";\", encoding=\"utf-8\")\n",
    "\n",
    "# Diviser le tableau en sous-tableaux par grandes colonnes\n",
    "# Sélectionner uniquement la colonne \"Superficie agricole utilisée\" (sans suffixe \"(ha)\")\n",
    "cols_superficie = [col for col in total_row.columns if col.strip() == \"Superficie agricole utilisée\"]\n",
    "superficie_table = total_row[cols_superficie]\n",
    "\n",
    "# Colonnes liées à \"Nombre d'exploitations concernées\"\n",
    "cols_exploitations = [col for col in total_row.columns if \"Nombre d'exploitations concernées\" in col]\n",
    "exploitations_table = total_row[cols_exploitations]\n",
    "\n",
    "# Afficher les sous-tableaux sans les sauvegarder\n",
    "print(\"\\nTableau pour 'Superficie agricole utilisée' :\")\n",
    "print(superficie_table)\n",
    "\n",
    "print(\"\\nTableau pour 'Nombre d'exploitations concernées' :\")\n",
    "print(exploitations_table)"
   ]
  }
 ],
 "metadata": {
  "kernelspec": {
   "display_name": "base",
   "language": "python",
   "name": "python3"
  },
  "language_info": {
   "codemirror_mode": {
    "name": "ipython",
    "version": 3
   },
   "file_extension": ".py",
   "mimetype": "text/x-python",
   "name": "python",
   "nbconvert_exporter": "python",
   "pygments_lexer": "ipython3",
   "version": "3.12.7"
  }
 },
 "nbformat": 4,
 "nbformat_minor": 2
}
