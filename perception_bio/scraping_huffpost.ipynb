{
 "cells": [
  {
   "cell_type": "code",
   "execution_count": 1,
   "metadata": {},
   "outputs": [
    {
     "name": "stderr",
     "output_type": "stream",
     "text": [
      "/opt/conda/lib/python3.12/site-packages/tqdm/auto.py:21: TqdmWarning: IProgress not found. Please update jupyter and ipywidgets. See https://ipywidgets.readthedocs.io/en/stable/user_install.html\n",
      "  from .autonotebook import tqdm as notebook_tqdm\n"
     ]
    }
   ],
   "source": [
    "from bs4 import BeautifulSoup\n",
    "import requests\n",
    "import time\n",
    "import csv\n",
    "from tqdm import tqdm\n",
    "from transformers import pipeline\n",
    "from datetime import datetime\n",
    "import pandas as pd\n",
    "import matplotlib.pyplot as plt\n",
    "import matplotlib.colors as mcolors"
   ]
  },
  {
   "cell_type": "markdown",
   "metadata": {},
   "source": [
    "# Génération d'un dataset complet pour l'analyse des articles sur l'agriculture biologique\n",
    "\n",
    "## Objectif\n",
    "Le code suivant vise à construire un dataset contenant des articles du **HuffPost** traitant de l'agriculture biologique. Chaque article sera enrichi de plusieurs informations, notamment une date, les phrases clés où le mot *bio* ou *biologique* a été trouvé, ainsi qu'une valeur de sentiment entre 0 et 1 indiquant si l'article est globalement positif ou négatif vis-à-vis de l'agriculture biologique.\n",
    "\n",
    "## Méthodologie\n",
    "1. **Collecte des articles** :  \n",
    "   Les articles présents dans la section *Agriculture* du HuffPost sont collectés. Les données initiales extraites incluent le titre, le résumé et l'URL de chaque article.\n",
    "\n",
    "2. **Extraction du contenu et filtrage par mots-clés** :  \n",
    "   À partir des URL, le contenu complet des articles est récupéré et stocké dans la colonne **Paragraphs**. Un filtrage est ensuite effectué pour identifier les articles contenant les mots-clés *bio* (avec un espace pour éviter des mots comme biodégradable) ou *agriculture biologique*.  \n",
    "   Les phrases ou paragraphes où ces termes apparaissent sont extraits et enregistrés dans la colonne **Found_in**.\n",
    "\n",
    "3. **Analyse de sentiment** :  \n",
    "   Une analyse de sentiment est réalisée sur chaque élément présent dans la colonne **Found_in** (phrases ou paragraphes pertinents). Une moyenne des scores obtenus est calculée pour chaque article, donnant une valeur comprise entre 0 et 1 :  \n",
    "   - Proche de 1 : L'article est globalement positif vis-à-vis de l'agriculture biologique.  \n",
    "   - Proche de 0 : L'article est globalement négatif vis-à-vis de l'agriculture biologique.\n",
    "\n",
    "4. **Structure du dataset** :  \n",
    "   Le dataset final contiendra les colonnes suivantes :  \n",
    "   - **Title** : Le titre de l'article.  \n",
    "   - **Summary** : Un résumé concis de l'article.  \n",
    "   - **URL** : Le lien vers l'article pour une consultation détaillée.  \n",
    "   - **Paragraphs** : Le contenu complet de l'article.  \n",
    "   - **Date** : La date de publication de l'article.  \n",
    "   - **Found_in** : Les phrases ou paragraphes où les mots *bio* ou *biologique* ont été détectés.  \n",
    "   - **Average_Sentiment_Score** : Une valeur entre 0 et 1 représentant la tonalité générale de l'article.  \n",
    "\n",
    "## Résultat attendu\n",
    "Ce dataset permettra de suivre l'évolution de la perception médiatique de l'agriculture biologique.\n"
   ]
  },
  {
   "cell_type": "code",
   "execution_count": 2,
   "metadata": {},
   "outputs": [],
   "source": [
    "headers = {\n",
    "    \"User-Agent\": \"Mozilla/5.0 (Windows NT 10.0; Win64; x64) AppleWebKit/537.36 (KHTML, like Gecko) Chrome/91.0.4472.124 Safari/537.36\",\n",
    "    \"Accept\": \"text/html,application/xhtml+xml,application/xml;q=0.9,*/*;q=0.8\",\n",
    "    \"Accept-Language\": \"en-US,en;q=0.5\",\n",
    "    \"Accept-Encoding\": \"gzip, deflate, br\",  # Supporte la compression\n",
    "    \"Connection\": \"keep-alive\",\n",
    "    \"Upgrade-Insecure-Requests\": \"1\",  # Pour indiquer le support de HTTPS et les mises à jour\n",
    "    \"Cache-Control\": \"max-age=0\",  # Pour forcer le rechargement des ressources\n",
    "    \"TE\": \"Trailers\"  # Support de la transmission avec les trailers HTTP/2\n",
    "}\n"
   ]
  },
  {
   "cell_type": "markdown",
   "metadata": {},
   "source": [
    "# Construction du dataset 'title' , 'description' , 'url' avec tout les articles traitant d'agriculture"
   ]
  },
  {
   "cell_type": "code",
   "execution_count": 3,
   "metadata": {},
   "outputs": [],
   "source": [
    "def scrape_all_page(url):\n",
    "    all_articles = []  # Liste des articles collectés\n",
    "    seen_articles = set()  # Ensemble pour éviter les doublons d'URL\n",
    "\n",
    "    try:\n",
    "        # Envoyer une requête HTTP pour récupérer la page\n",
    "        response = requests.get(url, headers=headers, timeout=10)\n",
    "        if response.status_code == 200:\n",
    "            soup = BeautifulSoup(response.text, 'html.parser')\n",
    "            \n",
    "            # Trouver tous les articles via la classe \"articlePreview-content\"\n",
    "            articles = soup.find_all(\"div\", class_=\"articlePreview-content\")\n",
    "            \n",
    "            for article in articles:\n",
    "                # Extraire le lien de l'article\n",
    "                link_element = article.find(\"a\", href=True)\n",
    "                article_url = f\"https://www.huffingtonpost.fr{link_element['href']}\" if link_element else \"\"\n",
    "\n",
    "                # Extraire le titre\n",
    "                title_element = article.find(\"div\", class_=\"title\")\n",
    "                title_text = title_element.find(\"h2\").get_text(strip=True) if title_element else \"\"\n",
    "\n",
    "                # Extraire la description\n",
    "                description_element = article.find(\"div\", class_=\"articlePreview-chapo\")\n",
    "                description_text = description_element.get_text(strip=True) if description_element else \"\"\n",
    "\n",
    "                # Vérifier si l'article est déjà collecté\n",
    "                if article_url and article_url not in seen_articles:\n",
    "                    # Ajouter l'article sous forme de dictionnaire\n",
    "                    all_articles.append({\n",
    "                        \"title\": title_text,\n",
    "                        \"description\": description_text,\n",
    "                        \"url\": article_url\n",
    "                    })\n",
    "                    seen_articles.add(article_url)\n",
    "\n",
    "            return all_articles\n",
    "\n",
    "        else:\n",
    "            print(f\"Erreur HTTP {response.status_code} lors de l'accès à {url}\")\n",
    "            return []\n",
    "\n",
    "    except requests.RequestException as e:\n",
    "        print(f\"Erreur de requête pour {url}: {e}\")\n",
    "        return []\n"
   ]
  },
  {
   "cell_type": "code",
   "execution_count": 4,
   "metadata": {},
   "outputs": [],
   "source": [
    "def scrape_all_pages(base_url, total_pages):\n",
    "    all_articles = []  # Liste pour collecter tous les articles\n",
    "\n",
    "    for page_num in range(1, total_pages + 1):\n",
    "        # Construire l'URL pour chaque page\n",
    "        if page_num == 1:\n",
    "            url = base_url  # La première page n'a pas de suffixe \"?page=\"\n",
    "        else:\n",
    "            url = f\"{base_url}?page={page_num}\"\n",
    "        \n",
    "        print(f\"Scraping de la page : {url}\")\n",
    "        articles = scrape_all_page(url)  # Appeler la fonction pour une page\n",
    "        all_articles.extend(articles)  # Ajouter les articles collectés\n",
    "\n",
    "        print(f\"Page {page_num} : {len(articles)} articles collectés.\")\n",
    "\n",
    "    print(f\"Scraping terminé : {len(all_articles)} articles collectés au total.\")\n",
    "    return all_articles\n"
   ]
  },
  {
   "cell_type": "code",
   "execution_count": 5,
   "metadata": {},
   "outputs": [],
   "source": [
    "# Fonction pour exporter les résultats en CSV\n",
    "def export_to_csv_1(dataset, filename=\"articles_dataset.csv\"):\n",
    "    # Ouvrir le fichier CSV en mode écriture\n",
    "    with open(filename, mode='w', encoding='utf-8', newline='') as file:\n",
    "        # Définir les noms des colonnes (en-têtes)\n",
    "        fieldnames = [\"Title\", \"Description\", \"URL\"]\n",
    "        \n",
    "        # Créer un objet DictWriter pour écrire dans le fichier\n",
    "        writer = csv.DictWriter(file, fieldnames=fieldnames)\n",
    "        \n",
    "        # Écrire les en-têtes dans le fichier\n",
    "        writer.writeheader()\n",
    "        \n",
    "        # Écrire chaque ligne de données dans le fichier\n",
    "        for data in dataset:\n",
    "            # Formatage des données pour correspondre aux en-têtes\n",
    "            writer.writerow({\n",
    "                \"Title\": data[\"title\"],\n",
    "                \"Description\": data[\"description\"],\n",
    "                \"URL\": data[\"url\"]\n",
    "            })\n",
    "\n",
    "    print(f\"Les résultats ont été sauvegardés dans '{filename}'.\")\n"
   ]
  },
  {
   "cell_type": "markdown",
   "metadata": {},
   "source": [
    "32sec"
   ]
  },
  {
   "cell_type": "code",
   "execution_count": null,
   "metadata": {},
   "outputs": [
    {
     "name": "stdout",
     "output_type": "stream",
     "text": [
      "Scraping de la page : https://www.huffingtonpost.fr/agriculture/\n",
      "Page 1 : 30 articles collectés.\n",
      "Scraping de la page : https://www.huffingtonpost.fr/agriculture/?page=2\n"
     ]
    },
    {
     "name": "stdout",
     "output_type": "stream",
     "text": [
      "Page 2 : 30 articles collectés.\n",
      "Scraping de la page : https://www.huffingtonpost.fr/agriculture/?page=3\n",
      "Page 3 : 30 articles collectés.\n",
      "Scraping de la page : https://www.huffingtonpost.fr/agriculture/?page=4\n",
      "Page 4 : 30 articles collectés.\n",
      "Scraping de la page : https://www.huffingtonpost.fr/agriculture/?page=5\n",
      "Page 5 : 30 articles collectés.\n",
      "Scraping de la page : https://www.huffingtonpost.fr/agriculture/?page=6\n",
      "Page 6 : 30 articles collectés.\n",
      "Scraping de la page : https://www.huffingtonpost.fr/agriculture/?page=7\n",
      "Page 7 : 30 articles collectés.\n",
      "Scraping de la page : https://www.huffingtonpost.fr/agriculture/?page=8\n",
      "Page 8 : 30 articles collectés.\n",
      "Scraping de la page : https://www.huffingtonpost.fr/agriculture/?page=9\n",
      "Page 9 : 30 articles collectés.\n",
      "Scraping de la page : https://www.huffingtonpost.fr/agriculture/?page=10\n",
      "Page 10 : 30 articles collectés.\n",
      "Scraping de la page : https://www.huffingtonpost.fr/agriculture/?page=11\n",
      "Page 11 : 30 articles collectés.\n",
      "Scraping de la page : https://www.huffingtonpost.fr/agriculture/?page=12\n",
      "Page 12 : 30 articles collectés.\n",
      "Scraping de la page : https://www.huffingtonpost.fr/agriculture/?page=13\n",
      "Page 13 : 30 articles collectés.\n",
      "Scraping de la page : https://www.huffingtonpost.fr/agriculture/?page=14\n",
      "Page 14 : 30 articles collectés.\n",
      "Scraping de la page : https://www.huffingtonpost.fr/agriculture/?page=15\n",
      "Page 15 : 30 articles collectés.\n",
      "Scraping de la page : https://www.huffingtonpost.fr/agriculture/?page=16\n",
      "Page 16 : 30 articles collectés.\n",
      "Scraping de la page : https://www.huffingtonpost.fr/agriculture/?page=17\n",
      "Page 17 : 30 articles collectés.\n",
      "Scraping de la page : https://www.huffingtonpost.fr/agriculture/?page=18\n",
      "Page 18 : 30 articles collectés.\n",
      "Scraping de la page : https://www.huffingtonpost.fr/agriculture/?page=19\n",
      "Page 19 : 30 articles collectés.\n",
      "Scraping de la page : https://www.huffingtonpost.fr/agriculture/?page=20\n",
      "Page 20 : 30 articles collectés.\n",
      "Scraping de la page : https://www.huffingtonpost.fr/agriculture/?page=21\n",
      "Page 21 : 30 articles collectés.\n",
      "Scraping de la page : https://www.huffingtonpost.fr/agriculture/?page=22\n",
      "Page 22 : 30 articles collectés.\n",
      "Scraping de la page : https://www.huffingtonpost.fr/agriculture/?page=23\n",
      "Page 23 : 30 articles collectés.\n",
      "Scraping de la page : https://www.huffingtonpost.fr/agriculture/?page=24\n",
      "Page 24 : 30 articles collectés.\n",
      "Scraping de la page : https://www.huffingtonpost.fr/agriculture/?page=25\n",
      "Page 25 : 30 articles collectés.\n",
      "Scraping de la page : https://www.huffingtonpost.fr/agriculture/?page=26\n",
      "Page 26 : 30 articles collectés.\n",
      "Scraping de la page : https://www.huffingtonpost.fr/agriculture/?page=27\n",
      "Page 27 : 30 articles collectés.\n",
      "Scraping de la page : https://www.huffingtonpost.fr/agriculture/?page=28\n",
      "Page 28 : 30 articles collectés.\n",
      "Scraping de la page : https://www.huffingtonpost.fr/agriculture/?page=29\n",
      "Page 29 : 30 articles collectés.\n",
      "Scraping de la page : https://www.huffingtonpost.fr/agriculture/?page=30\n",
      "Page 30 : 30 articles collectés.\n",
      "Scraping de la page : https://www.huffingtonpost.fr/agriculture/?page=31\n",
      "Page 31 : 30 articles collectés.\n",
      "Scraping de la page : https://www.huffingtonpost.fr/agriculture/?page=32\n",
      "Page 32 : 30 articles collectés.\n",
      "Scraping de la page : https://www.huffingtonpost.fr/agriculture/?page=33\n",
      "Page 33 : 30 articles collectés.\n",
      "Scraping de la page : https://www.huffingtonpost.fr/agriculture/?page=34\n",
      "Page 34 : 30 articles collectés.\n",
      "Scraping de la page : https://www.huffingtonpost.fr/agriculture/?page=35\n",
      "Page 35 : 30 articles collectés.\n",
      "Scraping de la page : https://www.huffingtonpost.fr/agriculture/?page=36\n",
      "Page 36 : 30 articles collectés.\n",
      "Scraping de la page : https://www.huffingtonpost.fr/agriculture/?page=37\n",
      "Page 37 : 23 articles collectés.\n",
      "Scraping terminé : 1103 articles collectés au total.\n",
      "Les résultats ont été sauvegardés dans 'agriculture_huffpost_.csv'.\n"
     ]
    }
   ],
   "source": [
    "base_url = \"https://www.huffingtonpost.fr/agriculture/\"\n",
    "total_pages = 37\n",
    "\n",
    "# Scraper tous les articles des 37 pages\n",
    "all_articles = scrape_all_pages(base_url, total_pages)\n",
    "\n",
    "# Sauvegarder les résultats dans un fichier CSV\n",
    "export_to_csv_1(all_articles, \"agriculture_huffpost.csv\")\n"
   ]
  },
  {
   "cell_type": "code",
   "execution_count": 7,
   "metadata": {},
   "outputs": [
    {
     "data": {
      "text/plain": [
       "[{'title': 'Pour remobiliser sur leurs revendications, des agriculteurs paradent aux couleurs de Noël',\n",
       "  'description': 'De la Normandie à l’Occitanie, des agriculteurs affiliés aux syndicats majoritaires FNSEA-JA, décorent leur tracteur pour continuer de faire vivre leur mouvement en cette période de fêtes.',\n",
       "  'url': 'https://www.huffingtonpost.fr/france/video/colere-agricole-des-agriculteurs-paradent-aux-couleurs-de-noel-pour-remobiliser-sur-leurs-revendications_243925.html'}]"
      ]
     },
     "execution_count": 7,
     "metadata": {},
     "output_type": "execute_result"
    }
   ],
   "source": [
    "all_articles[:1]"
   ]
  },
  {
   "cell_type": "markdown",
   "metadata": {},
   "source": [
    "## Filtrage du dataset pour ne conserver que les articles pertinents\n",
    "\n",
    "On filtre le dataset afin qu'il ne contienne que les articles mentionnant explicitement les termes *\"bio \"* (avec un espace pour exclure des mots comme *biodégradable*) ou *\"biologique\"*. \n",
    "\n",
    "- **Colonne `Paragraphs`** : Cette colonne est renseignée avec l'ensemble des paragraphes de chaque article.  \n",
    "- **Colonne `Found_in`** : Cette colonne contient une liste des paragraphes, du titre ou du résumé où l'un des termes recherchés (*\"bio \"* ou *\"biologique\"*) a été détecté. Cela permet d'isoler les occurrences pertinentes et de fournir un contexte textuel clair pour chaque mention des termes.\n"
   ]
  },
  {
   "cell_type": "code",
   "execution_count": 8,
   "metadata": {},
   "outputs": [],
   "source": [
    "def fetch_article_detail(articles):\n",
    "    \"\"\"\n",
    "    Enrichit une liste d'articles avec les paragraphes et la date de publication.\n",
    "    \n",
    "    :param articles: Liste de dictionnaires contenant 'title', 'description' et 'url' pour chaque article.\n",
    "    :return: Liste enrichie avec les 'paragraphs' et 'publication_date'.\n",
    "    \"\"\"\n",
    "    articles_enrichis = []\n",
    "    \n",
    "    for article in articles:\n",
    "        try:\n",
    "            # Extraction des informations de l'article\n",
    "            titre = article.get(\"title\")\n",
    "            resume = article.get(\"description\")\n",
    "            url = article.get(\"url\")\n",
    "\n",
    "            # Récupération de la page HTML\n",
    "            response = requests.get(url)\n",
    "            response.raise_for_status()  # Vérifie que la requête est réussie\n",
    "            soup = BeautifulSoup(response.content, 'html.parser')\n",
    "            \n",
    "            # Extraction des paragraphes\n",
    "            paragraphes = [\n",
    "                p.get_text(strip=True) for p in soup.find_all('p', class_='asset asset-text')\n",
    "            ]\n",
    "            \n",
    "            # Extraction de la date de publication\n",
    "            date_element = soup.find('time', class_='article-metas')\n",
    "            if date_element:\n",
    "                date_publication = date_element.find('span', class_='article-metas__date')\n",
    "                date_publication = date_publication.get_text(strip=True) if date_publication else \"Date inconnue\"\n",
    "            else:\n",
    "                date_publication = \"Date inconnue\"\n",
    "            \n",
    "            # Ajouter les données enrichies à l'article\n",
    "            articles_enrichis.append({\n",
    "                \"title\": titre,\n",
    "                \"description\": resume,\n",
    "                \"url\": url,\n",
    "                \"paragraphs\": paragraphes,\n",
    "                \"publication_date\": date_publication\n",
    "            })\n",
    "        \n",
    "        except Exception as e:\n",
    "            # En cas d'erreur, log et continuer\n",
    "            print(f\"Erreur pour l'article : {titre} ({url}) - {e}\")\n",
    "            articles_enrichis.append({\n",
    "                \"title\": titre,\n",
    "                \"description\": resume,\n",
    "                \"url\": url,\n",
    "                \"paragraphs\": [],\n",
    "                \"publication_date\": \"Erreur lors de l'extraction\"\n",
    "            })\n",
    "    \n",
    "    return articles_enrichis\n"
   ]
  },
  {
   "cell_type": "code",
   "execution_count": 28,
   "metadata": {},
   "outputs": [],
   "source": [
    "# Fonction pour vérifier si \"bio\" est dans le texte et retourner les phrases contenant \"bio\"\n",
    "def find_sentences_with_bio(text):\n",
    "    text = text.lower()\n",
    "    sentences = text.split('.')  # Diviser le texte en phrases\n",
    "    bio_sentences = [sentence.strip() for sentence in sentences if 'bio ' in sentence or 'biologique' in sentence]\n",
    "    return bio_sentences\n",
    "\n",
    "# Fonction pour filtrer les articles contenant le mot \"bio\" et ajouter les phrases correspondantes\n",
    "def filter_articles_with_bio(dataset):\n",
    "    filtered_articles = []\n",
    "    total_articles = len(dataset)\n",
    "\n",
    "    # Initialiser tqdm pour la boucle avec un calcul du temps estimé\n",
    "    start_time = time.time()  # Démarrer le chronomètre\n",
    "\n",
    "    for i, article in tqdm(enumerate(dataset), total=total_articles, desc=\"Filtrage des articles\", unit=\"article\"):\n",
    "        bio_sentences = []\n",
    "\n",
    "        # Vérifier si \"bio\" est dans le titre\n",
    "        bio_sentences += find_sentences_with_bio(article.get(\"title\", \"\"))\n",
    "\n",
    "        # Vérifier si \"bio\" est dans le résumé\n",
    "        bio_sentences += find_sentences_with_bio(article.get(\"description\", \"\"))\n",
    "\n",
    "        # Vérifier chaque paragraphe\n",
    "        for paragraph in article.get(\"paragraphs\", []):\n",
    "            bio_sentences += find_sentences_with_bio(paragraph)\n",
    "\n",
    "        if bio_sentences:  # Ajouter seulement si des phrases contenant \"bio\" ont été trouvées\n",
    "            article_with_bio = article.copy()\n",
    "            article_with_bio[\"bio_sentences\"] = bio_sentences  # Ajouter les phrases contenant \"bio\"\n",
    "            filtered_articles.append(article_with_bio)\n",
    "\n",
    "        # Calculer et afficher le temps estimé restant\n",
    "        elapsed_time = time.time() - start_time  # Temps écoulé\n",
    "        progress = (i + 1) / total_articles  # Progression\n",
    "        estimated_time_left = elapsed_time / progress - elapsed_time  # Temps estimé restant\n",
    "        print(f\"\\rProgression : {progress * 100:.2f}% - Temps restant estimé : {estimated_time_left / 60:.2f} minutes\", end=\"\")\n",
    "\n",
    "    print()  # Pour un retour à la ligne après l'affichage du progrès\n",
    "    return filtered_articles\n"
   ]
  },
  {
   "cell_type": "markdown",
   "metadata": {},
   "source": [
    "3min"
   ]
  },
  {
   "cell_type": "code",
   "execution_count": 29,
   "metadata": {},
   "outputs": [],
   "source": [
    "# Scraper les détails de chaque article dans `all_articles`\n",
    "detailed_articles = fetch_article_detail(all_articles)"
   ]
  },
  {
   "cell_type": "code",
   "execution_count": null,
   "metadata": {},
   "outputs": [
    {
     "data": {
      "text/plain": [
       "[{'title': 'Pour remobiliser sur leurs revendications, des agriculteurs paradent aux couleurs de Noël',\n",
       "  'description': 'De la Normandie à l’Occitanie, des agriculteurs affiliés aux syndicats majoritaires FNSEA-JA, décorent leur tracteur pour continuer de faire vivre leur mouvement en cette période de fêtes.',\n",
       "  'url': 'https://www.huffingtonpost.fr/france/video/colere-agricole-des-agriculteurs-paradent-aux-couleurs-de-noel-pour-remobiliser-sur-leurs-revendications_243925.html',\n",
       "  'paragraphs': ['AGRICULTURE - Tracteurs«\\xa0enguirlandés\\xa0». En Vendée, dans le Finistère, dans l’Eure ou encore dans le Lot, les sections départementales des syndicats de la FNSEA et des Jeunes agriculteurs (JA) ont décidé de se mobiliser autrement, en paradant dans les rues avec leur tracteur décoré aux couleurs de Noël. Un moyen de rappeler que leurmouvement de revendications, contrel’accord de libre échange UE-Mercosuret les normes environnementales, entre autres, se maintient malgré les fêtes.',\n",
       "   '«\\xa0On est toujours en pleine morosité, on est sans réponse depuis la dissolution. Pour le moment, c’est Noël, on va amener une autre image du public, et s’il faut repartir après les fêtes, on repartira tant qu’on n’a pas de réponse concrète\\xa0», a expliqué Julien Grasset, coprésident des JA du Quercy blanc, à cheval sur les départements du Lot et du Tarn-et-Garonne, au micro deFrance 3. Dans le Lot, les agriculteurs se rendront ce lundi 23\\xa0décembre au marché de Noël de Montcuq.',\n",
       "   'Dans le nord-ouest, notamment en Normandie, l’ambiance est tout aussi festive,comme vous pouvez le voir sur les tweets ci-dessous. Des «Pères Noël\\xa0»et autres décorations lumineuses ont été accrochés par les exploitants sur leur outil de travail.',\n",
       "   'Les agriculteurs normands ont en tout cas réussi ces derniers jours à gagner en capital sympathie,comme l’atteste ce reportagetourné par BFMTV, dans le Pays de Bray, le 15\\xa0décembre.«\\xa0C’est génial les tracteurs illuminés, il faut soutenir les agriculteurs, c’est eux qui nous nourrissent. Et pour les fêtes il faut manger local\\xa0!\\xa0», plaide un petit garçon.',\n",
       "   'En Vendée, ce dimanche soir, des agriculteurs sous la bannière des JA ont également paradé dans les rues, klaxonnant à la vue des passants. Christophe Duranteau, agriculteur qui participe au rassemblement nocturne affirme au quotidienLe Courrier Vendéen:«\\xa0Notre but n’est pas de faire passer un message politique. On ne veut pas donner cette image qu’on embête les gens mais ont veut faire rêver les enfants et les adultes\\xa0».',\n",
       "   'Ces actions de Noël surviennent après trois semaines de mobilisations des principaux syndicats agricoles en novembre. Un mouvement de colère qui s’est quelque peu essoufflé ces dernières semaines dans un contexte politique flou. Alors qu’un nouveau Premier ministre, François Bayrou, a été nommé le 13\\xa0décembre, la FNSEA a réclamé«\\xa0un rendez-vous en urgence\\xa0»avec le leader centriste et lui a demandé«\\xa0un engagement fort\\xa0»pour l’agriculture«\\xa0dès les tous premiers moments de sa prise de fonction\\xa0».',\n",
       "   'À voir également surLe HuffPost:'],\n",
       "  'publication_date': '22/12/2024 21:52'},\n",
       " {'title': 'C’est quoi cet oiseau qui a mis un coup d’arrêt au projet de bassine à Sainte-Soline',\n",
       "  'description': 'Ce mercredi, la cour administrative d’appel de Bordeaux a jugé les autorisations délivrées à quatre réserves d’irrigation du Poitou, dont celle de Sainte-Soline, illégales.',\n",
       "  'url': 'https://www.huffingtonpost.fr/environnement/article/sainte-soline-l-outarde-canepetiere-l-oiseau-qui-a-mis-un-coup-d-arret-au-projet-de-bassine_243753.html',\n",
       "  'paragraphs': ['ENVIRONNEMENT - C’est un oiseau qui contrarie les plans des agriculteurs du Poitou favorables auxmégabassines. Ce mercredi 18\\xa0décembre, quatre d’entre elles –notamment celle de Sainte-Soline– ont vu leurautorisation suspenduepar la justice. Pour cause, ces réserves d’irrigation sont «de nature à détruire tout ou une partie de l’habitat\\xa0»de l’outarde canepetière, d’après la cour administrative d’appel de Bordeaux.\\xa0Dans cette région, la population de cesoiseauxn’est estimée qu’à quelques centaines, menacés parl’agriculture intensive.',\n",
       "   'Selon les informations de laLPO, le Centre Ouest, notamment les Deux-Sèvres, accueille 327\\xa0mâles d’outarde canepetière. Pas évidente à repérer et craintive des humains, elle possède un plumage ocre avec des taches noires. Au printemps, pour la saison de la reproduction, le mâle arbore une collerette noire et blanche,«\\xa0qu’il déploie comme un cobra au cours de sa parade\\xa0», décrieReporterre. Son nom vient de«\\xa0cane\\xa0»pour son vol qui ressemble à celui d’un canard, et «petière\\xa0»pour les bruits aigus émis au moment de la parade, qui ressemblent à de petits pets.',\n",
       "   'Il s’agit de la dernière population migratoire de cette espèce en Europe. Elle se reproduit en majorité dans les plaines céréalières, qui sont placées en Zones de protection spéciales (ZPS), visant à assurer leur survie à long terme.',\n",
       "   'D’après Étienne Debenest, ornithologue au sein du Groupe ornithologique des Deux-Sèvres (GODS) rencontré parReporterre, l’outarde migre de moins en moins vers l’Espagne et le Portugal, comme auparavant.«\\xa0Avec le\\xa0réchauffement climatique, les hivers chez nous sont moins rudes. La végétation et le climat lui restent plus favorables\\xa0», observe le professionnel.',\n",
       "   'L’outarde canepetière est particulièrement menacée par l’agriculture intensive, explique la LPO, notamment avec la disparition des jachères et l’usage des pesticides. L’urbanisation et les infrastructures comme les parcs photovoltaïques constituent également un danger.',\n",
       "   'Ces deux facteurs entraînent des difficultés à trouver de la nourriture pour le jeune outardeau, qui consomme en moyenne«\\xa0200\\xa0insectes par jour\\xa0: grillons, criquets et autres sauterelles\\xa0», indiqueReporterre.«\\xa0Le contexte agricole et la quantité d’insectes dans nos plaines ne sont plus favorables et suffisants pour que l’outarde élève tous ses jeunes\\xa0», déplore Étienne Debenest. Les fauches et les phénomènes climatiques extrêmes menacent aussi l’éclosion des œufs, précise-t-il.',\n",
       "   'C’est pourquoi l’espèce est sous le coup d’un\\xa0troisième Plan National d’Actions (PNA). Ce dernier vise à éviter l’extinction de ces populations. L’oiseau est aussi classé parmi les espèces en danger dans la liste rouge de l’Union Internationale pour la Conservation de la Nature.',\n",
       "   'Une situation qui explique que l’outarde canepetière soit devenue l’oiseau totem des anti-bassines, qui protestent contre le modèle agricole intensif qui porte atteinte à son habitat.«Une seule outarde repérée sur le terrain peut justifier qu’on attaque en justice et même permettre de gagner contre un projet de bassine\\xa0»,assure l’ornithologue.',\n",
       "   'À voir également surLe HuffPost:'],\n",
       "  'publication_date': '18/12/2024 18:40'}]"
      ]
     },
     "execution_count": 30,
     "metadata": {},
     "output_type": "execute_result"
    }
   ],
   "source": [
    "detailed_articles[0]"
   ]
  },
  {
   "cell_type": "code",
   "execution_count": 31,
   "metadata": {},
   "outputs": [
    {
     "name": "stderr",
     "output_type": "stream",
     "text": [
      "Filtrage des articles: 100%|██████████| 1103/1103 [00:00<00:00, 12221.09article/s]"
     ]
    },
    {
     "name": "stdout",
     "output_type": "stream",
     "text": [
      "Progression : 100.00% - Temps restant estimé : 0.00 minutes\n"
     ]
    },
    {
     "name": "stderr",
     "output_type": "stream",
     "text": [
      "\n"
     ]
    }
   ],
   "source": [
    "# Filtrer les articles contenant le mot \"bio\"\n",
    "filtered_articles = filter_articles_with_bio(detailed_articles)\n",
    "\n"
   ]
  },
  {
   "cell_type": "code",
   "execution_count": null,
   "metadata": {},
   "outputs": [
    {
     "name": "stderr",
     "output_type": "stream",
     "text": [
      "Device set to use cpu\n"
     ]
    }
   ],
   "source": [
    "\n",
    "# Charger le modèle de sentiment d'Hugging Face\n",
    "sentiment_analyzer = pipeline(\"sentiment-analysis\", model=\"distilbert/distilbert-base-uncased-finetuned-sst-2-english\")\n",
    "\n",
    "def analyze_sentiment_bio_with_model(text):\n",
    "    \"\"\"\n",
    "    Utilise un modèle open-source pour analyser le sentiment d'un texte concernant le bio.\n",
    "    Le score sera entre 0 (négatif) et 1 (positif).\n",
    "    \"\"\"\n",
    "    # Utiliser le modèle de sentiment pour prédire le sentiment\n",
    "    result = sentiment_analyzer(text)\n",
    "\n",
    "    # Le modèle retourne une liste avec un dictionnaire contenant les labels et scores\n",
    "    sentiment = result[0]\n",
    "    \n",
    "    # Convertir le label en score : 'LABEL_1' est positif, 'LABEL_0' est négatif\n",
    "    if sentiment['label'] == 'POSITIVE':\n",
    "        return sentiment['score']\n",
    "    else:\n",
    "        return 1 - sentiment['score']  # Retourner un score entre 0 et 1 pour un sentiment négatif\n"
   ]
  },
  {
   "cell_type": "markdown",
   "metadata": {},
   "source": [
    "Nous allons maintenant ajouter une valeur comprise entre 0 et 1 à chaque article, reflétant son ton vis-à-vis du bio (positif ou négatif), en utilisant le modèle d'analyse de sentiment proposé par **Hugging Face**.  \n",
    "\n",
    "Cependant, cette méthode présente une limite importante : elle évalue le sentiment global d'une phrase sans prendre en compte le contexte spécifique au bio. Par exemple, une phrase comme *\"Il n'y a pas assez de parcelles bio en France\"* serait considérée comme négative, bien qu'elle ne critique pas directement le bio mais plutôt son insuffisance.  \n",
    "\n",
    "Une approche alternative aurait consisté à utiliser un modèle de langage large (LLM) comme GPT, avec des appels spécifiques contenant des prompts contextualisés. Cela aurait permis de mieux cerner les nuances et d'exclure les phrases où le ton négatif ou positif n'est pas réellement dirigé vers l'agriculture biologique. Toutefois, en raison des contraintes liées à l'absence de GPU et au nombre limité d'appels API, nous avons opté pour la solution basée sur **Hugging Face**, qui reste adaptée et efficace dans ce contexte."
   ]
  },
  {
   "cell_type": "code",
   "execution_count": 33,
   "metadata": {},
   "outputs": [],
   "source": [
    "# Fonction pour appliquer l'analyse de sentiment à chaque article dans la liste\n",
    "def add_sentiment_score_to_articles(articles):\n",
    "    \"\"\"\n",
    "    Applique l'analyse de sentiment sur chaque phrase ajoutée à l'article\n",
    "    et ajoute la moyenne des scores de sentiment à chaque article.\n",
    "    \n",
    "    :param articles: Liste de dictionnaires contenant les articles enrichis avec des clés comme 'title', 'description', 'url', 'paragraphs', 'bio_sentences'.\n",
    "    :return: Liste de dictionnaires enrichis avec le score de sentiment moyen.\n",
    "    \"\"\"\n",
    "    for article in articles:\n",
    "        # Extraire les phrases contenant \"bio\" (clé 'bio_sentences')\n",
    "        sentences = article.get(\"bio_sentences\", [])\n",
    "\n",
    "        if sentences:  # Appliquer l'analyse de sentiment uniquement si des phrases contenant \"bio\" sont présentes\n",
    "            # Appliquer l'analyse de sentiment à chaque phrase\n",
    "            sentiment_scores = [analyze_sentiment_bio_with_model(sentence) for sentence in sentences]\n",
    "\n",
    "            # Calculer la moyenne des scores de sentiment\n",
    "            average_score = sum(sentiment_scores) / len(sentiment_scores) if sentiment_scores else 0\n",
    "\n",
    "            # Ajouter le score de sentiment moyen au dictionnaire\n",
    "            article[\"sentiment_score\"] = average_score\n",
    "        else:\n",
    "            # Si aucune phrase contenant \"bio\" n'est trouvée, définir le score comme 0\n",
    "            article[\"sentiment_score\"] = 0\n",
    "\n",
    "    return articles\n"
   ]
  },
  {
   "cell_type": "markdown",
   "metadata": {},
   "source": [
    "9min5"
   ]
  },
  {
   "cell_type": "code",
   "execution_count": 34,
   "metadata": {},
   "outputs": [],
   "source": [
    "final_data = add_sentiment_score_to_articles(filtered_articles)"
   ]
  },
  {
   "cell_type": "code",
   "execution_count": 35,
   "metadata": {},
   "outputs": [
    {
     "data": {
      "text/plain": [
       "{'title': 'Pourquoi les agriculteurs menacent de ressortir les tracteurs',\n",
       " 'description': 'Les aides européennes pour les agriculteurs en bio ou engagés pour la transition écologique accusent plusieurs mois de retard.',\n",
       " 'url': 'https://www.huffingtonpost.fr/france/article/agriculteurs-en-colere-pourquoi-les-syndicats-menacent-de-ressortir-les-tracteurs-sans-blocage-pour-l-instant-clx1_235430.html',\n",
       " 'paragraphs': ['AGRICULTURE - L’art de semer des promesses. Au début de l’année, alors que lacolère des agriculteursse faisait entendre à travers le pays,Gabriel Attals’engageait solennellement à apaiser les tensions en garantissant que«\\xa0d’ici le 15\\xa0mars, toutes les aides PAC seraient versées sur les comptes bancaires des exploitants\\xa0». Quelques semaines plus tard, n’ayant pas tenu ce délai, le ministère de l’Agriculture annonçait que les aides arriveraient finalement au plus tard le 15\\xa0juin.',\n",
       "  'Or ce jour est passé et des milliers de fermes attendent toujours leurs paiements, en particulier lesexploitants bioou en MAEC (Mesures Agro-Environnementales et Climatiques).«\\xa0Pour près d’un quart des agriculteurs engagés dans ces démarches environnementales, les versements ne sont toujours pas versés\\xa0», dénonce ainsi la FNSEA.',\n",
       "  'La situation est loin d’être résolue\\xa0: selon une enquête interne du ministère de l’Agriculture, dans le meilleur des cas il restera à la fin du mois de juin 25\\xa0% à 40\\xa0% des paiements bio à effectuer, et 30\\xa0% à 50\\xa0% pour les MAEC, indique l’Opinion.',\n",
       "  'La FNSEA et les Jeunes Agriculteurs menacent donc de ressortir ce lundi 17\\xa0juin les tracteurs, alors que le pays est par ailleurs déjà secoué parune tempête politique. Mais à la place des barrages ou des blocages comme cet hiver, les syndicats ont prévu des actions locales, ciblant notamment les DDT (Direction Départementale des Territoires) responsables de la gestion de ces démarches.',\n",
       "  'Il y a de quoi s’impatienter\\xa0: les aides concernées correspondent aux déclarations PAC faites en mai\\xa02023, soit il y a plus d’un an. Habituellement, elles sont versées en fin d’année, mais les récentschangements dans la PACont décalé les paiements à la fin du premier trimestre de 2024.',\n",
       "  '«\\xa0Le paiement des dossiers a démarré début mars\\xa0», confirme le ministère de l’Agriculture. Pourtant, les syndicats dénoncent que de nombreux agriculteurs n’ont toujours rien reçu, certains devant même emprunter pour combler un trou financier pouvant atteindre plusieurs dizaines de milliers d’euros.',\n",
       "  'Pourquoi ces aides tardent-elles tant de temps à être versées\\xa0? Le problème semble venir des logiciels utilisés pour faire remonter les déclarations des agriculteurs à l’État\\xa0: Iris, chargé de référencer les parcelles et de valider les paiements, et Osiris, dédié au suivi des aides.',\n",
       "  '«\\xa0La seule explication donnée par le ministère est une “panne de logiciels”\\xa0», rapporte auHuffPostRémi Rossi, attaché de presse des Jeunes Agriculteurs.«\\xa0Pour l’instant, aucune date de versement n’est prévue\\xa0», ajoute-t-il dans l’incertitude. La FNSEA a également été prévenue«\\xa0des problèmes logiciels, des bugs informatiques qui ralentissent les démarches\\xa0»,indique Antoine Giacomazzo.',\n",
       "  '«\\xa0Que ce soit dû à des problèmes de logiciel, des manques d’anticipation budgétaire, une surcharge de travail des agents des services de l’État, ce n’est pas aux paysan·nes de subir les conséquences de cette gestion défaillante de la\\xa0PAC\\xa0», déplore laConfédération Paysannedans un communiqué. Le syndicat insiste sur l’importance cruciale de ces paiements, notamment pour les fermes engagées en agriculture biologique, lemaintien des haiesou les méthodes d’agro-écologie.',\n",
       "  '«\\xa0Par exemple, une ferme de Bretagne qui s’est engagée en MAEC a transformé une partie de ses champs de maïs en prairies favorables à la biodiversité\\xa0», illustre Nicolas Fortin, porte-parole de la Confédération Paysanne.«\\xa0Les pertes financières dues à l’abandon du maïs devraient être compensées par ces aides… Mais à ce rythme, l’exploitant ne les percevra qu’en septembre\\xa02024, avec plus de six mois de retard\\xa0»,explique-t-il auHuffPost.',\n",
       "  'De son côté, la FNSEA souligne que ce retard est«\\xa0d’autant moins admissible que l’agriculture biologique traverse actuellement unecrise économique majeure».Nicolas Fortin de la Confédération Paysanne renchérit\\xa0:«\\xa0le gouvernement a mis en place des aides d’urgences pour la bio, mais il devrait déjà commencer par payer les aides qui sont prévues\\xa0».',\n",
       "  'À ce jour, le bio représente 10,7\\xa0% de la surface agricole utile française. Avec son plan«\\xa0Ambition bio 2027\\xa0», le gouvernement ambitionne de faire grimper à 18\\xa0% dans les trois prochaines années. Dès lors, le retard des aides destinées à faciliter cette transition est d’autant plus incompréhensible pour la profession.',\n",
       "  'À voir également surLe HuffPost\\xa0:'],\n",
       " 'publication_date': '17/06/2024 11:39',\n",
       " 'bio_sentences': ['les aides européennes pour les agriculteurs en bio ou engagés pour la transition écologique accusent plusieurs mois de retard',\n",
       "  'la situation est loin d’être résolue\\xa0: selon une enquête interne du ministère de l’agriculture, dans le meilleur des cas il restera à la fin du mois de juin 25\\xa0% à 40\\xa0% des paiements bio à effectuer, et 30\\xa0% à 50\\xa0% pour les maec, indique l’opinion',\n",
       "  'le syndicat insiste sur l’importance cruciale de ces paiements, notamment pour les fermes engagées en agriculture biologique, lemaintien des haiesou les méthodes d’agro-écologie',\n",
       "  'de son côté, la fnsea souligne que ce retard est«\\xa0d’autant moins admissible que l’agriculture biologique traverse actuellement unecrise économique majeure»',\n",
       "  'à ce jour, le bio représente 10,7\\xa0% de la surface agricole utile française',\n",
       "  'avec son plan«\\xa0ambition bio 2027\\xa0», le gouvernement ambitionne de faire grimper à 18\\xa0% dans les trois prochaines années'],\n",
       " 'sentiment_score': 0.41267584760983783}"
      ]
     },
     "execution_count": 35,
     "metadata": {},
     "output_type": "execute_result"
    }
   ],
   "source": [
    "final_data[0]"
   ]
  },
  {
   "cell_type": "markdown",
   "metadata": {},
   "source": [
    "## On enregistre le csv final"
   ]
  },
  {
   "cell_type": "code",
   "execution_count": 36,
   "metadata": {},
   "outputs": [],
   "source": [
    "# Fonction pour enregistrer les données au format CSV\n",
    "def save_to_csv_final(data, filename):\n",
    "    \"\"\"\n",
    "    Enregistre la liste de dictionnaires au format CSV.\n",
    "    \n",
    "    :param data: Liste de dictionnaires contenant les données des articles.\n",
    "    :param filename: Nom du fichier CSV de sortie.\n",
    "    \"\"\"\n",
    "    # Définir les en-têtes en fonction des clés des dictionnaires\n",
    "    headers = [\n",
    "        \"Title\", \n",
    "        \"Summary\", \n",
    "        \"URL\", \n",
    "        \"Paragraphs\", \n",
    "        \"Date\", \n",
    "        \"Found_in\", \n",
    "        \"Average_Sentiment_Score\"\n",
    "    ]\n",
    "    \n",
    "    # Écriture dans le fichier CSV\n",
    "    with open(filename, mode='w', encoding='utf-8', newline='') as file:\n",
    "        writer = csv.DictWriter(file, fieldnames=headers)\n",
    "        \n",
    "        # Écrire les en-têtes\n",
    "        writer.writeheader()\n",
    "        \n",
    "        # Écrire les données\n",
    "        for article in data:\n",
    "            # Extraire les données à partir du dictionnaire\n",
    "            row = {\n",
    "                \"Title\": article.get(\"title\", \"\"),\n",
    "                \"Summary\": article.get(\"description\", \"\"),\n",
    "                \"URL\": article.get(\"url\", \"\"),\n",
    "                \"Paragraphs\": \"\\n\\n\".join(article.get(\"paragraphs\", [])),  # Joindre les paragraphes par des doubles sauts de ligne\n",
    "                \"Date\": article.get(\"publication_date\", \"\"),\n",
    "                \"Found_in\": \", \".join(article.get(\"bio_sentences\", [])),  # Joindre les phrases contenant \"bio\"\n",
    "                \"Average_Sentiment_Score\": article.get(\"sentiment_score\", 0)  # Score de sentiment moyen\n",
    "            }\n",
    "            writer.writerow(row)\n",
    "\n",
    "    print(f\"Les données ont été enregistrées dans le fichier '{filename}'.\")\n"
   ]
  },
  {
   "cell_type": "code",
   "execution_count": null,
   "metadata": {},
   "outputs": [
    {
     "name": "stdout",
     "output_type": "stream",
     "text": [
      "Les données ont été enregistrées dans le fichier 'data_huffpost_.csv'.\n"
     ]
    }
   ],
   "source": [
    "save_to_csv_final(final_data,\"data_huffpost.csv\")"
   ]
  },
  {
   "cell_type": "code",
   "execution_count": 38,
   "metadata": {},
   "outputs": [
    {
     "data": {
      "text/plain": [
       "{'title': 'Pourquoi les agriculteurs menacent de ressortir les tracteurs',\n",
       " 'description': 'Les aides européennes pour les agriculteurs en bio ou engagés pour la transition écologique accusent plusieurs mois de retard.',\n",
       " 'url': 'https://www.huffingtonpost.fr/france/article/agriculteurs-en-colere-pourquoi-les-syndicats-menacent-de-ressortir-les-tracteurs-sans-blocage-pour-l-instant-clx1_235430.html',\n",
       " 'paragraphs': ['AGRICULTURE - L’art de semer des promesses. Au début de l’année, alors que lacolère des agriculteursse faisait entendre à travers le pays,Gabriel Attals’engageait solennellement à apaiser les tensions en garantissant que«\\xa0d’ici le 15\\xa0mars, toutes les aides PAC seraient versées sur les comptes bancaires des exploitants\\xa0». Quelques semaines plus tard, n’ayant pas tenu ce délai, le ministère de l’Agriculture annonçait que les aides arriveraient finalement au plus tard le 15\\xa0juin.',\n",
       "  'Or ce jour est passé et des milliers de fermes attendent toujours leurs paiements, en particulier lesexploitants bioou en MAEC (Mesures Agro-Environnementales et Climatiques).«\\xa0Pour près d’un quart des agriculteurs engagés dans ces démarches environnementales, les versements ne sont toujours pas versés\\xa0», dénonce ainsi la FNSEA.',\n",
       "  'La situation est loin d’être résolue\\xa0: selon une enquête interne du ministère de l’Agriculture, dans le meilleur des cas il restera à la fin du mois de juin 25\\xa0% à 40\\xa0% des paiements bio à effectuer, et 30\\xa0% à 50\\xa0% pour les MAEC, indique l’Opinion.',\n",
       "  'La FNSEA et les Jeunes Agriculteurs menacent donc de ressortir ce lundi 17\\xa0juin les tracteurs, alors que le pays est par ailleurs déjà secoué parune tempête politique. Mais à la place des barrages ou des blocages comme cet hiver, les syndicats ont prévu des actions locales, ciblant notamment les DDT (Direction Départementale des Territoires) responsables de la gestion de ces démarches.',\n",
       "  'Il y a de quoi s’impatienter\\xa0: les aides concernées correspondent aux déclarations PAC faites en mai\\xa02023, soit il y a plus d’un an. Habituellement, elles sont versées en fin d’année, mais les récentschangements dans la PACont décalé les paiements à la fin du premier trimestre de 2024.',\n",
       "  '«\\xa0Le paiement des dossiers a démarré début mars\\xa0», confirme le ministère de l’Agriculture. Pourtant, les syndicats dénoncent que de nombreux agriculteurs n’ont toujours rien reçu, certains devant même emprunter pour combler un trou financier pouvant atteindre plusieurs dizaines de milliers d’euros.',\n",
       "  'Pourquoi ces aides tardent-elles tant de temps à être versées\\xa0? Le problème semble venir des logiciels utilisés pour faire remonter les déclarations des agriculteurs à l’État\\xa0: Iris, chargé de référencer les parcelles et de valider les paiements, et Osiris, dédié au suivi des aides.',\n",
       "  '«\\xa0La seule explication donnée par le ministère est une “panne de logiciels”\\xa0», rapporte auHuffPostRémi Rossi, attaché de presse des Jeunes Agriculteurs.«\\xa0Pour l’instant, aucune date de versement n’est prévue\\xa0», ajoute-t-il dans l’incertitude. La FNSEA a également été prévenue«\\xa0des problèmes logiciels, des bugs informatiques qui ralentissent les démarches\\xa0»,indique Antoine Giacomazzo.',\n",
       "  '«\\xa0Que ce soit dû à des problèmes de logiciel, des manques d’anticipation budgétaire, une surcharge de travail des agents des services de l’État, ce n’est pas aux paysan·nes de subir les conséquences de cette gestion défaillante de la\\xa0PAC\\xa0», déplore laConfédération Paysannedans un communiqué. Le syndicat insiste sur l’importance cruciale de ces paiements, notamment pour les fermes engagées en agriculture biologique, lemaintien des haiesou les méthodes d’agro-écologie.',\n",
       "  '«\\xa0Par exemple, une ferme de Bretagne qui s’est engagée en MAEC a transformé une partie de ses champs de maïs en prairies favorables à la biodiversité\\xa0», illustre Nicolas Fortin, porte-parole de la Confédération Paysanne.«\\xa0Les pertes financières dues à l’abandon du maïs devraient être compensées par ces aides… Mais à ce rythme, l’exploitant ne les percevra qu’en septembre\\xa02024, avec plus de six mois de retard\\xa0»,explique-t-il auHuffPost.',\n",
       "  'De son côté, la FNSEA souligne que ce retard est«\\xa0d’autant moins admissible que l’agriculture biologique traverse actuellement unecrise économique majeure».Nicolas Fortin de la Confédération Paysanne renchérit\\xa0:«\\xa0le gouvernement a mis en place des aides d’urgences pour la bio, mais il devrait déjà commencer par payer les aides qui sont prévues\\xa0».',\n",
       "  'À ce jour, le bio représente 10,7\\xa0% de la surface agricole utile française. Avec son plan«\\xa0Ambition bio 2027\\xa0», le gouvernement ambitionne de faire grimper à 18\\xa0% dans les trois prochaines années. Dès lors, le retard des aides destinées à faciliter cette transition est d’autant plus incompréhensible pour la profession.',\n",
       "  'À voir également surLe HuffPost\\xa0:'],\n",
       " 'publication_date': '17/06/2024 11:39',\n",
       " 'bio_sentences': ['les aides européennes pour les agriculteurs en bio ou engagés pour la transition écologique accusent plusieurs mois de retard',\n",
       "  'la situation est loin d’être résolue\\xa0: selon une enquête interne du ministère de l’agriculture, dans le meilleur des cas il restera à la fin du mois de juin 25\\xa0% à 40\\xa0% des paiements bio à effectuer, et 30\\xa0% à 50\\xa0% pour les maec, indique l’opinion',\n",
       "  'le syndicat insiste sur l’importance cruciale de ces paiements, notamment pour les fermes engagées en agriculture biologique, lemaintien des haiesou les méthodes d’agro-écologie',\n",
       "  'de son côté, la fnsea souligne que ce retard est«\\xa0d’autant moins admissible que l’agriculture biologique traverse actuellement unecrise économique majeure»',\n",
       "  'à ce jour, le bio représente 10,7\\xa0% de la surface agricole utile française',\n",
       "  'avec son plan«\\xa0ambition bio 2027\\xa0», le gouvernement ambitionne de faire grimper à 18\\xa0% dans les trois prochaines années'],\n",
       " 'sentiment_score': 0.41267584760983783}"
      ]
     },
     "execution_count": 38,
     "metadata": {},
     "output_type": "execute_result"
    }
   ],
   "source": [
    "final_data[0]"
   ]
  },
  {
   "cell_type": "markdown",
   "metadata": {},
   "source": [
    "## On affiche une visualisation colorimétrique du nombre d'article par mois et de la valeur moyenne de la positivité ou négativité de l'analyse de sentiment. On remarque que les articles ne remontent que à 2012 il n'y a pas de valeurs pour les année de 2000 à 2012 nous ne pouvons donc pas utiliser ces valeurs pour l'indicateur du nombre d'article mais que pour celui de la positivité ou négativité des articles. "
   ]
  },
  {
   "cell_type": "code",
   "execution_count": 46,
   "metadata": {},
   "outputs": [],
   "source": [
    "def plot_months_with_color_based_on_score(data):\n",
    "    \"\"\"\n",
    "    Génère un graphique montrant le nombre d'articles par mois, avec une couleur différente pour chaque mois\n",
    "    en fonction du score moyen des articles de ce mois. Le score est extrait de la clé 'score'.\n",
    "    \n",
    "    :param data: Liste de dictionnaires où la date de publication se trouve sous la clé 'publication_date'\n",
    "                 et le score sous la clé 'score'.\n",
    "    \"\"\"\n",
    "    # Initialisation de dictionnaires pour compter les articles et calculer la somme des scores par mois\n",
    "    articles_per_month = {}\n",
    "    scores_per_month = {}\n",
    "\n",
    "    # Boucle pour extraire les données pertinentes\n",
    "    for entry in data:\n",
    "        try:\n",
    "            date_str = entry.get('publication_date')  # Récupérer la date\n",
    "            score = entry.get('sentiment_score', 0)  # Récupérer le score (défaut : 0)\n",
    "\n",
    "            # Vérifier que les deux champs existent\n",
    "            if not date_str or not isinstance(score, (int, float)):\n",
    "                continue\n",
    "\n",
    "            # Conversion de la date au format 'DD/MM/YYYY HH:MM'\n",
    "            date_obj = datetime.strptime(date_str, '%d/%m/%Y %H:%M')\n",
    "            \n",
    "            # Formater la date pour obtenir le mois et l'année (format 'YYYY-MM')\n",
    "            month_year = date_obj.strftime('%Y-%m')\n",
    "            \n",
    "            # Incrémenter le compteur pour le mois et ajouter le score pour le calcul du score moyen\n",
    "            if month_year not in articles_per_month:\n",
    "                articles_per_month[month_year] = 0\n",
    "                scores_per_month[month_year] = 0.0\n",
    "            articles_per_month[month_year] += 1\n",
    "            scores_per_month[month_year] += score\n",
    "        except Exception as e:\n",
    "            print(f\"Erreur de traitement pour l'entrée {entry}: {e}\")\n",
    "            continue\n",
    "\n",
    "    # Calculer le score moyen par mois\n",
    "    average_scores = {month: scores_per_month[month] / articles_per_month[month] for month in articles_per_month}\n",
    "\n",
    "    # Créer une liste de tous les mois de l'année (en format YYYY-MM)\n",
    "    all_months = pd.date_range(start=min(pd.to_datetime(list(articles_per_month.keys()))), \n",
    "                               end=max(pd.to_datetime(list(articles_per_month.keys()))), \n",
    "                               freq='MS').strftime('%Y-%m').tolist()\n",
    "\n",
    "    # Liste des mois avec ou sans articles\n",
    "    month_labels = []\n",
    "    month_counts = []\n",
    "    month_scores = []\n",
    "    \n",
    "    # Ajouter des mois manquants (ceux sans articles)\n",
    "    for month in all_months:\n",
    "        month_labels.append(month)\n",
    "        month_counts.append(articles_per_month.get(month, 0))\n",
    "        month_scores.append(average_scores.get(month, 0))\n",
    "\n",
    "    # Créer un DataFrame avec les mois, le nombre d'articles et le score moyen\n",
    "    df = pd.DataFrame({\n",
    "        'Month': month_labels,\n",
    "        'Article_Count': month_counts,\n",
    "        'Average_Score': month_scores\n",
    "    })\n",
    "\n",
    "    # Créer une échelle de couleurs pour les scores (de rouge à vert)\n",
    "    norm = mcolors.Normalize(vmin=min(month_scores), vmax=max(month_scores))\n",
    "    cmap = plt.colormaps['RdYlGn']  # Palette de couleurs allant de rouge (faible) à vert (élevé)\n",
    "    \n",
    "    # Tracer les données\n",
    "    fig, ax = plt.subplots(figsize=(12, 7))\n",
    "    bar_colors = [cmap(norm(score)) for score in df['Average_Score']]  # Couleur des barres en fonction du score moyen\n",
    "    bars = ax.bar(df['Month'], df['Article_Count'], color=bar_colors)\n",
    "\n",
    "    # Ajouter des labels et un titre\n",
    "    ax.set_xlabel('Mois', fontsize=12)\n",
    "    ax.set_ylabel('Nombre d\\'Articles', fontsize=12)\n",
    "    ax.set_title('Nombre d\\'Articles par Mois avec Scores Moyens', fontsize=14)\n",
    "\n",
    "    # Rotation des labels de l'axe X pour une meilleure lisibilité\n",
    "    plt.xticks(rotation=45, fontsize=10)\n",
    "\n",
    "    # Définir les ticks de l'axe X (positionner les mois)\n",
    "    tick_positions = range(len(df['Month']))\n",
    "    ax.set_xticks(tick_positions)\n",
    "\n",
    "    # Ne mettre l'année qu'une seule fois par année\n",
    "    ax.set_xticklabels([label if i == 0 or label[:4] != df['Month'][i-1][:4] else '' for i, label in enumerate(df['Month'])])\n",
    "\n",
    "    # Ajouter une grille\n",
    "    ax.grid(axis='y', linestyle='--', alpha=0.7)\n",
    "\n",
    "    # Ajouter une légende de couleur (colorbar)\n",
    "    sm = plt.cm.ScalarMappable(cmap=cmap, norm=norm)\n",
    "    sm.set_array([])  # Nécessaire pour afficher la légende\n",
    "    cbar = fig.colorbar(sm, ax=ax, orientation='vertical', pad=0.01)\n",
    "    cbar.set_label('Score Moyen')\n",
    "\n",
    "    # Ajustement des marges\n",
    "    plt.tight_layout()\n",
    "\n",
    "    # Afficher le graphique\n",
    "    plt.show()\n"
   ]
  },
  {
   "cell_type": "code",
   "execution_count": 47,
   "metadata": {},
   "outputs": [
    {
     "data": {
      "image/png": "[encoded data removed]",
      "text/plain": [
       "<Figure size 1200x700 with 2 Axes>"
      ]
     },
     "metadata": {},
     "output_type": "display_data"
    }
   ],
   "source": [
    "plot_months_with_color_based_on_score(final_data)"
   ]
  }
 ],
 "metadata": {
  "kernelspec": {
   "display_name": "base",
   "language": "python",
   "name": "python3"
  },
  "language_info": {
   "codemirror_mode": {
    "name": "ipython",
    "version": 3
   },
   "file_extension": ".py",
   "mimetype": "text/x-python",
   "name": "python",
   "nbconvert_exporter": "python",
   "pygments_lexer": "ipython3",
   "version": "3.12.7"
  }
 },
 "nbformat": 4,
 "nbformat_minor": 2
}
