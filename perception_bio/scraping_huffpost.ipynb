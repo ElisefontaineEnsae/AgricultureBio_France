{
 "cells": [
  {
   "cell_type": "code",
   "execution_count": null,
   "metadata": {
    "vscode": {
     "languageId": "plaintext"
    }
   },
   "outputs": [],
   "source": [
    "from bs4 import BeautifulSoup\n",
    "import requests\n",
    "\n",
    "def scrape_all_page(url):\n",
    "    all_articles = []  # Liste des articles collectés\n",
    "    seen_articles = set()  # Ensemble pour éviter les doublons d'URL\n",
    "\n",
    "    try:\n",
    "        # Envoyer une requête HTTP pour récupérer la page\n",
    "        response = requests.get(url, headers=headers, timeout=10)\n",
    "        if response.status_code == 200:\n",
    "            soup = BeautifulSoup(response.text, 'html.parser')\n",
    "            \n",
    "            # Trouver tous les articles via la classe \"articlePreview-card\"\n",
    "            articles = soup.find_all(\"article\", class_=\"articlePreview-card\")\n",
    "            \n",
    "            for article in articles:\n",
    "                # Extraire le lien de l'article\n",
    "                link_element = article.find(\"a\", class_=\"item-image\")\n",
    "                article_url = f\"https://www.huffingtonpost.fr{link_element['href']}\" if link_element else \"\"\n",
    "\n",
    "                # Extraire le titre\n",
    "                title_element = article.find(\"div\", class_=\"title\")\n",
    "                title_text = title_element.find(\"h2\").get_text(strip=True) if title_element else \"\"\n",
    "\n",
    "                # Extraire la description\n",
    "                description_element = article.find(\"div\", class_=\"articlePreview-chapo\")\n",
    "                description_text = description_element.get_text(strip=True) if description_element else \"\"\n",
    "\n",
    "                # Vérifier si l'article est déjà collecté\n",
    "                if article_url and article_url not in seen_articles:\n",
    "                    all_articles.append([title_text, description_text, article_url])\n",
    "                    seen_articles.add(article_url)\n",
    "\n",
    "            return all_articles\n",
    "\n",
    "        else:\n",
    "            print(f\"Erreur HTTP {response.status_code} lors de l'accès à {url}\")\n",
    "            return []\n",
    "\n",
    "    except requests.RequestException as e:\n",
    "        print(f\"Erreur de requête pour {url}: {e}\")\n",
    "        return []\n"
   ]
  },
  {
   "cell_type": "code",
   "execution_count": null,
   "metadata": {
    "vscode": {
     "languageId": "plaintext"
    }
   },
   "outputs": [],
   "source": [
    "import requests\n",
    "from bs4 import BeautifulSoup\n",
    "\n",
    "# Fonction pour extraire les informations d'un article\n",
    "def fetch_article_details(article_data, headers):\n",
    "    title, summary, url = article_data\n",
    "    try:\n",
    "        response = requests.get(url, headers=headers, timeout=10)\n",
    "        if response.status_code == 200:\n",
    "            soup = BeautifulSoup(response.text, 'html.parser')\n",
    "\n",
    "            # Extraire le titre\n",
    "            title_tag = soup.find('h1', class_='article__title')\n",
    "            title = title_tag.get_text(strip=True) if title_tag else \"Titre non trouvé\"\n",
    "\n",
    "            # Extraire la description (résumé)\n",
    "            summary_tag = soup.find('p', class_='article__desc')\n",
    "            summary = summary_tag.get_text(strip=True) if summary_tag else \"Résumé non trouvé\"\n",
    "\n",
    "            # Extraire la date\n",
    "            date_tag = soup.find(\"span\", class_=\"article-metas__date\")\n",
    "            date = date_tag.get_text(strip=True) if date_tag else \"Date non trouvée\"\n",
    "\n",
    "            # Extraire les paragraphes à partir de la classe 'article__paragraph'\n",
    "            paragraphs = soup.find_all('p', class_='article__paragraph')\n",
    "            paragraph_list = [p.get_text(strip=True) for p in paragraphs]\n",
    "\n",
    "            return {\n",
    "                \"Title\": title,\n",
    "                \"Summary\": summary,\n",
    "                \"Date\": date,\n",
    "                \"Paragraphs\": paragraph_list\n",
    "            }\n",
    "        else:\n",
    "            print(f\"Erreur HTTP {response.status_code} pour {url}\")\n",
    "            return None\n",
    "    except requests.RequestException as e:\n",
    "        print(f\"Erreur de requête pour {url}: {e}\")\n",
    "        return None\n",
    "\n",
    "# Exemple d'utilisation\n",
    "article_data = (\"Titre initial\", \"Résumé initial\", \"https://url-de-l-article.com\")\n",
    "headers = {\n",
    "    \"User-Agent\": \"Mozilla/5.0 (Windows NT 10.0; Win64; x64) AppleWebKit/537.36 (KHTML, like Gecko) Chrome/91.0.4472.124 Safari/537.36\"\n",
    "}\n",
    "\n",
    "article_details = fetch_article_details(article_data, headers)\n",
    "print(article_details)\n"
   ]
  },
  {
   "cell_type": "code",
   "execution_count": null,
   "metadata": {
    "vscode": {
     "languageId": "plaintext"
    }
   },
   "outputs": [],
   "source": [
    "def filter_articles_with_bio(dataset):\n",
    "    filtered_articles = []\n",
    "    total_articles = len(dataset)\n",
    "    \n",
    "    # Initialiser tqdm pour la boucle avec un calcul du temps estimé\n",
    "    start_time = time.time()  # Démarrer le chronomètre\n",
    "    \n",
    "    for i, article in tqdm(enumerate(dataset), total=total_articles, desc=\"Filtrage des articles\", unit=\"article\"):\n",
    "        # Vérifier si le mot \"bio\" est dans le titre ou le résumé\n",
    "        if contains_bio(article[\"Title\"]) or contains_bio(article[\"Summary\"]):\n",
    "            filtered_articles.append(article)\n",
    "        else:\n",
    "            # Vérifier chaque paragraphe si le mot \"bio\" est présent\n",
    "            for paragraph in article[\"Paragraphs\"]:\n",
    "                if contains_bio(paragraph):\n",
    "                    filtered_articles.append(article)\n",
    "                    break\n",
    "        \n",
    "        # Calculer et afficher le temps estimé restant\n",
    "        elapsed_time = time.time() - start_time  # Temps écoulé\n",
    "        progress = (i + 1) / total_articles  # Progression\n",
    "        estimated_time_left = elapsed_time / progress - elapsed_time  # Temps estimé restant\n",
    "        print(f\"\\rProgression : {progress * 100:.2f}% - Temps restant estimé : {estimated_time_left / 60:.2f} minutes\", end=\"\")\n",
    "    \n",
    "    print()  # Pour un retour à la ligne après l'affichage du progrès\n",
    "    return filtered_articles"
   ]
  }
 ],
 "metadata": {
  "language_info": {
   "name": "python"
  }
 },
 "nbformat": 4,
 "nbformat_minor": 2
}
