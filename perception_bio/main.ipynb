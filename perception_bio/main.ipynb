{
 "cells": [
  {
   "cell_type": "code",
   "execution_count": null,
   "metadata": {
    "vscode": {
     "languageId": "plaintext"
    }
   },
   "outputs": [],
   "source": [
    "import pandas as pd"
   ]
  },
  {
   "cell_type": "code",
   "execution_count": null,
   "metadata": {
    "vscode": {
     "languageId": "plaintext"
    }
   },
   "outputs": [],
   "source": [
    "# Lire le CSV result\n",
    "result = pd.read_csv('data_quantitative.csv')\n",
    "\n",
    "# Lire le CSV data_LSA_archive\n",
    "data_LSA = pd.read_csv('data_LSA_archive.csv')\n",
    "\n",
    "# Convertir la colonne Publication_Date en format datetime\n",
    "data_LSA['Publication_Date'] = pd.to_datetime(data_LSA['Publication_Date'])\n",
    "\n",
    "# Extraire le mois et l'année de Publication_Date pour avoir une colonne 'Month_Year'\n",
    "data_LSA['Month_Year'] = data_LSA['Publication_Date'].dt.to_period('M')\n",
    "\n",
    "# Compter le nombre d'articles par mois\n",
    "articles_per_month = data_LSA.groupby('Month_Year').size()\n",
    "\n",
    "# Calculer le nombre total d'articles dans data_LSA\n",
    "total_articles = len(data_LSA)\n",
    "\n",
    "# Ajouter une colonne \"LSA_Articles_Ratio\" dans result\n",
    "# Nous allons faire un merge pour joindre les données d'articles LSA par mois\n",
    "result['Month_Year'] = pd.to_datetime(result['Month_Year'], format='%Y-%m')\n",
    "result['Month_Year'] = result['Month_Year'].dt.to_period('M')\n",
    "\n",
    "# Fusionner avec les articles LSA par mois\n",
    "result = result.merge(articles_per_month, on='Month_Year', how='left')\n",
    "\n",
    "# Calculer le ratio du nombre d'articles LSA par rapport au nombre total d'articles\n",
    "result['LSA_Articles_Ratio'] = result['Month_Year'].map(lambda x: articles_per_month.get(x, 0) / total_articles)\n",
    "\n",
    "# Sauvegarder le DataFrame avec la nouvelle colonne dans un nouveau CSV\n",
    "result.to_csv('data_quantitative.csv', index=False)\n",
    "\n",
    "print(\"Le fichier CSV avec le ratio des articles LSA par mois a été créé avec succès.\")\n"
   ]
  },
  {
   "cell_type": "code",
   "execution_count": null,
   "metadata": {
    "vscode": {
     "languageId": "plaintext"
    }
   },
   "outputs": [],
   "source": [
    "# Lire le CSV data_leMonde\n",
    "data_leMonde = pd.read_csv('data_leMonde.csv')\n",
    "\n",
    "# Convertir la colonne Publication_Date en format datetime\n",
    "data_leMonde['Publication_Date'] = pd.to_datetime(data_leMonde['Publication_Date'])\n",
    "\n",
    "# Extraire le mois et l'année de Publication_Date pour avoir une colonne 'Month_Year'\n",
    "data_leMonde['Month_Year'] = data_leMonde['Publication_Date'].dt.to_period('M')\n",
    "\n",
    "# Compter le nombre d'articles par mois\n",
    "articles_per_month_leMonde = data_leMonde.groupby('Month_Year').size()\n",
    "\n",
    "# Calculer le nombre total d'articles dans data_leMonde\n",
    "total_articles_leMonde = len(data_leMonde)\n",
    "\n",
    "# Ajouter une colonne \"LeMonde_Articles_Ratio\" dans result\n",
    "# Nous allons faire un merge pour joindre les données d'articles LeMonde par mois\n",
    "result['Month_Year'] = pd.to_datetime(result['Month_Year'], format='%Y-%m')\n",
    "result['Month_Year'] = result['Month_Year'].dt.to_period('M')\n",
    "\n",
    "# Fusionner avec les articles LeMonde par mois\n",
    "result = result.merge(articles_per_month_leMonde, on='Month_Year', how='left')\n",
    "\n",
    "# Calculer le ratio du nombre d'articles LeMonde par rapport au nombre total d'articles\n",
    "result['LeMonde_Articles_Ratio'] = result['Month_Year'].map(lambda x: articles_per_month_leMonde.get(x, 0) / total_articles_leMonde)"
   ]
  },
  {
   "cell_type": "code",
   "execution_count": null,
   "metadata": {
    "vscode": {
     "languageId": "plaintext"
    }
   },
   "outputs": [],
   "source": [
    "# Calculer la moyenne des trois colonnes\n",
    "result['Average'] = result[['normalized_min_max', 'LSA_Articles_Ratio', 'LeMonde_Articles_Ratio']].mean(axis=1)\n",
    "\n",
    "# Créer un nouveau DataFrame avec uniquement 'Month_Year' et la moyenne calculée\n",
    "final_result = result[['Month_Year', 'Average']]\n",
    "\n",
    "# Sauvegarder le nouveau DataFrame dans un CSV\n",
    "final_result.to_csv('data_quantitative.csv', index=False)"
   ]
  },
  {
   "cell_type": "code",
   "execution_count": null,
   "metadata": {
    "vscode": {
     "languageId": "plaintext"
    }
   },
   "outputs": [],
   "source": [
    "# Lire les CSV\n",
    "data_LSA = pd.read_csv('data_LSA_archive.csv')\n",
    "data_LeMonde = pd.read_csv('data_LeMonde.csv')\n",
    "data_huffpost = pd.read_csv('data_huffpost.csv')\n",
    "\n",
    "# Convertir les dates dans un format commun (Mois-Annee)\n",
    "# Pour data_LSA, la colonne 'Publication_Date' est au format 'YYYY-MM-DD HH:MM:SS'\n",
    "data_LSA['Publication_Date'] = pd.to_datetime(data_LSA['Publication_Date'])\n",
    "data_LSA['Month_Year'] = data_LSA['Publication_Date'].dt.to_period('M')\n",
    "\n",
    "# Pour data_LeMonde, la colonne 'Date' est au format 'DD-MM-YYYY'\n",
    "data_LeMonde['Date'] = pd.to_datetime(data_LeMonde['Date'], format='%d-%m-%Y')\n",
    "data_LeMonde['Month_Year'] = data_LeMonde['Date'].dt.to_period('M')\n",
    "\n",
    "# Pour data_huffpost, la colonne 'Date' est au format 'DD/MM/YYYY HH:MM'\n",
    "data_huffpost['Date'] = pd.to_datetime(data_huffpost['Date'], format='%d/%m/%Y %H:%M')\n",
    "data_huffpost['Month_Year'] = data_huffpost['Date'].dt.to_period('M')\n",
    "\n",
    "# Calculer la moyenne des Sentiment_Score pour chaque mois dans chaque fichier\n",
    "# Pour data_LSA\n",
    "lsa_avg_sentiment = data_LSA.groupby('Month_Year')['Sentiment_Score'].mean().reset_index()\n",
    "\n",
    "# Pour data_LeMonde\n",
    "lemonde_avg_sentiment = data_LeMonde.groupby('Month_Year')['Average_Sentiment_Score'].mean().reset_index()\n",
    "\n",
    "# Pour data_huffpost\n",
    "huffpost_avg_sentiment = data_huffpost.groupby('Month_Year')['Average_Sentiment_Score'].mean().reset_index()\n",
    "\n",
    "# Fusionner les résultats\n",
    "# Fusionner les 3 DataFrames sur la colonne 'Month_Year'\n",
    "merged = pd.merge(lsa_avg_sentiment, lemonde_avg_sentiment, on='Month_Year', how='outer', suffixes=('_LSA', '_LeMonde'))\n",
    "merged = pd.merge(merged, huffpost_avg_sentiment, on='Month_Year', how='outer')\n",
    "merged.rename(columns={'Average_Sentiment_Score': 'Average_Sentiment_Score_Huffpost'}, inplace=True)\n",
    "\n",
    "# Calculer la moyenne des 3 moyennes de sentiment par mois\n",
    "merged['Average_Sentiment_Score'] = merged[['Sentiment_Score_LSA', 'Average_Sentiment_Score_LeMonde', 'Average_Sentiment_Score_Huffpost']].mean(axis=1)\n",
    "\n",
    "# Créer le fichier CSV final\n",
    "final_result = merged[['Month_Year', 'Average_Sentiment_Score']]\n",
    "\n",
    "# Sauvegarder le CSV final\n",
    "final_result.to_csv('final_sentiment_score_by_month.csv', index=False)\n",
    "\n",
    "print(\"Le fichier final_sentiment_score_by_month.csv a été créé avec succès.\")\n"
   ]
  }
 ],
 "metadata": {
  "language_info": {
   "name": "python"
  }
 },
 "nbformat": 4,
 "nbformat_minor": 2
}
