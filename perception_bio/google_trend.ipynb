{
 "cells": [
  {
   "cell_type": "code",
   "execution_count": 1,
   "metadata": {},
   "outputs": [],
   "source": [
    "from pytrends.request import TrendReq\n",
    "import pandas as pd\n",
    "import numpy as np\n",
    "import matplotlib.pyplot as plt\n",
    "import time"
   ]
  },
  {
   "cell_type": "code",
   "execution_count": 2,
   "metadata": {},
   "outputs": [],
   "source": [
    "\n",
    "pytrends = TrendReq(hl='fr-FR', tz=360)"
   ]
  },
  {
   "cell_type": "code",
   "execution_count": 3,
   "metadata": {},
   "outputs": [],
   "source": [
    "keywords_bio = [\n",
    "    \"agriculture bio\", \n",
    "    \"consommation bio\", \n",
    "    \"produits bio\", \n",
    "    \"aliment bio\", \n",
    "    \"labels bio\", \n",
    "]\n"
   ]
  },
  {
   "cell_type": "code",
   "execution_count": 4,
   "metadata": {},
   "outputs": [],
   "source": [
    "keywords_pesticides = [\n",
    "    \"pesticides\", \n",
    "    \"contamination de l'eau\", \n",
    "    \"herbicides\", \n",
    "    \"qualité de l'eau\", \n",
    "    \"nappes phréatiques contamination\"\n",
    "]\n"
   ]
  },
  {
   "cell_type": "code",
   "execution_count": 7,
   "metadata": {},
   "outputs": [
    {
     "name": "stdout",
     "output_type": "stream",
     "text": [
      "Erreur avec le mot-clé 'agriculture bio': The request failed: Google returned a response with code 429\n",
      "Erreur avec le mot-clé 'consommation bio': The request failed: Google returned a response with code 429\n",
      "Erreur avec le mot-clé 'produits bio': The request failed: Google returned a response with code 429\n",
      "Erreur avec le mot-clé 'aliment bio': The request failed: Google returned a response with code 429\n",
      "Erreur avec le mot-clé 'labels bio': The request failed: Google returned a response with code 429\n"
     ]
    }
   ],
   "source": [
    "for keyword in keywords_bio:\n",
    "    try:\n",
    "        pytrends.build_payload([keyword], geo='FR', timeframe='2022-01-01 2022-12-31')\n",
    "        data = pytrends.interest_by_region(resolution='REGION', inc_low_vol=True)\n",
    "        print(f\"Résultats pour '{keyword}':\")\n",
    "        print(data.head())\n",
    "        time.sleep(30)  # Pause de 5 secondes entre chaque requête\n",
    "    except Exception as e:\n",
    "        print(f\"Erreur avec le mot-clé '{keyword}': {e}\")"
   ]
  },
  {
   "cell_type": "code",
   "execution_count": 6,
   "metadata": {},
   "outputs": [
    {
     "ename": "TooManyRequestsError",
     "evalue": "The request failed: Google returned a response with code 429",
     "output_type": "error",
     "traceback": [
      "\u001b[0;31m---------------------------------------------------------------------------\u001b[0m",
      "\u001b[0;31mTooManyRequestsError\u001b[0m                      Traceback (most recent call last)",
      "Cell \u001b[0;32mIn[6], line 2\u001b[0m\n\u001b[1;32m      1\u001b[0m pytrends\u001b[38;5;241m.\u001b[39mbuild_payload(keywords_pesticides, geo\u001b[38;5;241m=\u001b[39m\u001b[38;5;124m'\u001b[39m\u001b[38;5;124mFR\u001b[39m\u001b[38;5;124m'\u001b[39m, timeframe\u001b[38;5;241m=\u001b[39m\u001b[38;5;124m'\u001b[39m\u001b[38;5;124m2022-01-01 2022-12-31\u001b[39m\u001b[38;5;124m'\u001b[39m)\n\u001b[0;32m----> 2\u001b[0m data_pesticides \u001b[38;5;241m=\u001b[39m \u001b[43mpytrends\u001b[49m\u001b[38;5;241;43m.\u001b[39;49m\u001b[43minterest_by_region\u001b[49m\u001b[43m(\u001b[49m\u001b[43mresolution\u001b[49m\u001b[38;5;241;43m=\u001b[39;49m\u001b[38;5;124;43m'\u001b[39;49m\u001b[38;5;124;43mREGION\u001b[39;49m\u001b[38;5;124;43m'\u001b[39;49m\u001b[43m,\u001b[49m\u001b[43m \u001b[49m\u001b[43minc_low_vol\u001b[49m\u001b[38;5;241;43m=\u001b[39;49m\u001b[38;5;28;43;01mTrue\u001b[39;49;00m\u001b[43m)\u001b[49m\n\u001b[1;32m      3\u001b[0m \u001b[38;5;28mprint\u001b[39m(data_pesticides[keywords_pesticides])\n",
      "File \u001b[0;32m/opt/conda/lib/python3.12/site-packages/pytrends/request.py:340\u001b[0m, in \u001b[0;36mTrendReq.interest_by_region\u001b[0;34m(self, resolution, inc_low_vol, inc_geo_code)\u001b[0m\n\u001b[1;32m    337\u001b[0m region_payload[\u001b[38;5;124m'\u001b[39m\u001b[38;5;124mtz\u001b[39m\u001b[38;5;124m'\u001b[39m] \u001b[38;5;241m=\u001b[39m \u001b[38;5;28mself\u001b[39m\u001b[38;5;241m.\u001b[39mtz\n\u001b[1;32m    339\u001b[0m \u001b[38;5;66;03m# parse returned json\u001b[39;00m\n\u001b[0;32m--> 340\u001b[0m req_json \u001b[38;5;241m=\u001b[39m \u001b[38;5;28;43mself\u001b[39;49m\u001b[38;5;241;43m.\u001b[39;49m\u001b[43m_get_data\u001b[49m\u001b[43m(\u001b[49m\n\u001b[1;32m    341\u001b[0m \u001b[43m    \u001b[49m\u001b[43murl\u001b[49m\u001b[38;5;241;43m=\u001b[39;49m\u001b[43mTrendReq\u001b[49m\u001b[38;5;241;43m.\u001b[39;49m\u001b[43mINTEREST_BY_REGION_URL\u001b[49m\u001b[43m,\u001b[49m\n\u001b[1;32m    342\u001b[0m \u001b[43m    \u001b[49m\u001b[43mmethod\u001b[49m\u001b[38;5;241;43m=\u001b[39;49m\u001b[43mTrendReq\u001b[49m\u001b[38;5;241;43m.\u001b[39;49m\u001b[43mGET_METHOD\u001b[49m\u001b[43m,\u001b[49m\n\u001b[1;32m    343\u001b[0m \u001b[43m    \u001b[49m\u001b[43mtrim_chars\u001b[49m\u001b[38;5;241;43m=\u001b[39;49m\u001b[38;5;241;43m5\u001b[39;49m\u001b[43m,\u001b[49m\n\u001b[1;32m    344\u001b[0m \u001b[43m    \u001b[49m\u001b[43mparams\u001b[49m\u001b[38;5;241;43m=\u001b[39;49m\u001b[43mregion_payload\u001b[49m\u001b[43m,\u001b[49m\n\u001b[1;32m    345\u001b[0m \u001b[43m\u001b[49m\u001b[43m)\u001b[49m\n\u001b[1;32m    346\u001b[0m df \u001b[38;5;241m=\u001b[39m pd\u001b[38;5;241m.\u001b[39mDataFrame(req_json[\u001b[38;5;124m'\u001b[39m\u001b[38;5;124mdefault\u001b[39m\u001b[38;5;124m'\u001b[39m][\u001b[38;5;124m'\u001b[39m\u001b[38;5;124mgeoMapData\u001b[39m\u001b[38;5;124m'\u001b[39m])\n\u001b[1;32m    347\u001b[0m \u001b[38;5;28;01mif\u001b[39;00m (df\u001b[38;5;241m.\u001b[39mempty):\n",
      "File \u001b[0;32m/opt/conda/lib/python3.12/site-packages/pytrends/request.py:159\u001b[0m, in \u001b[0;36mTrendReq._get_data\u001b[0;34m(self, url, method, trim_chars, **kwargs)\u001b[0m\n\u001b[1;32m    157\u001b[0m \u001b[38;5;28;01melse\u001b[39;00m:\n\u001b[1;32m    158\u001b[0m     \u001b[38;5;28;01mif\u001b[39;00m response\u001b[38;5;241m.\u001b[39mstatus_code \u001b[38;5;241m==\u001b[39m status_codes\u001b[38;5;241m.\u001b[39mcodes\u001b[38;5;241m.\u001b[39mtoo_many_requests:\n\u001b[0;32m--> 159\u001b[0m         \u001b[38;5;28;01mraise\u001b[39;00m exceptions\u001b[38;5;241m.\u001b[39mTooManyRequestsError\u001b[38;5;241m.\u001b[39mfrom_response(response)\n\u001b[1;32m    160\u001b[0m     \u001b[38;5;28;01mraise\u001b[39;00m exceptions\u001b[38;5;241m.\u001b[39mResponseError\u001b[38;5;241m.\u001b[39mfrom_response(response)\n",
      "\u001b[0;31mTooManyRequestsError\u001b[0m: The request failed: Google returned a response with code 429"
     ]
    }
   ],
   "source": [
    "pytrends.build_payload(keywords_pesticides, geo='FR', timeframe='2022-01-01 2022-12-31')\n",
    "data_pesticides = pytrends.interest_by_region(resolution='REGION', inc_low_vol=True)\n",
    "print(data_pesticides[keywords_pesticides])\n"
   ]
  },
  {
   "cell_type": "code",
   "execution_count": null,
   "metadata": {},
   "outputs": [],
   "source": [
    "# Préparer les données pour le graphique\n",
    "regions = data_bio_region.index\n",
    "bio_values = data_bio_region['bio']\n",
    "agriculture_bio_values = data_agriculture_bio_region['agriculture biologique']\n",
    "\n",
    "# Construction de la requête pour \"pesticide\"\n",
    "pytrends.build_payload([\"pesticide\"], geo='FR', timeframe='today 12-m')\n",
    "time.sleep(5)  # Pause pour éviter trop de requêtes consécutives\n",
    "data_pesticide_region = pytrends.interest_by_region(resolution='region')\n",
    "\n",
    "# Vérifier si les données ont bien été récupérées pour \"pesticide\"\n",
    "pesticide_values = data_pesticide_region['pesticide']\n",
    "\n",
    "# Définir la position des barres\n",
    "bar_width = 0.25  # Ajuster la largeur des barres pour trois séries\n",
    "index = np.arange(len(regions))\n",
    "\n",
    "# Créer le graphique\n",
    "plt.figure(figsize=(14, 8))\n",
    "\n",
    "# Barres pour \"bio\"\n",
    "plt.barh(index, bio_values, bar_width, label=\"Bio\", color='blue', alpha=0.7)\n",
    "\n",
    "# Barres pour \"agriculture biologique\"\n",
    "plt.barh(index + bar_width, agriculture_bio_values, bar_width, label=\"Agriculture Biologique\", color='green', alpha=0.7)\n",
    "\n",
    "# Barres pour \"pesticide\"\n",
    "plt.barh(index + 2 * bar_width, pesticide_values, bar_width, label=\"Pesticide\", color='red', alpha=0.7)\n",
    "\n",
    "# Ajouter des labels et un titre\n",
    "plt.xlabel(\"Intérêt relatif\", fontsize=12)\n",
    "plt.ylabel(\"Régions\", fontsize=12)\n",
    "plt.title(\"Comparaison des tendances par région : 'bio' vs 'agriculture biologique' vs 'pesticide'\", fontsize=16)\n",
    "plt.yticks(index + bar_width, regions, fontsize=10)\n",
    "plt.legend()\n",
    "\n",
    "# Ajuster l'espace\n",
    "plt.tight_layout()\n",
    "\n",
    "# Affichage du graphique\n",
    "plt.show()\n"
   ]
  }
 ],
 "metadata": {
  "kernelspec": {
   "display_name": "base",
   "language": "python",
   "name": "python3"
  },
  "language_info": {
   "codemirror_mode": {
    "name": "ipython",
    "version": 3
   },
   "file_extension": ".py",
   "mimetype": "text/x-python",
   "name": "python",
   "nbconvert_exporter": "python",
   "pygments_lexer": "ipython3",
   "version": "3.12.7"
  }
 },
 "nbformat": 4,
 "nbformat_minor": 2
}
