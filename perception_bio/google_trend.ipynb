{
 "cells": [
  {
   "cell_type": "code",
   "execution_count": null,
   "metadata": {
    "vscode": {
     "languageId": "plaintext"
    }
   },
   "outputs": [],
   "source": [
    "import numpy as np\n",
    "import matplotlib.pyplot as plt\n",
    "import time\n",
    "\n",
    "# Préparer les données pour le graphique\n",
    "regions = data_bio_region.index\n",
    "bio_values = data_bio_region['bio']\n",
    "agriculture_bio_values = data_agriculture_bio_region['agriculture biologique']\n",
    "\n",
    "# Construction de la requête pour \"pesticide\"\n",
    "pytrends.build_payload([\"pesticide\"], geo='FR', timeframe='today 12-m')\n",
    "time.sleep(5)  # Pause pour éviter trop de requêtes consécutives\n",
    "data_pesticide_region = pytrends.interest_by_region(resolution='region')\n",
    "\n",
    "# Vérifier si les données ont bien été récupérées pour \"pesticide\"\n",
    "pesticide_values = data_pesticide_region['pesticide']\n",
    "\n",
    "# Définir la position des barres\n",
    "bar_width = 0.25  # Ajuster la largeur des barres pour trois séries\n",
    "index = np.arange(len(regions))\n",
    "\n",
    "# Créer le graphique\n",
    "plt.figure(figsize=(14, 8))\n",
    "\n",
    "# Barres pour \"bio\"\n",
    "plt.barh(index, bio_values, bar_width, label=\"Bio\", color='blue', alpha=0.7)\n",
    "\n",
    "# Barres pour \"agriculture biologique\"\n",
    "plt.barh(index + bar_width, agriculture_bio_values, bar_width, label=\"Agriculture Biologique\", color='green', alpha=0.7)\n",
    "\n",
    "# Barres pour \"pesticide\"\n",
    "plt.barh(index + 2 * bar_width, pesticide_values, bar_width, label=\"Pesticide\", color='red', alpha=0.7)\n",
    "\n",
    "# Ajouter des labels et un titre\n",
    "plt.xlabel(\"Intérêt relatif\", fontsize=12)\n",
    "plt.ylabel(\"Régions\", fontsize=12)\n",
    "plt.title(\"Comparaison des tendances par région : 'bio' vs 'agriculture biologique' vs 'pesticide'\", fontsize=16)\n",
    "plt.yticks(index + bar_width, regions, fontsize=10)\n",
    "plt.legend()\n",
    "\n",
    "# Ajuster l'espace\n",
    "plt.tight_layout()\n",
    "\n",
    "# Affichage du graphique\n",
    "plt.show()\n"
   ]
  }
 ],
 "metadata": {
  "language_info": {
   "name": "python"
  }
 },
 "nbformat": 4,
 "nbformat_minor": 2
}
